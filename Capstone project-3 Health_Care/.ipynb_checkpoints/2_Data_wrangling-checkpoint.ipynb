{
 "cells": [
  {
   "cell_type": "markdown",
   "metadata": {},
   "source": [
    "# Sentiment Analysis of Health Tweets -- Data Wangling\n",
    "\n",
    "## Introduction\n",
    "\n",
    "This notebook goes through data cleaning step of this project. \n",
    "\n",
    "Specifically, I'll be walking through:\n",
    "\n",
    "1. **Regular data cleaning**\n",
    "   - NA data\n",
    "   - Duplicates\n",
    "   - Change the type of some columns\n",
    "2. **Text data cleaning** \n",
    "   - Make text all lower case\n",
    "   - Removing URLs\n",
    "   - Remove punctuation\n",
    "   - Remove common non-sensical text (\\n)\n",
    "   - Remove the emoji\n",
    "   - Remove stopwords\n",
    "\n",
    "\n",
    "## Problem Statement\n",
    "Health is one of  the most important things in our life. But different people have different concerns about their health. \n",
    "\n",
    "The goal of this project is to know what type of health people are concerned about more, and apply the sentiment analysis to check how negative they think about their health, and how much time they cost on their health.\n",
    "\n",
    "## Loading the data\n"
   ]
  },
  {
   "cell_type": "code",
   "execution_count": 1,
   "metadata": {},
   "outputs": [],
   "source": [
    "#load python packages\n",
    "import os\n",
    "import pandas as pd\n",
    "import datetime\n",
    "import time\n",
    "import seaborn as sns\n",
    "import matplotlib.pyplot as plt\n",
    "import numpy as np\n",
    "import re\n",
    "import string\n",
    "from datetime import datetime\n",
    "from nltk.corpus import stopwords\n",
    "import nltk\n",
    "from collections import Counter\n",
    "%matplotlib inline"
   ]
  },
  {
   "cell_type": "code",
   "execution_count": 2,
   "metadata": {
    "scrolled": true
   },
   "outputs": [],
   "source": [
    "# Load all datasets\n",
    "df_1 = pd.read_csv('data/20201110_220931_health_tweets.csv')\n",
    "df_2 = pd.read_csv('data/20201111_065943_health_tweets.csv')\n",
    "df_3 = pd.read_csv('data/20201111_143013_health_tweets.csv')\n",
    "df_4 = pd.read_csv('data/20201112_030746_health_tweets.csv')\n",
    "df_5 = pd.read_csv('data/20201112_113022_health_tweets.csv')\n",
    "df_6 = pd.read_csv('data/20201112_230533_health_tweets.csv')\n",
    "df_7 = pd.read_csv('data/20201113_071344_health_tweets.csv')"
   ]
  },
  {
   "cell_type": "code",
   "execution_count": 3,
   "metadata": {},
   "outputs": [
    {
     "data": {
      "text/html": [
       "<div>\n",
       "<style scoped>\n",
       "    .dataframe tbody tr th:only-of-type {\n",
       "        vertical-align: middle;\n",
       "    }\n",
       "\n",
       "    .dataframe tbody tr th {\n",
       "        vertical-align: top;\n",
       "    }\n",
       "\n",
       "    .dataframe thead th {\n",
       "        text-align: right;\n",
       "    }\n",
       "</style>\n",
       "<table border=\"1\" class=\"dataframe\">\n",
       "  <thead>\n",
       "    <tr style=\"text-align: right;\">\n",
       "      <th></th>\n",
       "      <th>user_name</th>\n",
       "      <th>user_description</th>\n",
       "      <th>user_location</th>\n",
       "      <th>tweetID</th>\n",
       "      <th>date</th>\n",
       "      <th>text</th>\n",
       "    </tr>\n",
       "  </thead>\n",
       "  <tbody>\n",
       "    <tr>\n",
       "      <th>0</th>\n",
       "      <td>mirasenthirajah</td>\n",
       "      <td>NaN</td>\n",
       "      <td>NaN</td>\n",
       "      <td>1323776974372831232</td>\n",
       "      <td>2020-11-03 23:59:59</td>\n",
       "      <td>anxiety on x games mode 😳</td>\n",
       "    </tr>\n",
       "    <tr>\n",
       "      <th>1</th>\n",
       "      <td>HonniMX</td>\n",
       "      <td>Monsta X💙\\nOnlyMbb👑❤\\n14-5-19\\n💙Cuenta dedicad...</td>\n",
       "      <td>NaN</td>\n",
       "      <td>1323776974129684484</td>\n",
       "      <td>2020-11-03 23:59:59</td>\n",
       "      <td>@OfficialMonstaX\\nOh i'm sorry      did i make...</td>\n",
       "    </tr>\n",
       "    <tr>\n",
       "      <th>2</th>\n",
       "      <td>truenene</td>\n",
       "      <td>📣||JESUS IS COMING BACK FOR REAL📣|| WWE &amp; Mess...</td>\n",
       "      <td>Southpark</td>\n",
       "      <td>1323776973685010435</td>\n",
       "      <td>2020-11-03 23:59:59</td>\n",
       "      <td>The way some of you dey see your body for this...</td>\n",
       "    </tr>\n",
       "    <tr>\n",
       "      <th>3</th>\n",
       "      <td>Valcore_</td>\n",
       "      <td>Avid soysauce drinker | Blender Artist | PFP b...</td>\n",
       "      <td>Florida, USA</td>\n",
       "      <td>1323776973240487938</td>\n",
       "      <td>2020-11-03 23:59:59</td>\n",
       "      <td>@ewjulii Count the ways Funtime Freddy doing t...</td>\n",
       "    </tr>\n",
       "    <tr>\n",
       "      <th>4</th>\n",
       "      <td>JoanaBCT</td>\n",
       "      <td>Mbb Ot7, Monwenee  Forever 🐶🐹🐻🐢🐝 🐺🐰, 🧡💛💚💙💜🖤♥️</td>\n",
       "      <td>Monbebe 💖</td>\n",
       "      <td>1323776972615462912</td>\n",
       "      <td>2020-11-03 23:59:59</td>\n",
       "      <td>@MX_7Mention @OfficialMonstaX @official__wonho...</td>\n",
       "    </tr>\n",
       "  </tbody>\n",
       "</table>\n",
       "</div>"
      ],
      "text/plain": [
       "         user_name                                   user_description  \\\n",
       "0  mirasenthirajah                                                NaN   \n",
       "1          HonniMX  Monsta X💙\\nOnlyMbb👑❤\\n14-5-19\\n💙Cuenta dedicad...   \n",
       "2         truenene  📣||JESUS IS COMING BACK FOR REAL📣|| WWE & Mess...   \n",
       "3         Valcore_  Avid soysauce drinker | Blender Artist | PFP b...   \n",
       "4         JoanaBCT      Mbb Ot7, Monwenee  Forever 🐶🐹🐻🐢🐝 🐺🐰, 🧡💛💚💙💜🖤♥️   \n",
       "\n",
       "  user_location              tweetID                 date  \\\n",
       "0           NaN  1323776974372831232  2020-11-03 23:59:59   \n",
       "1           NaN  1323776974129684484  2020-11-03 23:59:59   \n",
       "2     Southpark  1323776973685010435  2020-11-03 23:59:59   \n",
       "3  Florida, USA  1323776973240487938  2020-11-03 23:59:59   \n",
       "4     Monbebe 💖  1323776972615462912  2020-11-03 23:59:59   \n",
       "\n",
       "                                                text  \n",
       "0                          anxiety on x games mode 😳  \n",
       "1  @OfficialMonstaX\\nOh i'm sorry      did i make...  \n",
       "2  The way some of you dey see your body for this...  \n",
       "3  @ewjulii Count the ways Funtime Freddy doing t...  \n",
       "4  @MX_7Mention @OfficialMonstaX @official__wonho...  "
      ]
     },
     "execution_count": 3,
     "metadata": {},
     "output_type": "execute_result"
    }
   ],
   "source": [
    "# merge all datasets to one\n",
    "frames = [df_1, df_2, df_3, df_4, df_5, df_6, df_7] \n",
    "df = pd.concat(frames)\n",
    "df.head()"
   ]
  },
  {
   "cell_type": "code",
   "execution_count": 4,
   "metadata": {},
   "outputs": [
    {
     "name": "stdout",
     "output_type": "stream",
     "text": [
      "<class 'pandas.core.frame.DataFrame'>\n",
      "Int64Index: 472500 entries, 0 to 67499\n",
      "Data columns (total 6 columns):\n",
      " #   Column            Non-Null Count   Dtype \n",
      "---  ------            --------------   ----- \n",
      " 0   user_name         472500 non-null  object\n",
      " 1   user_description  414194 non-null  object\n",
      " 2   user_location     322606 non-null  object\n",
      " 3   tweetID           472500 non-null  int64 \n",
      " 4   date              472500 non-null  object\n",
      " 5   text              472500 non-null  object\n",
      "dtypes: int64(1), object(5)\n",
      "memory usage: 25.2+ MB\n"
     ]
    }
   ],
   "source": [
    "df.info()"
   ]
  },
  {
   "cell_type": "markdown",
   "metadata": {},
   "source": [
    "There are null values in user_description and user_location, but for this project we don't need this features. Let's select the features I will be working on."
   ]
  },
  {
   "cell_type": "code",
   "execution_count": 5,
   "metadata": {},
   "outputs": [
    {
     "data": {
      "text/html": [
       "<div>\n",
       "<style scoped>\n",
       "    .dataframe tbody tr th:only-of-type {\n",
       "        vertical-align: middle;\n",
       "    }\n",
       "\n",
       "    .dataframe tbody tr th {\n",
       "        vertical-align: top;\n",
       "    }\n",
       "\n",
       "    .dataframe thead th {\n",
       "        text-align: right;\n",
       "    }\n",
       "</style>\n",
       "<table border=\"1\" class=\"dataframe\">\n",
       "  <thead>\n",
       "    <tr style=\"text-align: right;\">\n",
       "      <th></th>\n",
       "      <th>user_name</th>\n",
       "      <th>date</th>\n",
       "      <th>text</th>\n",
       "    </tr>\n",
       "  </thead>\n",
       "  <tbody>\n",
       "    <tr>\n",
       "      <th>0</th>\n",
       "      <td>mirasenthirajah</td>\n",
       "      <td>2020-11-03 23:59:59</td>\n",
       "      <td>anxiety on x games mode 😳</td>\n",
       "    </tr>\n",
       "    <tr>\n",
       "      <th>1</th>\n",
       "      <td>HonniMX</td>\n",
       "      <td>2020-11-03 23:59:59</td>\n",
       "      <td>@OfficialMonstaX\\nOh i'm sorry      did i make...</td>\n",
       "    </tr>\n",
       "    <tr>\n",
       "      <th>2</th>\n",
       "      <td>truenene</td>\n",
       "      <td>2020-11-03 23:59:59</td>\n",
       "      <td>The way some of you dey see your body for this...</td>\n",
       "    </tr>\n",
       "    <tr>\n",
       "      <th>3</th>\n",
       "      <td>Valcore_</td>\n",
       "      <td>2020-11-03 23:59:59</td>\n",
       "      <td>@ewjulii Count the ways Funtime Freddy doing t...</td>\n",
       "    </tr>\n",
       "    <tr>\n",
       "      <th>4</th>\n",
       "      <td>JoanaBCT</td>\n",
       "      <td>2020-11-03 23:59:59</td>\n",
       "      <td>@MX_7Mention @OfficialMonstaX @official__wonho...</td>\n",
       "    </tr>\n",
       "  </tbody>\n",
       "</table>\n",
       "</div>"
      ],
      "text/plain": [
       "         user_name                 date  \\\n",
       "0  mirasenthirajah  2020-11-03 23:59:59   \n",
       "1          HonniMX  2020-11-03 23:59:59   \n",
       "2         truenene  2020-11-03 23:59:59   \n",
       "3         Valcore_  2020-11-03 23:59:59   \n",
       "4         JoanaBCT  2020-11-03 23:59:59   \n",
       "\n",
       "                                                text  \n",
       "0                          anxiety on x games mode 😳  \n",
       "1  @OfficialMonstaX\\nOh i'm sorry      did i make...  \n",
       "2  The way some of you dey see your body for this...  \n",
       "3  @ewjulii Count the ways Funtime Freddy doing t...  \n",
       "4  @MX_7Mention @OfficialMonstaX @official__wonho...  "
      ]
     },
     "execution_count": 5,
     "metadata": {},
     "output_type": "execute_result"
    }
   ],
   "source": [
    "# let's select the needed columns\n",
    "needed_columns = ['user_name', 'date', 'text']\n",
    "df = df[needed_columns]\n",
    "df.head()"
   ]
  },
  {
   "cell_type": "markdown",
   "metadata": {},
   "source": [
    "### Check the duplicate rows\n",
    "You can see there are a lot of duplicate rows, so I need to delete those duplicate rows."
   ]
  },
  {
   "cell_type": "code",
   "execution_count": 6,
   "metadata": {},
   "outputs": [
    {
     "data": {
      "text/html": [
       "<div>\n",
       "<style scoped>\n",
       "    .dataframe tbody tr th:only-of-type {\n",
       "        vertical-align: middle;\n",
       "    }\n",
       "\n",
       "    .dataframe tbody tr th {\n",
       "        vertical-align: top;\n",
       "    }\n",
       "\n",
       "    .dataframe thead th {\n",
       "        text-align: right;\n",
       "    }\n",
       "</style>\n",
       "<table border=\"1\" class=\"dataframe\">\n",
       "  <thead>\n",
       "    <tr style=\"text-align: right;\">\n",
       "      <th></th>\n",
       "      <th>user_name</th>\n",
       "      <th>date</th>\n",
       "      <th>text</th>\n",
       "    </tr>\n",
       "  </thead>\n",
       "  <tbody>\n",
       "    <tr>\n",
       "      <th>2500</th>\n",
       "      <td>mirasenthirajah</td>\n",
       "      <td>2020-11-03 23:59:59</td>\n",
       "      <td>anxiety on x games mode 😳</td>\n",
       "    </tr>\n",
       "    <tr>\n",
       "      <th>2501</th>\n",
       "      <td>HonniMX</td>\n",
       "      <td>2020-11-03 23:59:59</td>\n",
       "      <td>@OfficialMonstaX\\nOh i'm sorry      did i make...</td>\n",
       "    </tr>\n",
       "    <tr>\n",
       "      <th>2502</th>\n",
       "      <td>truenene</td>\n",
       "      <td>2020-11-03 23:59:59</td>\n",
       "      <td>The way some of you dey see your body for this...</td>\n",
       "    </tr>\n",
       "    <tr>\n",
       "      <th>2503</th>\n",
       "      <td>Valcore_</td>\n",
       "      <td>2020-11-03 23:59:59</td>\n",
       "      <td>@ewjulii Count the ways Funtime Freddy doing t...</td>\n",
       "    </tr>\n",
       "    <tr>\n",
       "      <th>2504</th>\n",
       "      <td>JoanaBCT</td>\n",
       "      <td>2020-11-03 23:59:59</td>\n",
       "      <td>@MX_7Mention @OfficialMonstaX @official__wonho...</td>\n",
       "    </tr>\n",
       "    <tr>\n",
       "      <th>...</th>\n",
       "      <td>...</td>\n",
       "      <td>...</td>\n",
       "      <td>...</td>\n",
       "    </tr>\n",
       "    <tr>\n",
       "      <th>67494</th>\n",
       "      <td>thepotatsaIad</td>\n",
       "      <td>2020-11-09 23:56:33</td>\n",
       "      <td>@CireFlame @nytimes https://t.co/SK9hpYIHsb  i...</td>\n",
       "    </tr>\n",
       "    <tr>\n",
       "      <th>67495</th>\n",
       "      <td>MadnessTouch</td>\n",
       "      <td>2020-11-09 23:56:33</td>\n",
       "      <td>Imma be honest I literally know 3or 4 mufos. I...</td>\n",
       "    </tr>\n",
       "    <tr>\n",
       "      <th>67496</th>\n",
       "      <td>rob_stayton</td>\n",
       "      <td>2020-11-09 23:56:33</td>\n",
       "      <td>\"Today is a really historic day in the history...</td>\n",
       "    </tr>\n",
       "    <tr>\n",
       "      <th>67497</th>\n",
       "      <td>australiawhisky</td>\n",
       "      <td>2020-11-09 23:56:33</td>\n",
       "      <td>@doorsausage @profesterman On balance though N...</td>\n",
       "    </tr>\n",
       "    <tr>\n",
       "      <th>67498</th>\n",
       "      <td>madepilita</td>\n",
       "      <td>2020-11-09 23:56:32</td>\n",
       "      <td>Less than 1-week after the election, Dr. Antho...</td>\n",
       "    </tr>\n",
       "  </tbody>\n",
       "</table>\n",
       "<p>326454 rows × 3 columns</p>\n",
       "</div>"
      ],
      "text/plain": [
       "             user_name                 date  \\\n",
       "2500   mirasenthirajah  2020-11-03 23:59:59   \n",
       "2501           HonniMX  2020-11-03 23:59:59   \n",
       "2502          truenene  2020-11-03 23:59:59   \n",
       "2503          Valcore_  2020-11-03 23:59:59   \n",
       "2504          JoanaBCT  2020-11-03 23:59:59   \n",
       "...                ...                  ...   \n",
       "67494    thepotatsaIad  2020-11-09 23:56:33   \n",
       "67495     MadnessTouch  2020-11-09 23:56:33   \n",
       "67496      rob_stayton  2020-11-09 23:56:33   \n",
       "67497  australiawhisky  2020-11-09 23:56:33   \n",
       "67498       madepilita  2020-11-09 23:56:32   \n",
       "\n",
       "                                                    text  \n",
       "2500                           anxiety on x games mode 😳  \n",
       "2501   @OfficialMonstaX\\nOh i'm sorry      did i make...  \n",
       "2502   The way some of you dey see your body for this...  \n",
       "2503   @ewjulii Count the ways Funtime Freddy doing t...  \n",
       "2504   @MX_7Mention @OfficialMonstaX @official__wonho...  \n",
       "...                                                  ...  \n",
       "67494  @CireFlame @nytimes https://t.co/SK9hpYIHsb  i...  \n",
       "67495  Imma be honest I literally know 3or 4 mufos. I...  \n",
       "67496  \"Today is a really historic day in the history...  \n",
       "67497  @doorsausage @profesterman On balance though N...  \n",
       "67498  Less than 1-week after the election, Dr. Antho...  \n",
       "\n",
       "[326454 rows x 3 columns]"
      ]
     },
     "execution_count": 6,
     "metadata": {},
     "output_type": "execute_result"
    }
   ],
   "source": [
    "duplicateRowsDF = df[df.duplicated()]\n",
    "duplicateRowsDF"
   ]
  },
  {
   "cell_type": "code",
   "execution_count": 7,
   "metadata": {},
   "outputs": [
    {
     "name": "stdout",
     "output_type": "stream",
     "text": [
      "<class 'pandas.core.frame.DataFrame'>\n",
      "RangeIndex: 146046 entries, 0 to 146045\n",
      "Data columns (total 3 columns):\n",
      " #   Column     Non-Null Count   Dtype \n",
      "---  ------     --------------   ----- \n",
      " 0   user_name  146046 non-null  object\n",
      " 1   date       146046 non-null  object\n",
      " 2   text       146046 non-null  object\n",
      "dtypes: object(3)\n",
      "memory usage: 3.3+ MB\n"
     ]
    }
   ],
   "source": [
    "# Remove the duplicate rows\n",
    "df = df.drop_duplicates()\n",
    "df = df.reset_index(drop=True)\n",
    "df.info()"
   ]
  },
  {
   "cell_type": "markdown",
   "metadata": {},
   "source": [
    "Here, we got big amount of duplicate rows, that's probably because one tweet includes more keywords and extract multiple time. I got 146,046 tweets after dropping the duplicate rows. The final amount of tweets should be enough to do analysis."
   ]
  },
  {
   "cell_type": "markdown",
   "metadata": {},
   "source": [
    "### Change the type of some columns"
   ]
  },
  {
   "cell_type": "code",
   "execution_count": 8,
   "metadata": {},
   "outputs": [
    {
     "data": {
      "text/html": [
       "<div>\n",
       "<style scoped>\n",
       "    .dataframe tbody tr th:only-of-type {\n",
       "        vertical-align: middle;\n",
       "    }\n",
       "\n",
       "    .dataframe tbody tr th {\n",
       "        vertical-align: top;\n",
       "    }\n",
       "\n",
       "    .dataframe thead th {\n",
       "        text-align: right;\n",
       "    }\n",
       "</style>\n",
       "<table border=\"1\" class=\"dataframe\">\n",
       "  <thead>\n",
       "    <tr style=\"text-align: right;\">\n",
       "      <th></th>\n",
       "      <th>user_name</th>\n",
       "      <th>date</th>\n",
       "      <th>text</th>\n",
       "    </tr>\n",
       "  </thead>\n",
       "  <tbody>\n",
       "    <tr>\n",
       "      <th>0</th>\n",
       "      <td>104885</td>\n",
       "      <td>2020-11-03</td>\n",
       "      <td>anxiety on x games mode 😳</td>\n",
       "    </tr>\n",
       "    <tr>\n",
       "      <th>1</th>\n",
       "      <td>23653</td>\n",
       "      <td>2020-11-03</td>\n",
       "      <td>@OfficialMonstaX\\nOh i'm sorry      did i make...</td>\n",
       "    </tr>\n",
       "    <tr>\n",
       "      <th>2</th>\n",
       "      <td>126001</td>\n",
       "      <td>2020-11-03</td>\n",
       "      <td>The way some of you dey see your body for this...</td>\n",
       "    </tr>\n",
       "    <tr>\n",
       "      <th>3</th>\n",
       "      <td>57974</td>\n",
       "      <td>2020-11-03</td>\n",
       "      <td>@ewjulii Count the ways Funtime Freddy doing t...</td>\n",
       "    </tr>\n",
       "    <tr>\n",
       "      <th>4</th>\n",
       "      <td>27889</td>\n",
       "      <td>2020-11-03</td>\n",
       "      <td>@MX_7Mention @OfficialMonstaX @official__wonho...</td>\n",
       "    </tr>\n",
       "  </tbody>\n",
       "</table>\n",
       "</div>"
      ],
      "text/plain": [
       "   user_name        date                                               text\n",
       "0     104885  2020-11-03                          anxiety on x games mode 😳\n",
       "1      23653  2020-11-03  @OfficialMonstaX\\nOh i'm sorry      did i make...\n",
       "2     126001  2020-11-03  The way some of you dey see your body for this...\n",
       "3      57974  2020-11-03  @ewjulii Count the ways Funtime Freddy doing t...\n",
       "4      27889  2020-11-03  @MX_7Mention @OfficialMonstaX @official__wonho..."
      ]
     },
     "execution_count": 8,
     "metadata": {},
     "output_type": "execute_result"
    }
   ],
   "source": [
    "# change the type of some columns\n",
    "df.user_name = df.user_name.astype('category')\n",
    "df.user_name = df.user_name.cat.codes\n",
    "\n",
    "df.date = pd.to_datetime(df.date).dt.date\n",
    "df.head()"
   ]
  },
  {
   "cell_type": "code",
   "execution_count": 9,
   "metadata": {},
   "outputs": [
    {
     "data": {
      "text/plain": [
       "(146046, 3)"
      ]
     },
     "execution_count": 9,
     "metadata": {},
     "output_type": "execute_result"
    }
   ],
   "source": [
    "df.shape"
   ]
  },
  {
   "cell_type": "markdown",
   "metadata": {},
   "source": [
    "## Data cleaning\n",
    "Data cleaning steps on all text:\n",
    "- Make text all lower case\n",
    "- Removing URLs\n",
    "- Remove punctuation\n",
    "- Remove words containing numbers\n",
    "- Remove common non-sensical text (\\n)\n",
    "- Remove the emoji\n",
    "- Remove stopwords"
   ]
  },
  {
   "cell_type": "code",
   "execution_count": 10,
   "metadata": {},
   "outputs": [],
   "source": [
    "# create emoji pattern\n",
    "#emoji_pattern = re.compile(pattern = \"[\"\n",
    "#        u\"\\U0001F600-\\U0001F64F\"  # emoticons\n",
    "#        u\"\\U0001F300-\\U0001F5FF\"  # symbols & pictographs\n",
    "#        u\"\\U0001F680-\\U0001F6FF\"  # transport & map symbols\n",
    "#        u\"\\U0001F1E0-\\U0001F1FF\"  # flags (iOS)\n",
    "#        u\"\\U00002500-\\U00002BEF\"  # chinese char\n",
    "#        u\"\\U00002702-\\U000027B0\"\n",
    "#        u\"\\U00002702-\\U000027B0\"\n",
    "#        u\"\\U000024C2-\\U0001F251\"\n",
    "#        u\"\\U0001f926-\\U0001f937\"\n",
    "#        u\"\\U00010000-\\U0010ffff\"\n",
    "#        u\"\\u2640-\\u2642\"\n",
    "#        u\"\\u2600-\\u2B55\"\n",
    "#        u\"\\u200d\"\n",
    "#        u\"\\u23cf\"\n",
    "#        u\"\\u23e9\"\n",
    "#        u\"\\u231a\"\n",
    "#        u\"\\ufe0f\"  # dingbats\n",
    "#        u\"\\u3030\"\n",
    "#                           \"]+\", flags = re.UNICODE)\n",
    "\n",
    "# Get the stopwords\n",
    "stop_words = set(stopwords.words('English'))\n",
    "\n",
    "def clean_text(text):\n",
    "    \n",
    "    text = re.sub(r'https\\S+', '', text) # removing URLs\n",
    "    text = text.lower() # make text lowercase\n",
    "    text = ' '.join([word for word in text.split() if word not in stop_words]) # remove stopwords\n",
    "    text = text.translate(str.maketrans('','',string.punctuation)) # remove punctuation\n",
    "#    text = emoji_pattern.sub(r'', text) # remove emoji\n",
    "    text = re.sub('\\n', '', text) #remove common non-sensical text (\\n)\n",
    "    \n",
    "    return text\n",
    "\n",
    "clean = lambda x: clean_text(x)"
   ]
  },
  {
   "cell_type": "code",
   "execution_count": 11,
   "metadata": {},
   "outputs": [
    {
     "data": {
      "text/plain": [
       "0                                    anxiety x games mode 😳\n",
       "1                  officialmonstax oh im sorry make anxious\n",
       "2           way dey see body app top deɛ asɛ mo nta mpo kai\n",
       "3         ewjulii count ways funtime freddy whip nae nae...\n",
       "4         mx7mention officialmonstax officialwonho love ...\n",
       "                                ...                        \n",
       "146041    imma honest literally know 3or 4 mufos would w...\n",
       "146042    today really historic day history public healt...\n",
       "146043    doorsausage profesterman balance though nsw ha...\n",
       "146044    less 1week election dr anthony fauci says news...\n",
       "146045    ill make official post tomorrow ab unf spree w...\n",
       "Name: text, Length: 146046, dtype: object"
      ]
     },
     "execution_count": 11,
     "metadata": {},
     "output_type": "execute_result"
    }
   ],
   "source": [
    "# Let's take a look at the updated text\n",
    "df['text'] = df.text.apply(clean)\n",
    "df.text"
   ]
  },
  {
   "cell_type": "markdown",
   "metadata": {},
   "source": [
    "Let's stop cleaning for now. We can come back to do more cleaning if the results don't make sense. \n"
   ]
  },
  {
   "cell_type": "markdown",
   "metadata": {},
   "source": [
    "### Export data to a new csv file "
   ]
  },
  {
   "cell_type": "code",
   "execution_count": 12,
   "metadata": {},
   "outputs": [],
   "source": [
    "# save the clean data for later use\n",
    "df.to_csv('data/clean_data.csv')"
   ]
  },
  {
   "cell_type": "code",
   "execution_count": null,
   "metadata": {},
   "outputs": [],
   "source": []
  }
 ],
 "metadata": {
  "kernelspec": {
   "display_name": "Python 3",
   "language": "python",
   "name": "python3"
  },
  "language_info": {
   "codemirror_mode": {
    "name": "ipython",
    "version": 3
   },
   "file_extension": ".py",
   "mimetype": "text/x-python",
   "name": "python",
   "nbconvert_exporter": "python",
   "pygments_lexer": "ipython3",
   "version": "3.7.6"
  }
 },
 "nbformat": 4,
 "nbformat_minor": 4
}
