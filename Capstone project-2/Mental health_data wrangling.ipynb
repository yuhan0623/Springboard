{
 "cells": [
  {
   "cell_type": "markdown",
   "metadata": {},
   "source": [
    "# Capstone project 2: Mental Health\n",
    "\n",
    "## Introduction\n",
    "\n",
    "The mental illness impacts our life in all directions and is a very common illness in the world. I came across a Mental health Depression disorder Data on Data.world. Here, I will walk through the dataset, try to understand the how different type of mental health related to each other, how mental health related to suicide and economics. \n",
    "Data source: https://data.world/vizzup/mental-health-depression-disorder-data."
   ]
  },
  {
   "cell_type": "markdown",
   "metadata": {},
   "source": [
    "## Data Collection & Organization"
   ]
  },
  {
   "cell_type": "code",
   "execution_count": 1,
   "metadata": {},
   "outputs": [],
   "source": [
    "# load the needed packages\n",
    "import numpy as np \n",
    "import pandas as pd \n",
    "import matplotlib.pyplot as plt\n",
    "import seaborn as sns\n",
    "import os\n",
    "import datetime"
   ]
  },
  {
   "cell_type": "code",
   "execution_count": 2,
   "metadata": {},
   "outputs": [],
   "source": [
    "path = os.getcwd()"
   ]
  },
  {
   "cell_type": "code",
   "execution_count": 3,
   "metadata": {},
   "outputs": [
    {
     "name": "stdout",
     "output_type": "stream",
     "text": [
      "The current working directory is C:\\Users\\yuhan\\Desktop\\Springboard\\Capstone project-2\n"
     ]
    }
   ],
   "source": [
    "print (\"The current working directory is %s\" % path)"
   ]
  },
  {
   "cell_type": "code",
   "execution_count": 4,
   "metadata": {},
   "outputs": [],
   "source": [
    "# Create subfolders in the project directory\n",
    "if not os.path.exists('data'):\n",
    "    os.makedirs('data')\n",
    "    \n",
    "if not os.path.exists('figures'):\n",
    "    os.makedirs('figures')\n",
    "\n",
    "if not os.path.exists('models'):\n",
    "    os.makedirs('models')"
   ]
  },
  {
   "cell_type": "code",
   "execution_count": 5,
   "metadata": {},
   "outputs": [
    {
     "data": {
      "text/plain": [
       "['.ipynb_checkpoints',\n",
       " 'data',\n",
       " 'figures',\n",
       " 'Mental health Depression disorder Data.xlsx',\n",
       " 'Mental health_1',\n",
       " 'Mental health_capstone 2_data wrangling.ipynb',\n",
       " 'models',\n",
       " '~$Mental health Depression disorder Data.xlsx']"
      ]
     },
     "execution_count": 5,
     "metadata": {},
     "output_type": "execute_result"
    }
   ],
   "source": [
    "os.listdir()"
   ]
  },
  {
   "cell_type": "markdown",
   "metadata": {},
   "source": [
    "### Load the data from the excel file"
   ]
  },
  {
   "cell_type": "code",
   "execution_count": 6,
   "metadata": {},
   "outputs": [
    {
     "data": {
      "text/plain": [
       "['prevalence-by-mental-and-substa',\n",
       " 'depression-by-level-of-educatio',\n",
       " 'prevalence-of-depression-by-age',\n",
       " 'prevalence-of-depression-males-',\n",
       " 'suicide-rates-vs-prevalence-of-',\n",
       " 'number-with-depression-by-count']"
      ]
     },
     "execution_count": 6,
     "metadata": {},
     "output_type": "execute_result"
    }
   ],
   "source": [
    "xls = pd.ExcelFile('Mental health Depression disorder Data.xlsx')\n",
    "xls.sheet_names"
   ]
  },
  {
   "cell_type": "markdown",
   "metadata": {},
   "source": [
    "## Data Definition & Cleaning"
   ]
  },
  {
   "cell_type": "markdown",
   "metadata": {},
   "source": [
    "#### Load Mental and substance use disorders data\n",
    "This data includes a range of disorders including depression, anxiety, bipolar, eating disorders, schizophrenia, and alcohol and drug use disorders."
   ]
  },
  {
   "cell_type": "code",
   "execution_count": 7,
   "metadata": {},
   "outputs": [],
   "source": [
    "df1_types = pd.read_excel(xls, 'prevalence-by-mental-and-substa')"
   ]
  },
  {
   "cell_type": "code",
   "execution_count": 8,
   "metadata": {},
   "outputs": [
    {
     "data": {
      "text/html": [
       "<div>\n",
       "<style scoped>\n",
       "    .dataframe tbody tr th:only-of-type {\n",
       "        vertical-align: middle;\n",
       "    }\n",
       "\n",
       "    .dataframe tbody tr th {\n",
       "        vertical-align: top;\n",
       "    }\n",
       "\n",
       "    .dataframe thead th {\n",
       "        text-align: right;\n",
       "    }\n",
       "</style>\n",
       "<table border=\"1\" class=\"dataframe\">\n",
       "  <thead>\n",
       "    <tr style=\"text-align: right;\">\n",
       "      <th></th>\n",
       "      <th>Entity</th>\n",
       "      <th>Code</th>\n",
       "      <th>Year</th>\n",
       "      <th>Schizophrenia (%)</th>\n",
       "      <th>Bipolar disorder (%)</th>\n",
       "      <th>Eating disorders (%)</th>\n",
       "      <th>Anxiety disorders (%)</th>\n",
       "      <th>Drug use disorders (%)</th>\n",
       "      <th>Depression (%)</th>\n",
       "      <th>Alcohol use disorders (%)</th>\n",
       "    </tr>\n",
       "  </thead>\n",
       "  <tbody>\n",
       "    <tr>\n",
       "      <th>0</th>\n",
       "      <td>Afghanistan</td>\n",
       "      <td>AFG</td>\n",
       "      <td>1990</td>\n",
       "      <td>0.160560</td>\n",
       "      <td>0.697779</td>\n",
       "      <td>0.101855</td>\n",
       "      <td>4.828830</td>\n",
       "      <td>1.677082</td>\n",
       "      <td>4.071831</td>\n",
       "      <td>0.672404</td>\n",
       "    </tr>\n",
       "    <tr>\n",
       "      <th>1</th>\n",
       "      <td>Afghanistan</td>\n",
       "      <td>AFG</td>\n",
       "      <td>1991</td>\n",
       "      <td>0.160312</td>\n",
       "      <td>0.697961</td>\n",
       "      <td>0.099313</td>\n",
       "      <td>4.829740</td>\n",
       "      <td>1.684746</td>\n",
       "      <td>4.079531</td>\n",
       "      <td>0.671768</td>\n",
       "    </tr>\n",
       "    <tr>\n",
       "      <th>2</th>\n",
       "      <td>Afghanistan</td>\n",
       "      <td>AFG</td>\n",
       "      <td>1992</td>\n",
       "      <td>0.160135</td>\n",
       "      <td>0.698107</td>\n",
       "      <td>0.096692</td>\n",
       "      <td>4.831108</td>\n",
       "      <td>1.694334</td>\n",
       "      <td>4.088358</td>\n",
       "      <td>0.670644</td>\n",
       "    </tr>\n",
       "    <tr>\n",
       "      <th>3</th>\n",
       "      <td>Afghanistan</td>\n",
       "      <td>AFG</td>\n",
       "      <td>1993</td>\n",
       "      <td>0.160037</td>\n",
       "      <td>0.698257</td>\n",
       "      <td>0.094336</td>\n",
       "      <td>4.830864</td>\n",
       "      <td>1.705320</td>\n",
       "      <td>4.096190</td>\n",
       "      <td>0.669738</td>\n",
       "    </tr>\n",
       "    <tr>\n",
       "      <th>4</th>\n",
       "      <td>Afghanistan</td>\n",
       "      <td>AFG</td>\n",
       "      <td>1994</td>\n",
       "      <td>0.160022</td>\n",
       "      <td>0.698469</td>\n",
       "      <td>0.092439</td>\n",
       "      <td>4.829423</td>\n",
       "      <td>1.716069</td>\n",
       "      <td>4.099582</td>\n",
       "      <td>0.669260</td>\n",
       "    </tr>\n",
       "  </tbody>\n",
       "</table>\n",
       "</div>"
      ],
      "text/plain": [
       "        Entity Code  Year  Schizophrenia (%)  Bipolar disorder (%)  \\\n",
       "0  Afghanistan  AFG  1990           0.160560              0.697779   \n",
       "1  Afghanistan  AFG  1991           0.160312              0.697961   \n",
       "2  Afghanistan  AFG  1992           0.160135              0.698107   \n",
       "3  Afghanistan  AFG  1993           0.160037              0.698257   \n",
       "4  Afghanistan  AFG  1994           0.160022              0.698469   \n",
       "\n",
       "   Eating disorders (%)  Anxiety disorders (%)  Drug use disorders (%)  \\\n",
       "0              0.101855               4.828830                1.677082   \n",
       "1              0.099313               4.829740                1.684746   \n",
       "2              0.096692               4.831108                1.694334   \n",
       "3              0.094336               4.830864                1.705320   \n",
       "4              0.092439               4.829423                1.716069   \n",
       "\n",
       "   Depression (%)  Alcohol use disorders (%)  \n",
       "0        4.071831                   0.672404  \n",
       "1        4.079531                   0.671768  \n",
       "2        4.088358                   0.670644  \n",
       "3        4.096190                   0.669738  \n",
       "4        4.099582                   0.669260  "
      ]
     },
     "execution_count": 8,
     "metadata": {},
     "output_type": "execute_result"
    }
   ],
   "source": [
    "df1_types.head()"
   ]
  },
  {
   "cell_type": "code",
   "execution_count": 9,
   "metadata": {},
   "outputs": [
    {
     "data": {
      "text/plain": [
       "Entity                        231\n",
       "Code                          196\n",
       "Year                           28\n",
       "Schizophrenia (%)            6468\n",
       "Bipolar disorder (%)         6468\n",
       "Eating disorders (%)         6468\n",
       "Anxiety disorders (%)        6468\n",
       "Drug use disorders (%)       6468\n",
       "Depression (%)               6468\n",
       "Alcohol use disorders (%)    6468\n",
       "dtype: int64"
      ]
     },
     "execution_count": 9,
     "metadata": {},
     "output_type": "execute_result"
    }
   ],
   "source": [
    "df1_types.nunique()"
   ]
  },
  {
   "cell_type": "code",
   "execution_count": 10,
   "metadata": {},
   "outputs": [
    {
     "data": {
      "text/plain": [
       "(6468, 10)"
      ]
     },
     "execution_count": 10,
     "metadata": {},
     "output_type": "execute_result"
    }
   ],
   "source": [
    "df1_types.shape"
   ]
  },
  {
   "cell_type": "code",
   "execution_count": 11,
   "metadata": {},
   "outputs": [
    {
     "name": "stdout",
     "output_type": "stream",
     "text": [
      "<class 'pandas.core.frame.DataFrame'>\n",
      "RangeIndex: 6468 entries, 0 to 6467\n",
      "Data columns (total 10 columns):\n",
      " #   Column                     Non-Null Count  Dtype  \n",
      "---  ------                     --------------  -----  \n",
      " 0   Entity                     6468 non-null   object \n",
      " 1   Code                       5488 non-null   object \n",
      " 2   Year                       6468 non-null   int64  \n",
      " 3   Schizophrenia (%)          6468 non-null   float64\n",
      " 4   Bipolar disorder (%)       6468 non-null   float64\n",
      " 5   Eating disorders (%)       6468 non-null   float64\n",
      " 6   Anxiety disorders (%)      6468 non-null   float64\n",
      " 7   Drug use disorders (%)     6468 non-null   float64\n",
      " 8   Depression (%)             6468 non-null   float64\n",
      " 9   Alcohol use disorders (%)  6468 non-null   float64\n",
      "dtypes: float64(7), int64(1), object(2)\n",
      "memory usage: 505.4+ KB\n"
     ]
    }
   ],
   "source": [
    "df1_types.info()"
   ]
  },
  {
   "cell_type": "code",
   "execution_count": 13,
   "metadata": {},
   "outputs": [
    {
     "data": {
      "text/html": [
       "<div>\n",
       "<style scoped>\n",
       "    .dataframe tbody tr th:only-of-type {\n",
       "        vertical-align: middle;\n",
       "    }\n",
       "\n",
       "    .dataframe tbody tr th {\n",
       "        vertical-align: top;\n",
       "    }\n",
       "\n",
       "    .dataframe thead th {\n",
       "        text-align: right;\n",
       "    }\n",
       "</style>\n",
       "<table border=\"1\" class=\"dataframe\">\n",
       "  <thead>\n",
       "    <tr style=\"text-align: right;\">\n",
       "      <th></th>\n",
       "      <th>Entity</th>\n",
       "      <th>Code</th>\n",
       "      <th>Year</th>\n",
       "      <th>Schizophrenia (%)</th>\n",
       "      <th>Bipolar disorder (%)</th>\n",
       "      <th>Eating disorders (%)</th>\n",
       "      <th>Anxiety disorders (%)</th>\n",
       "      <th>Drug use disorders (%)</th>\n",
       "      <th>Depression (%)</th>\n",
       "      <th>Alcohol use disorders (%)</th>\n",
       "    </tr>\n",
       "  </thead>\n",
       "  <tbody>\n",
       "  </tbody>\n",
       "</table>\n",
       "</div>"
      ],
      "text/plain": [
       "Empty DataFrame\n",
       "Columns: [Entity, Code, Year, Schizophrenia (%), Bipolar disorder (%), Eating disorders (%), Anxiety disorders (%), Drug use disorders (%), Depression (%), Alcohol use disorders (%)]\n",
       "Index: []"
      ]
     },
     "execution_count": 13,
     "metadata": {},
     "output_type": "execute_result"
    }
   ],
   "source": [
    "duplicateRowsDF = df1_types[df1_types.duplicated()]\n",
    "duplicateRowsDF"
   ]
  },
  {
   "cell_type": "markdown",
   "metadata": {},
   "source": [
    "#### Load 'Depression by education level & employment status' data\n",
    "This data is based on adults aged 25-64 years old, and focus on self-reported depression only. The lack of differentiation in these surveys between mental health disorders, such as depression, anxiety disorders, and bipolar disorder mean that self-reported depression data may include individuals with these other disorders.\n",
    "\n",
    "These are additional explanations for variables.\n",
    "\n",
    "* employed: whether groups are employed\n",
    "* active: actively seeking employment\n",
    "* total: the total of employed, active and unemployed. \n",
    "* tertiary (postsecondary) education: refers to any type of education pursued beyond the high school level. \n",
    "* upper secondary education: comprises three years of schooling (grades 10, 11 and 12) and is the stage before tertiary education.\n",
    "* Post-secondary non-tertiary education: provides learning and educational activities building on secondary education preparing for both labour market entry as well as tertiary education. Programmes are often not significantly more advanced than those at upper secondary as they typically serve to broaden rather than deepen knowledge, skills and competencies."
   ]
  },
  {
   "cell_type": "code",
   "execution_count": 14,
   "metadata": {},
   "outputs": [],
   "source": [
    "df1_edu_2014 = pd.read_excel(xls, 'depression-by-level-of-educatio')"
   ]
  },
  {
   "cell_type": "code",
   "execution_count": 17,
   "metadata": {},
   "outputs": [
    {
     "data": {
      "text/html": [
       "<div>\n",
       "<style scoped>\n",
       "    .dataframe tbody tr th:only-of-type {\n",
       "        vertical-align: middle;\n",
       "    }\n",
       "\n",
       "    .dataframe tbody tr th {\n",
       "        vertical-align: top;\n",
       "    }\n",
       "\n",
       "    .dataframe thead th {\n",
       "        text-align: right;\n",
       "    }\n",
       "</style>\n",
       "<table border=\"1\" class=\"dataframe\">\n",
       "  <thead>\n",
       "    <tr style=\"text-align: right;\">\n",
       "      <th></th>\n",
       "      <th>Entity</th>\n",
       "      <th>Code</th>\n",
       "      <th>Year</th>\n",
       "      <th>All levels (active) (%)</th>\n",
       "      <th>All levels (employed) (%)</th>\n",
       "      <th>All levels (total) (%)</th>\n",
       "      <th>Below upper secondary (active) (%)</th>\n",
       "      <th>Below upper secondary (employed) (%)</th>\n",
       "      <th>Below upper secondary (total) (%)</th>\n",
       "      <th>Tertiary (active) (%)</th>\n",
       "      <th>Tertiary (employed) (%)</th>\n",
       "      <th>Tertiary (total) (%)</th>\n",
       "      <th>Upper secondary &amp; post-secondary non-tertiary (active) (%)</th>\n",
       "      <th>Upper secondary &amp; post-secondary non-tertiary (employed) (%)</th>\n",
       "      <th>Upper secondary &amp; post-secondary non-tertiary (total) (%)</th>\n",
       "    </tr>\n",
       "  </thead>\n",
       "  <tbody>\n",
       "    <tr>\n",
       "      <th>0</th>\n",
       "      <td>Austria</td>\n",
       "      <td>AUT</td>\n",
       "      <td>2014</td>\n",
       "      <td>6.5</td>\n",
       "      <td>4.7</td>\n",
       "      <td>7.7</td>\n",
       "      <td>15.5</td>\n",
       "      <td>9.0</td>\n",
       "      <td>15.2</td>\n",
       "      <td>4.3</td>\n",
       "      <td>3.5</td>\n",
       "      <td>5.5</td>\n",
       "      <td>5.5</td>\n",
       "      <td>4.2</td>\n",
       "      <td>6.7</td>\n",
       "    </tr>\n",
       "    <tr>\n",
       "      <th>1</th>\n",
       "      <td>Belgium</td>\n",
       "      <td>BEL</td>\n",
       "      <td>2014</td>\n",
       "      <td>5.0</td>\n",
       "      <td>4.1</td>\n",
       "      <td>7.1</td>\n",
       "      <td>7.1</td>\n",
       "      <td>4.8</td>\n",
       "      <td>11.6</td>\n",
       "      <td>3.7</td>\n",
       "      <td>3.3</td>\n",
       "      <td>4.2</td>\n",
       "      <td>5.7</td>\n",
       "      <td>5.0</td>\n",
       "      <td>7.5</td>\n",
       "    </tr>\n",
       "    <tr>\n",
       "      <th>2</th>\n",
       "      <td>Czech Republic</td>\n",
       "      <td>CZE</td>\n",
       "      <td>2014</td>\n",
       "      <td>3.0</td>\n",
       "      <td>2.6</td>\n",
       "      <td>4.0</td>\n",
       "      <td>2.1</td>\n",
       "      <td>2.5</td>\n",
       "      <td>6.0</td>\n",
       "      <td>1.7</td>\n",
       "      <td>1.7</td>\n",
       "      <td>2.0</td>\n",
       "      <td>3.5</td>\n",
       "      <td>3.0</td>\n",
       "      <td>4.4</td>\n",
       "    </tr>\n",
       "    <tr>\n",
       "      <th>3</th>\n",
       "      <td>Denmark</td>\n",
       "      <td>DNK</td>\n",
       "      <td>2014</td>\n",
       "      <td>6.7</td>\n",
       "      <td>5.7</td>\n",
       "      <td>8.3</td>\n",
       "      <td>10.4</td>\n",
       "      <td>6.5</td>\n",
       "      <td>15.5</td>\n",
       "      <td>5.7</td>\n",
       "      <td>4.7</td>\n",
       "      <td>6.7</td>\n",
       "      <td>7.4</td>\n",
       "      <td>6.9</td>\n",
       "      <td>8.8</td>\n",
       "    </tr>\n",
       "    <tr>\n",
       "      <th>4</th>\n",
       "      <td>Estonia</td>\n",
       "      <td>EST</td>\n",
       "      <td>2014</td>\n",
       "      <td>3.8</td>\n",
       "      <td>3.8</td>\n",
       "      <td>5.1</td>\n",
       "      <td>4.7</td>\n",
       "      <td>4.7</td>\n",
       "      <td>6.4</td>\n",
       "      <td>3.6</td>\n",
       "      <td>3.6</td>\n",
       "      <td>4.3</td>\n",
       "      <td>3.7</td>\n",
       "      <td>3.8</td>\n",
       "      <td>5.2</td>\n",
       "    </tr>\n",
       "  </tbody>\n",
       "</table>\n",
       "</div>"
      ],
      "text/plain": [
       "           Entity Code  Year  All levels (active) (%)  \\\n",
       "0         Austria  AUT  2014                      6.5   \n",
       "1         Belgium  BEL  2014                      5.0   \n",
       "2  Czech Republic  CZE  2014                      3.0   \n",
       "3         Denmark  DNK  2014                      6.7   \n",
       "4         Estonia  EST  2014                      3.8   \n",
       "\n",
       "   All levels (employed) (%)  All levels (total) (%)  \\\n",
       "0                        4.7                     7.7   \n",
       "1                        4.1                     7.1   \n",
       "2                        2.6                     4.0   \n",
       "3                        5.7                     8.3   \n",
       "4                        3.8                     5.1   \n",
       "\n",
       "   Below upper secondary (active) (%)  Below upper secondary (employed) (%)  \\\n",
       "0                                15.5                                   9.0   \n",
       "1                                 7.1                                   4.8   \n",
       "2                                 2.1                                   2.5   \n",
       "3                                10.4                                   6.5   \n",
       "4                                 4.7                                   4.7   \n",
       "\n",
       "   Below upper secondary (total) (%)  Tertiary (active) (%)  \\\n",
       "0                               15.2                    4.3   \n",
       "1                               11.6                    3.7   \n",
       "2                                6.0                    1.7   \n",
       "3                               15.5                    5.7   \n",
       "4                                6.4                    3.6   \n",
       "\n",
       "   Tertiary (employed) (%)  Tertiary (total) (%)  \\\n",
       "0                      3.5                   5.5   \n",
       "1                      3.3                   4.2   \n",
       "2                      1.7                   2.0   \n",
       "3                      4.7                   6.7   \n",
       "4                      3.6                   4.3   \n",
       "\n",
       "   Upper secondary & post-secondary non-tertiary (active) (%)  \\\n",
       "0                                                5.5            \n",
       "1                                                5.7            \n",
       "2                                                3.5            \n",
       "3                                                7.4            \n",
       "4                                                3.7            \n",
       "\n",
       "   Upper secondary & post-secondary non-tertiary (employed) (%)  \\\n",
       "0                                                4.2              \n",
       "1                                                5.0              \n",
       "2                                                3.0              \n",
       "3                                                6.9              \n",
       "4                                                3.8              \n",
       "\n",
       "   Upper secondary & post-secondary non-tertiary (total) (%)  \n",
       "0                                                6.7          \n",
       "1                                                7.5          \n",
       "2                                                4.4          \n",
       "3                                                8.8          \n",
       "4                                                5.2          "
      ]
     },
     "execution_count": 17,
     "metadata": {},
     "output_type": "execute_result"
    }
   ],
   "source": [
    "df1_edu_2014.head()"
   ]
  },
  {
   "cell_type": "code",
   "execution_count": 15,
   "metadata": {},
   "outputs": [
    {
     "data": {
      "text/plain": [
       "(26, 15)"
      ]
     },
     "execution_count": 15,
     "metadata": {},
     "output_type": "execute_result"
    }
   ],
   "source": [
    "df1_edu_2014.shape"
   ]
  },
  {
   "cell_type": "code",
   "execution_count": 16,
   "metadata": {},
   "outputs": [
    {
     "name": "stdout",
     "output_type": "stream",
     "text": [
      "<class 'pandas.core.frame.DataFrame'>\n",
      "RangeIndex: 26 entries, 0 to 25\n",
      "Data columns (total 15 columns):\n",
      " #   Column                                                        Non-Null Count  Dtype  \n",
      "---  ------                                                        --------------  -----  \n",
      " 0   Entity                                                        26 non-null     object \n",
      " 1   Code                                                          25 non-null     object \n",
      " 2   Year                                                          26 non-null     int64  \n",
      " 3   All levels (active) (%)                                       26 non-null     float64\n",
      " 4   All levels (employed) (%)                                     26 non-null     float64\n",
      " 5   All levels (total) (%)                                        26 non-null     float64\n",
      " 6   Below upper secondary (active) (%)                            26 non-null     float64\n",
      " 7   Below upper secondary (employed) (%)                          26 non-null     float64\n",
      " 8   Below upper secondary (total) (%)                             26 non-null     float64\n",
      " 9   Tertiary (active) (%)                                         26 non-null     float64\n",
      " 10  Tertiary (employed) (%)                                       26 non-null     float64\n",
      " 11  Tertiary (total) (%)                                          26 non-null     float64\n",
      " 12  Upper secondary & post-secondary non-tertiary (active) (%)    26 non-null     float64\n",
      " 13  Upper secondary & post-secondary non-tertiary (employed) (%)  26 non-null     float64\n",
      " 14  Upper secondary & post-secondary non-tertiary (total) (%)     26 non-null     float64\n",
      "dtypes: float64(12), int64(1), object(2)\n",
      "memory usage: 3.2+ KB\n"
     ]
    }
   ],
   "source": [
    "df1_edu_2014.info()"
   ]
  },
  {
   "cell_type": "code",
   "execution_count": 53,
   "metadata": {
    "scrolled": false
   },
   "outputs": [
    {
     "data": {
      "text/plain": [
       "Entity                                                          26\n",
       "Code                                                            25\n",
       "Year                                                             1\n",
       "All levels (active) (%)                                         24\n",
       "All levels (employed) (%)                                       20\n",
       "All levels (total) (%)                                          23\n",
       "Below upper secondary (active) (%)                              25\n",
       "Below upper secondary (employed) (%)                            25\n",
       "Below upper secondary (total) (%)                               24\n",
       "Tertiary (active) (%)                                           24\n",
       "Tertiary (employed) (%)                                         23\n",
       "Tertiary (total) (%)                                            21\n",
       "Upper secondary & post-secondary non-tertiary (active) (%)      23\n",
       "Upper secondary & post-secondary non-tertiary (employed) (%)    24\n",
       "Upper secondary & post-secondary non-tertiary (total) (%)       23\n",
       "dtype: int64"
      ]
     },
     "execution_count": 53,
     "metadata": {},
     "output_type": "execute_result"
    }
   ],
   "source": [
    "df1_edu_2014.nunique()"
   ]
  },
  {
   "cell_type": "code",
   "execution_count": 54,
   "metadata": {},
   "outputs": [
    {
     "name": "stderr",
     "output_type": "stream",
     "text": [
      "C:\\Users\\yuhan\\anaconda3\\lib\\site-packages\\ipykernel_launcher.py:1: UserWarning: Boolean Series key will be reindexed to match DataFrame index.\n",
      "  \"\"\"Entry point for launching an IPython kernel.\n"
     ]
    },
    {
     "data": {
      "text/html": [
       "<div>\n",
       "<style scoped>\n",
       "    .dataframe tbody tr th:only-of-type {\n",
       "        vertical-align: middle;\n",
       "    }\n",
       "\n",
       "    .dataframe tbody tr th {\n",
       "        vertical-align: top;\n",
       "    }\n",
       "\n",
       "    .dataframe thead th {\n",
       "        text-align: right;\n",
       "    }\n",
       "</style>\n",
       "<table border=\"1\" class=\"dataframe\">\n",
       "  <thead>\n",
       "    <tr style=\"text-align: right;\">\n",
       "      <th></th>\n",
       "      <th>Entity</th>\n",
       "      <th>Code</th>\n",
       "      <th>Year</th>\n",
       "      <th>All levels (active) (%)</th>\n",
       "      <th>All levels (employed) (%)</th>\n",
       "      <th>All levels (total) (%)</th>\n",
       "      <th>Below upper secondary (active) (%)</th>\n",
       "      <th>Below upper secondary (employed) (%)</th>\n",
       "      <th>Below upper secondary (total) (%)</th>\n",
       "      <th>Tertiary (active) (%)</th>\n",
       "      <th>Tertiary (employed) (%)</th>\n",
       "      <th>Tertiary (total) (%)</th>\n",
       "      <th>Upper secondary &amp; post-secondary non-tertiary (active) (%)</th>\n",
       "      <th>Upper secondary &amp; post-secondary non-tertiary (employed) (%)</th>\n",
       "      <th>Upper secondary &amp; post-secondary non-tertiary (total) (%)</th>\n",
       "    </tr>\n",
       "  </thead>\n",
       "  <tbody>\n",
       "  </tbody>\n",
       "</table>\n",
       "</div>"
      ],
      "text/plain": [
       "Empty DataFrame\n",
       "Columns: [Entity, Code, Year, All levels (active) (%), All levels (employed) (%), All levels (total) (%), Below upper secondary (active) (%), Below upper secondary (employed) (%), Below upper secondary (total) (%), Tertiary (active) (%), Tertiary (employed) (%), Tertiary (total) (%), Upper secondary & post-secondary non-tertiary (active) (%), Upper secondary & post-secondary non-tertiary (employed) (%), Upper secondary & post-secondary non-tertiary (total) (%)]\n",
       "Index: []"
      ]
     },
     "execution_count": 54,
     "metadata": {},
     "output_type": "execute_result"
    }
   ],
   "source": [
    "duplicateRowsDF = df1_edu_2014[df1_types.duplicated()]\n",
    "duplicateRowsDF"
   ]
  },
  {
   "cell_type": "markdown",
   "metadata": {},
   "source": [
    "#### Load the percentage of depression in different age level data"
   ]
  },
  {
   "cell_type": "code",
   "execution_count": 19,
   "metadata": {},
   "outputs": [],
   "source": [
    "df1_age = pd.read_excel(xls, 'prevalence-of-depression-by-age')"
   ]
  },
  {
   "cell_type": "code",
   "execution_count": 20,
   "metadata": {},
   "outputs": [
    {
     "data": {
      "text/plain": [
       "(6468, 13)"
      ]
     },
     "execution_count": 20,
     "metadata": {},
     "output_type": "execute_result"
    }
   ],
   "source": [
    "df1_age.shape"
   ]
  },
  {
   "cell_type": "code",
   "execution_count": 21,
   "metadata": {},
   "outputs": [
    {
     "name": "stdout",
     "output_type": "stream",
     "text": [
      "<class 'pandas.core.frame.DataFrame'>\n",
      "RangeIndex: 6468 entries, 0 to 6467\n",
      "Data columns (total 13 columns):\n",
      " #   Column                Non-Null Count  Dtype  \n",
      "---  ------                --------------  -----  \n",
      " 0   Entity                6468 non-null   object \n",
      " 1   Code                  5488 non-null   object \n",
      " 2   Year                  6468 non-null   int64  \n",
      " 3   20-24 years old (%)   6468 non-null   float64\n",
      " 4   10-14 years old (%)   6468 non-null   float64\n",
      " 5   All ages (%)          6468 non-null   float64\n",
      " 6   70+ years old (%)     6468 non-null   float64\n",
      " 7   30-34 years old (%)   6468 non-null   float64\n",
      " 8   15-19 years old (%)   6468 non-null   float64\n",
      " 9   25-29 years old (%)   6468 non-null   float64\n",
      " 10  50-69 years old (%)   6468 non-null   float64\n",
      " 11  Age-standardized (%)  6468 non-null   float64\n",
      " 12  15-49 years old (%)   6468 non-null   float64\n",
      "dtypes: float64(10), int64(1), object(2)\n",
      "memory usage: 657.0+ KB\n"
     ]
    }
   ],
   "source": [
    "df1_age.info()"
   ]
  },
  {
   "cell_type": "code",
   "execution_count": 22,
   "metadata": {},
   "outputs": [
    {
     "data": {
      "text/html": [
       "<div>\n",
       "<style scoped>\n",
       "    .dataframe tbody tr th:only-of-type {\n",
       "        vertical-align: middle;\n",
       "    }\n",
       "\n",
       "    .dataframe tbody tr th {\n",
       "        vertical-align: top;\n",
       "    }\n",
       "\n",
       "    .dataframe thead th {\n",
       "        text-align: right;\n",
       "    }\n",
       "</style>\n",
       "<table border=\"1\" class=\"dataframe\">\n",
       "  <thead>\n",
       "    <tr style=\"text-align: right;\">\n",
       "      <th></th>\n",
       "      <th>Entity</th>\n",
       "      <th>Code</th>\n",
       "      <th>Year</th>\n",
       "      <th>20-24 years old (%)</th>\n",
       "      <th>10-14 years old (%)</th>\n",
       "      <th>All ages (%)</th>\n",
       "      <th>70+ years old (%)</th>\n",
       "      <th>30-34 years old (%)</th>\n",
       "      <th>15-19 years old (%)</th>\n",
       "      <th>25-29 years old (%)</th>\n",
       "      <th>50-69 years old (%)</th>\n",
       "      <th>Age-standardized (%)</th>\n",
       "      <th>15-49 years old (%)</th>\n",
       "    </tr>\n",
       "  </thead>\n",
       "  <tbody>\n",
       "    <tr>\n",
       "      <th>0</th>\n",
       "      <td>Afghanistan</td>\n",
       "      <td>AFG</td>\n",
       "      <td>1990</td>\n",
       "      <td>4.417802</td>\n",
       "      <td>1.594676</td>\n",
       "      <td>3.218871</td>\n",
       "      <td>5.202803</td>\n",
       "      <td>5.799034</td>\n",
       "      <td>3.455708</td>\n",
       "      <td>5.175856</td>\n",
       "      <td>5.917752</td>\n",
       "      <td>4.071831</td>\n",
       "      <td>4.939766</td>\n",
       "    </tr>\n",
       "    <tr>\n",
       "      <th>1</th>\n",
       "      <td>Afghanistan</td>\n",
       "      <td>AFG</td>\n",
       "      <td>1991</td>\n",
       "      <td>4.433524</td>\n",
       "      <td>1.588356</td>\n",
       "      <td>3.203468</td>\n",
       "      <td>5.192849</td>\n",
       "      <td>5.814828</td>\n",
       "      <td>3.451880</td>\n",
       "      <td>5.176729</td>\n",
       "      <td>5.927093</td>\n",
       "      <td>4.079531</td>\n",
       "      <td>4.902682</td>\n",
       "    </tr>\n",
       "    <tr>\n",
       "      <th>2</th>\n",
       "      <td>Afghanistan</td>\n",
       "      <td>AFG</td>\n",
       "      <td>1992</td>\n",
       "      <td>4.453689</td>\n",
       "      <td>1.577980</td>\n",
       "      <td>3.156559</td>\n",
       "      <td>5.176872</td>\n",
       "      <td>5.829745</td>\n",
       "      <td>3.434982</td>\n",
       "      <td>5.160249</td>\n",
       "      <td>5.945656</td>\n",
       "      <td>4.088358</td>\n",
       "      <td>4.837097</td>\n",
       "    </tr>\n",
       "    <tr>\n",
       "      <th>3</th>\n",
       "      <td>Afghanistan</td>\n",
       "      <td>AFG</td>\n",
       "      <td>1993</td>\n",
       "      <td>4.464517</td>\n",
       "      <td>1.577201</td>\n",
       "      <td>3.120655</td>\n",
       "      <td>5.167355</td>\n",
       "      <td>5.853060</td>\n",
       "      <td>3.420210</td>\n",
       "      <td>5.148767</td>\n",
       "      <td>5.966915</td>\n",
       "      <td>4.096190</td>\n",
       "      <td>4.813657</td>\n",
       "    </tr>\n",
       "    <tr>\n",
       "      <th>4</th>\n",
       "      <td>Afghanistan</td>\n",
       "      <td>AFG</td>\n",
       "      <td>1994</td>\n",
       "      <td>4.462960</td>\n",
       "      <td>1.570846</td>\n",
       "      <td>3.082179</td>\n",
       "      <td>5.157549</td>\n",
       "      <td>5.852851</td>\n",
       "      <td>3.425222</td>\n",
       "      <td>5.148227</td>\n",
       "      <td>5.975907</td>\n",
       "      <td>4.099582</td>\n",
       "      <td>4.839340</td>\n",
       "    </tr>\n",
       "  </tbody>\n",
       "</table>\n",
       "</div>"
      ],
      "text/plain": [
       "        Entity Code  Year  20-24 years old (%)  10-14 years old (%)  \\\n",
       "0  Afghanistan  AFG  1990             4.417802             1.594676   \n",
       "1  Afghanistan  AFG  1991             4.433524             1.588356   \n",
       "2  Afghanistan  AFG  1992             4.453689             1.577980   \n",
       "3  Afghanistan  AFG  1993             4.464517             1.577201   \n",
       "4  Afghanistan  AFG  1994             4.462960             1.570846   \n",
       "\n",
       "   All ages (%)  70+ years old (%)  30-34 years old (%)  15-19 years old (%)  \\\n",
       "0      3.218871           5.202803             5.799034             3.455708   \n",
       "1      3.203468           5.192849             5.814828             3.451880   \n",
       "2      3.156559           5.176872             5.829745             3.434982   \n",
       "3      3.120655           5.167355             5.853060             3.420210   \n",
       "4      3.082179           5.157549             5.852851             3.425222   \n",
       "\n",
       "   25-29 years old (%)  50-69 years old (%)  Age-standardized (%)  \\\n",
       "0             5.175856             5.917752              4.071831   \n",
       "1             5.176729             5.927093              4.079531   \n",
       "2             5.160249             5.945656              4.088358   \n",
       "3             5.148767             5.966915              4.096190   \n",
       "4             5.148227             5.975907              4.099582   \n",
       "\n",
       "   15-49 years old (%)  \n",
       "0             4.939766  \n",
       "1             4.902682  \n",
       "2             4.837097  \n",
       "3             4.813657  \n",
       "4             4.839340  "
      ]
     },
     "execution_count": 22,
     "metadata": {},
     "output_type": "execute_result"
    }
   ],
   "source": [
    "df1_age.head()"
   ]
  },
  {
   "cell_type": "code",
   "execution_count": 55,
   "metadata": {},
   "outputs": [
    {
     "data": {
      "text/plain": [
       "Entity                   231\n",
       "Code                     196\n",
       "Year                      28\n",
       "20-24 years old (%)     6468\n",
       "10-14 years old (%)     6468\n",
       "All ages (%)            6468\n",
       "70+ years old (%)       6468\n",
       "30-34 years old (%)     6468\n",
       "15-19 years old (%)     6468\n",
       "25-29 years old (%)     6468\n",
       "50-69 years old (%)     6468\n",
       "Age-standardized (%)    6468\n",
       "15-49 years old (%)     6468\n",
       "dtype: int64"
      ]
     },
     "execution_count": 55,
     "metadata": {},
     "output_type": "execute_result"
    }
   ],
   "source": [
    "df1_age.nunique()"
   ]
  },
  {
   "cell_type": "code",
   "execution_count": 56,
   "metadata": {},
   "outputs": [
    {
     "data": {
      "text/html": [
       "<div>\n",
       "<style scoped>\n",
       "    .dataframe tbody tr th:only-of-type {\n",
       "        vertical-align: middle;\n",
       "    }\n",
       "\n",
       "    .dataframe tbody tr th {\n",
       "        vertical-align: top;\n",
       "    }\n",
       "\n",
       "    .dataframe thead th {\n",
       "        text-align: right;\n",
       "    }\n",
       "</style>\n",
       "<table border=\"1\" class=\"dataframe\">\n",
       "  <thead>\n",
       "    <tr style=\"text-align: right;\">\n",
       "      <th></th>\n",
       "      <th>Entity</th>\n",
       "      <th>Code</th>\n",
       "      <th>Year</th>\n",
       "      <th>Schizophrenia (%)</th>\n",
       "      <th>Bipolar disorder (%)</th>\n",
       "      <th>Eating disorders (%)</th>\n",
       "      <th>Anxiety disorders (%)</th>\n",
       "      <th>Drug use disorders (%)</th>\n",
       "      <th>Depression (%)</th>\n",
       "      <th>Alcohol use disorders (%)</th>\n",
       "    </tr>\n",
       "  </thead>\n",
       "  <tbody>\n",
       "  </tbody>\n",
       "</table>\n",
       "</div>"
      ],
      "text/plain": [
       "Empty DataFrame\n",
       "Columns: [Entity, Code, Year, Schizophrenia (%), Bipolar disorder (%), Eating disorders (%), Anxiety disorders (%), Drug use disorders (%), Depression (%), Alcohol use disorders (%)]\n",
       "Index: []"
      ]
     },
     "execution_count": 56,
     "metadata": {},
     "output_type": "execute_result"
    }
   ],
   "source": [
    "duplicateRowsDF = df1_age[df1_types.duplicated()]\n",
    "duplicateRowsDF"
   ]
  },
  {
   "cell_type": "markdown",
   "metadata": {},
   "source": [
    "#### Load the percentage of depression by gender data"
   ]
  },
  {
   "cell_type": "code",
   "execution_count": 24,
   "metadata": {},
   "outputs": [],
   "source": [
    "df1_gender = pd.read_excel(xls, 'prevalence-of-depression-males-')"
   ]
  },
  {
   "cell_type": "code",
   "execution_count": 25,
   "metadata": {},
   "outputs": [
    {
     "data": {
      "text/plain": [
       "(47807, 6)"
      ]
     },
     "execution_count": 25,
     "metadata": {},
     "output_type": "execute_result"
    }
   ],
   "source": [
    "df1_gender.shape"
   ]
  },
  {
   "cell_type": "code",
   "execution_count": 26,
   "metadata": {},
   "outputs": [
    {
     "name": "stdout",
     "output_type": "stream",
     "text": [
      "<class 'pandas.core.frame.DataFrame'>\n",
      "RangeIndex: 47807 entries, 0 to 47806\n",
      "Data columns (total 6 columns):\n",
      " #   Column                     Non-Null Count  Dtype  \n",
      "---  ------                     --------------  -----  \n",
      " 0   Entity                     47807 non-null  object \n",
      " 1   Code                       46081 non-null  object \n",
      " 2   Year                       47807 non-null  object \n",
      " 3   Prevalence in males (%)    6468 non-null   float64\n",
      " 4   Prevalence in females (%)  6468 non-null   float64\n",
      " 5   Population                 46883 non-null  float64\n",
      "dtypes: float64(3), object(3)\n",
      "memory usage: 2.2+ MB\n"
     ]
    }
   ],
   "source": [
    "df1_gender.info()"
   ]
  },
  {
   "cell_type": "code",
   "execution_count": 27,
   "metadata": {},
   "outputs": [
    {
     "data": {
      "text/html": [
       "<div>\n",
       "<style scoped>\n",
       "    .dataframe tbody tr th:only-of-type {\n",
       "        vertical-align: middle;\n",
       "    }\n",
       "\n",
       "    .dataframe tbody tr th {\n",
       "        vertical-align: top;\n",
       "    }\n",
       "\n",
       "    .dataframe thead th {\n",
       "        text-align: right;\n",
       "    }\n",
       "</style>\n",
       "<table border=\"1\" class=\"dataframe\">\n",
       "  <thead>\n",
       "    <tr style=\"text-align: right;\">\n",
       "      <th></th>\n",
       "      <th>Entity</th>\n",
       "      <th>Code</th>\n",
       "      <th>Year</th>\n",
       "      <th>Prevalence in males (%)</th>\n",
       "      <th>Prevalence in females (%)</th>\n",
       "      <th>Population</th>\n",
       "    </tr>\n",
       "  </thead>\n",
       "  <tbody>\n",
       "    <tr>\n",
       "      <th>0</th>\n",
       "      <td>Afghanistan</td>\n",
       "      <td>AFG</td>\n",
       "      <td>1800</td>\n",
       "      <td>NaN</td>\n",
       "      <td>NaN</td>\n",
       "      <td>3280000.0</td>\n",
       "    </tr>\n",
       "    <tr>\n",
       "      <th>1</th>\n",
       "      <td>Afghanistan</td>\n",
       "      <td>AFG</td>\n",
       "      <td>1801</td>\n",
       "      <td>NaN</td>\n",
       "      <td>NaN</td>\n",
       "      <td>3280000.0</td>\n",
       "    </tr>\n",
       "    <tr>\n",
       "      <th>2</th>\n",
       "      <td>Afghanistan</td>\n",
       "      <td>AFG</td>\n",
       "      <td>1802</td>\n",
       "      <td>NaN</td>\n",
       "      <td>NaN</td>\n",
       "      <td>3280000.0</td>\n",
       "    </tr>\n",
       "    <tr>\n",
       "      <th>3</th>\n",
       "      <td>Afghanistan</td>\n",
       "      <td>AFG</td>\n",
       "      <td>1803</td>\n",
       "      <td>NaN</td>\n",
       "      <td>NaN</td>\n",
       "      <td>3280000.0</td>\n",
       "    </tr>\n",
       "    <tr>\n",
       "      <th>4</th>\n",
       "      <td>Afghanistan</td>\n",
       "      <td>AFG</td>\n",
       "      <td>1804</td>\n",
       "      <td>NaN</td>\n",
       "      <td>NaN</td>\n",
       "      <td>3280000.0</td>\n",
       "    </tr>\n",
       "  </tbody>\n",
       "</table>\n",
       "</div>"
      ],
      "text/plain": [
       "        Entity Code  Year  Prevalence in males (%)  Prevalence in females (%)  \\\n",
       "0  Afghanistan  AFG  1800                      NaN                        NaN   \n",
       "1  Afghanistan  AFG  1801                      NaN                        NaN   \n",
       "2  Afghanistan  AFG  1802                      NaN                        NaN   \n",
       "3  Afghanistan  AFG  1803                      NaN                        NaN   \n",
       "4  Afghanistan  AFG  1804                      NaN                        NaN   \n",
       "\n",
       "   Population  \n",
       "0   3280000.0  \n",
       "1   3280000.0  \n",
       "2   3280000.0  \n",
       "3   3280000.0  \n",
       "4   3280000.0  "
      ]
     },
     "execution_count": 27,
     "metadata": {},
     "output_type": "execute_result"
    }
   ],
   "source": [
    "df1_gender.head()"
   ]
  },
  {
   "cell_type": "code",
   "execution_count": 28,
   "metadata": {},
   "outputs": [],
   "source": [
    "# drop the NaN data\n",
    "df1_gender.dropna(inplace=True)"
   ]
  },
  {
   "cell_type": "code",
   "execution_count": 29,
   "metadata": {},
   "outputs": [
    {
     "name": "stdout",
     "output_type": "stream",
     "text": [
      "<class 'pandas.core.frame.DataFrame'>\n",
      "Int64Index: 5488 entries, 190 to 47804\n",
      "Data columns (total 6 columns):\n",
      " #   Column                     Non-Null Count  Dtype  \n",
      "---  ------                     --------------  -----  \n",
      " 0   Entity                     5488 non-null   object \n",
      " 1   Code                       5488 non-null   object \n",
      " 2   Year                       5488 non-null   object \n",
      " 3   Prevalence in males (%)    5488 non-null   float64\n",
      " 4   Prevalence in females (%)  5488 non-null   float64\n",
      " 5   Population                 5488 non-null   float64\n",
      "dtypes: float64(3), object(3)\n",
      "memory usage: 300.1+ KB\n"
     ]
    }
   ],
   "source": [
    "df1_gender.info()"
   ]
  },
  {
   "cell_type": "code",
   "execution_count": 30,
   "metadata": {},
   "outputs": [
    {
     "data": {
      "text/plain": [
       "190      1990\n",
       "191      1991\n",
       "192      1992\n",
       "193      1993\n",
       "194      1994\n",
       "         ... \n",
       "47800    2013\n",
       "47801    2014\n",
       "47802    2015\n",
       "47803    2016\n",
       "47804    2017\n",
       "Name: Year, Length: 5488, dtype: object"
      ]
     },
     "execution_count": 30,
     "metadata": {},
     "output_type": "execute_result"
    }
   ],
   "source": [
    "df1_gender.Year"
   ]
  },
  {
   "cell_type": "code",
   "execution_count": 31,
   "metadata": {},
   "outputs": [],
   "source": [
    "# convert Year to integer\n",
    "df1_gender['Year'] = df1_gender['Year'].astype(str).astype(int)"
   ]
  },
  {
   "cell_type": "code",
   "execution_count": 32,
   "metadata": {},
   "outputs": [
    {
     "data": {
      "text/html": [
       "<div>\n",
       "<style scoped>\n",
       "    .dataframe tbody tr th:only-of-type {\n",
       "        vertical-align: middle;\n",
       "    }\n",
       "\n",
       "    .dataframe tbody tr th {\n",
       "        vertical-align: top;\n",
       "    }\n",
       "\n",
       "    .dataframe thead th {\n",
       "        text-align: right;\n",
       "    }\n",
       "</style>\n",
       "<table border=\"1\" class=\"dataframe\">\n",
       "  <thead>\n",
       "    <tr style=\"text-align: right;\">\n",
       "      <th></th>\n",
       "      <th>Entity</th>\n",
       "      <th>Code</th>\n",
       "      <th>Year</th>\n",
       "      <th>Prevalence in males (%)</th>\n",
       "      <th>Prevalence in females (%)</th>\n",
       "      <th>Population</th>\n",
       "    </tr>\n",
       "  </thead>\n",
       "  <tbody>\n",
       "    <tr>\n",
       "      <th>190</th>\n",
       "      <td>Afghanistan</td>\n",
       "      <td>AFG</td>\n",
       "      <td>1990</td>\n",
       "      <td>3.499982</td>\n",
       "      <td>4.647815</td>\n",
       "      <td>12412000.0</td>\n",
       "    </tr>\n",
       "    <tr>\n",
       "      <th>191</th>\n",
       "      <td>Afghanistan</td>\n",
       "      <td>AFG</td>\n",
       "      <td>1991</td>\n",
       "      <td>3.503947</td>\n",
       "      <td>4.655772</td>\n",
       "      <td>13299000.0</td>\n",
       "    </tr>\n",
       "    <tr>\n",
       "      <th>192</th>\n",
       "      <td>Afghanistan</td>\n",
       "      <td>AFG</td>\n",
       "      <td>1992</td>\n",
       "      <td>3.508912</td>\n",
       "      <td>4.662066</td>\n",
       "      <td>14486000.0</td>\n",
       "    </tr>\n",
       "    <tr>\n",
       "      <th>193</th>\n",
       "      <td>Afghanistan</td>\n",
       "      <td>AFG</td>\n",
       "      <td>1993</td>\n",
       "      <td>3.513429</td>\n",
       "      <td>4.669012</td>\n",
       "      <td>15817000.0</td>\n",
       "    </tr>\n",
       "    <tr>\n",
       "      <th>194</th>\n",
       "      <td>Afghanistan</td>\n",
       "      <td>AFG</td>\n",
       "      <td>1994</td>\n",
       "      <td>3.515578</td>\n",
       "      <td>4.673050</td>\n",
       "      <td>17076000.0</td>\n",
       "    </tr>\n",
       "  </tbody>\n",
       "</table>\n",
       "</div>"
      ],
      "text/plain": [
       "          Entity Code  Year  Prevalence in males (%)  \\\n",
       "190  Afghanistan  AFG  1990                 3.499982   \n",
       "191  Afghanistan  AFG  1991                 3.503947   \n",
       "192  Afghanistan  AFG  1992                 3.508912   \n",
       "193  Afghanistan  AFG  1993                 3.513429   \n",
       "194  Afghanistan  AFG  1994                 3.515578   \n",
       "\n",
       "     Prevalence in females (%)  Population  \n",
       "190                   4.647815  12412000.0  \n",
       "191                   4.655772  13299000.0  \n",
       "192                   4.662066  14486000.0  \n",
       "193                   4.669012  15817000.0  \n",
       "194                   4.673050  17076000.0  "
      ]
     },
     "execution_count": 32,
     "metadata": {},
     "output_type": "execute_result"
    }
   ],
   "source": [
    "df1_gender.head()"
   ]
  },
  {
   "cell_type": "code",
   "execution_count": 33,
   "metadata": {},
   "outputs": [
    {
     "name": "stdout",
     "output_type": "stream",
     "text": [
      "<class 'pandas.core.frame.DataFrame'>\n",
      "Int64Index: 5488 entries, 190 to 47804\n",
      "Data columns (total 6 columns):\n",
      " #   Column                     Non-Null Count  Dtype  \n",
      "---  ------                     --------------  -----  \n",
      " 0   Entity                     5488 non-null   object \n",
      " 1   Code                       5488 non-null   object \n",
      " 2   Year                       5488 non-null   int32  \n",
      " 3   Prevalence in males (%)    5488 non-null   float64\n",
      " 4   Prevalence in females (%)  5488 non-null   float64\n",
      " 5   Population                 5488 non-null   float64\n",
      "dtypes: float64(3), int32(1), object(2)\n",
      "memory usage: 278.7+ KB\n"
     ]
    }
   ],
   "source": [
    "df1_gender.info()"
   ]
  },
  {
   "cell_type": "code",
   "execution_count": 57,
   "metadata": {},
   "outputs": [
    {
     "data": {
      "text/plain": [
       "Entity                        196\n",
       "Code                          196\n",
       "Year                           28\n",
       "Prevalence in males (%)      5488\n",
       "Prevalence in females (%)    5488\n",
       "Population                   4565\n",
       "dtype: int64"
      ]
     },
     "execution_count": 57,
     "metadata": {},
     "output_type": "execute_result"
    }
   ],
   "source": [
    "df1_gender.nunique()"
   ]
  },
  {
   "cell_type": "code",
   "execution_count": 58,
   "metadata": {},
   "outputs": [
    {
     "data": {
      "text/html": [
       "<div>\n",
       "<style scoped>\n",
       "    .dataframe tbody tr th:only-of-type {\n",
       "        vertical-align: middle;\n",
       "    }\n",
       "\n",
       "    .dataframe tbody tr th {\n",
       "        vertical-align: top;\n",
       "    }\n",
       "\n",
       "    .dataframe thead th {\n",
       "        text-align: right;\n",
       "    }\n",
       "</style>\n",
       "<table border=\"1\" class=\"dataframe\">\n",
       "  <thead>\n",
       "    <tr style=\"text-align: right;\">\n",
       "      <th></th>\n",
       "      <th>Entity</th>\n",
       "      <th>Code</th>\n",
       "      <th>Year</th>\n",
       "      <th>Schizophrenia (%)</th>\n",
       "      <th>Bipolar disorder (%)</th>\n",
       "      <th>Eating disorders (%)</th>\n",
       "      <th>Anxiety disorders (%)</th>\n",
       "      <th>Drug use disorders (%)</th>\n",
       "      <th>Depression (%)</th>\n",
       "      <th>Alcohol use disorders (%)</th>\n",
       "    </tr>\n",
       "  </thead>\n",
       "  <tbody>\n",
       "  </tbody>\n",
       "</table>\n",
       "</div>"
      ],
      "text/plain": [
       "Empty DataFrame\n",
       "Columns: [Entity, Code, Year, Schizophrenia (%), Bipolar disorder (%), Eating disorders (%), Anxiety disorders (%), Drug use disorders (%), Depression (%), Alcohol use disorders (%)]\n",
       "Index: []"
      ]
     },
     "execution_count": 58,
     "metadata": {},
     "output_type": "execute_result"
    }
   ],
   "source": [
    "duplicateRowsDF = df1_gender[df1_types.duplicated()]\n",
    "duplicateRowsDF"
   ]
  },
  {
   "cell_type": "markdown",
   "metadata": {},
   "source": [
    "#### Load the mental health and suicide data\n",
    "Depressive disorder number here includes depression, anxiety, bipolar, eating disorders, alcohol or drug use disorders, and\n",
    "schizophrenia."
   ]
  },
  {
   "cell_type": "code",
   "execution_count": 35,
   "metadata": {},
   "outputs": [],
   "source": [
    "df1_suicide = pd.read_excel(xls, 'suicide-rates-vs-prevalence-of-')"
   ]
  },
  {
   "cell_type": "code",
   "execution_count": 36,
   "metadata": {},
   "outputs": [
    {
     "data": {
      "text/html": [
       "<div>\n",
       "<style scoped>\n",
       "    .dataframe tbody tr th:only-of-type {\n",
       "        vertical-align: middle;\n",
       "    }\n",
       "\n",
       "    .dataframe tbody tr th {\n",
       "        vertical-align: top;\n",
       "    }\n",
       "\n",
       "    .dataframe thead th {\n",
       "        text-align: right;\n",
       "    }\n",
       "</style>\n",
       "<table border=\"1\" class=\"dataframe\">\n",
       "  <thead>\n",
       "    <tr style=\"text-align: right;\">\n",
       "      <th></th>\n",
       "      <th>Entity</th>\n",
       "      <th>Code</th>\n",
       "      <th>Year</th>\n",
       "      <th>Suicide rate (deaths per 100,000 individuals)</th>\n",
       "      <th>Depressive disorder rates (number suffering per 100,000)</th>\n",
       "      <th>Population</th>\n",
       "    </tr>\n",
       "  </thead>\n",
       "  <tbody>\n",
       "    <tr>\n",
       "      <th>0</th>\n",
       "      <td>Afghanistan</td>\n",
       "      <td>AFG</td>\n",
       "      <td>1800</td>\n",
       "      <td>NaN</td>\n",
       "      <td>NaN</td>\n",
       "      <td>3280000.0</td>\n",
       "    </tr>\n",
       "    <tr>\n",
       "      <th>1</th>\n",
       "      <td>Afghanistan</td>\n",
       "      <td>AFG</td>\n",
       "      <td>1801</td>\n",
       "      <td>NaN</td>\n",
       "      <td>NaN</td>\n",
       "      <td>3280000.0</td>\n",
       "    </tr>\n",
       "    <tr>\n",
       "      <th>2</th>\n",
       "      <td>Afghanistan</td>\n",
       "      <td>AFG</td>\n",
       "      <td>1802</td>\n",
       "      <td>NaN</td>\n",
       "      <td>NaN</td>\n",
       "      <td>3280000.0</td>\n",
       "    </tr>\n",
       "    <tr>\n",
       "      <th>3</th>\n",
       "      <td>Afghanistan</td>\n",
       "      <td>AFG</td>\n",
       "      <td>1803</td>\n",
       "      <td>NaN</td>\n",
       "      <td>NaN</td>\n",
       "      <td>3280000.0</td>\n",
       "    </tr>\n",
       "    <tr>\n",
       "      <th>4</th>\n",
       "      <td>Afghanistan</td>\n",
       "      <td>AFG</td>\n",
       "      <td>1804</td>\n",
       "      <td>NaN</td>\n",
       "      <td>NaN</td>\n",
       "      <td>3280000.0</td>\n",
       "    </tr>\n",
       "  </tbody>\n",
       "</table>\n",
       "</div>"
      ],
      "text/plain": [
       "        Entity Code  Year  Suicide rate (deaths per 100,000 individuals)  \\\n",
       "0  Afghanistan  AFG  1800                                            NaN   \n",
       "1  Afghanistan  AFG  1801                                            NaN   \n",
       "2  Afghanistan  AFG  1802                                            NaN   \n",
       "3  Afghanistan  AFG  1803                                            NaN   \n",
       "4  Afghanistan  AFG  1804                                            NaN   \n",
       "\n",
       "   Depressive disorder rates (number suffering per 100,000)  Population  \n",
       "0                                                NaN          3280000.0  \n",
       "1                                                NaN          3280000.0  \n",
       "2                                                NaN          3280000.0  \n",
       "3                                                NaN          3280000.0  \n",
       "4                                                NaN          3280000.0  "
      ]
     },
     "execution_count": 36,
     "metadata": {},
     "output_type": "execute_result"
    }
   ],
   "source": [
    "df1_suicide.head()"
   ]
  },
  {
   "cell_type": "code",
   "execution_count": 37,
   "metadata": {},
   "outputs": [
    {
     "data": {
      "text/plain": [
       "(47807, 6)"
      ]
     },
     "execution_count": 37,
     "metadata": {},
     "output_type": "execute_result"
    }
   ],
   "source": [
    "df1_suicide.shape"
   ]
  },
  {
   "cell_type": "code",
   "execution_count": 38,
   "metadata": {},
   "outputs": [
    {
     "name": "stdout",
     "output_type": "stream",
     "text": [
      "<class 'pandas.core.frame.DataFrame'>\n",
      "RangeIndex: 47807 entries, 0 to 47806\n",
      "Data columns (total 6 columns):\n",
      " #   Column                                                    Non-Null Count  Dtype  \n",
      "---  ------                                                    --------------  -----  \n",
      " 0   Entity                                                    47807 non-null  object \n",
      " 1   Code                                                      46081 non-null  object \n",
      " 2   Year                                                      47807 non-null  object \n",
      " 3   Suicide rate (deaths per 100,000 individuals)             6468 non-null   float64\n",
      " 4   Depressive disorder rates (number suffering per 100,000)  6468 non-null   float64\n",
      " 5   Population                                                46883 non-null  float64\n",
      "dtypes: float64(3), object(3)\n",
      "memory usage: 2.2+ MB\n"
     ]
    }
   ],
   "source": [
    "df1_suicide.info()"
   ]
  },
  {
   "cell_type": "code",
   "execution_count": 39,
   "metadata": {},
   "outputs": [],
   "source": [
    "df1_suicide.dropna(inplace=True)"
   ]
  },
  {
   "cell_type": "code",
   "execution_count": 40,
   "metadata": {},
   "outputs": [],
   "source": [
    "df1_suicide['Year'] = df1_suicide['Year'].astype(str).astype(int)"
   ]
  },
  {
   "cell_type": "code",
   "execution_count": 41,
   "metadata": {},
   "outputs": [
    {
     "name": "stdout",
     "output_type": "stream",
     "text": [
      "<class 'pandas.core.frame.DataFrame'>\n",
      "Int64Index: 5488 entries, 190 to 47804\n",
      "Data columns (total 6 columns):\n",
      " #   Column                                                    Non-Null Count  Dtype  \n",
      "---  ------                                                    --------------  -----  \n",
      " 0   Entity                                                    5488 non-null   object \n",
      " 1   Code                                                      5488 non-null   object \n",
      " 2   Year                                                      5488 non-null   int32  \n",
      " 3   Suicide rate (deaths per 100,000 individuals)             5488 non-null   float64\n",
      " 4   Depressive disorder rates (number suffering per 100,000)  5488 non-null   float64\n",
      " 5   Population                                                5488 non-null   float64\n",
      "dtypes: float64(3), int32(1), object(2)\n",
      "memory usage: 278.7+ KB\n"
     ]
    }
   ],
   "source": [
    "df1_suicide.info()"
   ]
  },
  {
   "cell_type": "code",
   "execution_count": 42,
   "metadata": {},
   "outputs": [
    {
     "data": {
      "text/html": [
       "<div>\n",
       "<style scoped>\n",
       "    .dataframe tbody tr th:only-of-type {\n",
       "        vertical-align: middle;\n",
       "    }\n",
       "\n",
       "    .dataframe tbody tr th {\n",
       "        vertical-align: top;\n",
       "    }\n",
       "\n",
       "    .dataframe thead th {\n",
       "        text-align: right;\n",
       "    }\n",
       "</style>\n",
       "<table border=\"1\" class=\"dataframe\">\n",
       "  <thead>\n",
       "    <tr style=\"text-align: right;\">\n",
       "      <th></th>\n",
       "      <th>Entity</th>\n",
       "      <th>Code</th>\n",
       "      <th>Year</th>\n",
       "      <th>Suicide rate (deaths per 100,000 individuals)</th>\n",
       "      <th>Depressive disorder rates (number suffering per 100,000)</th>\n",
       "      <th>Population</th>\n",
       "    </tr>\n",
       "  </thead>\n",
       "  <tbody>\n",
       "    <tr>\n",
       "      <th>190</th>\n",
       "      <td>Afghanistan</td>\n",
       "      <td>AFG</td>\n",
       "      <td>1990</td>\n",
       "      <td>10.318504</td>\n",
       "      <td>4039.755763</td>\n",
       "      <td>12412000.0</td>\n",
       "    </tr>\n",
       "    <tr>\n",
       "      <th>191</th>\n",
       "      <td>Afghanistan</td>\n",
       "      <td>AFG</td>\n",
       "      <td>1991</td>\n",
       "      <td>10.327010</td>\n",
       "      <td>4046.256034</td>\n",
       "      <td>13299000.0</td>\n",
       "    </tr>\n",
       "    <tr>\n",
       "      <th>192</th>\n",
       "      <td>Afghanistan</td>\n",
       "      <td>AFG</td>\n",
       "      <td>1992</td>\n",
       "      <td>10.271411</td>\n",
       "      <td>4053.709902</td>\n",
       "      <td>14486000.0</td>\n",
       "    </tr>\n",
       "    <tr>\n",
       "      <th>193</th>\n",
       "      <td>Afghanistan</td>\n",
       "      <td>AFG</td>\n",
       "      <td>1993</td>\n",
       "      <td>10.376123</td>\n",
       "      <td>4060.203474</td>\n",
       "      <td>15817000.0</td>\n",
       "    </tr>\n",
       "    <tr>\n",
       "      <th>194</th>\n",
       "      <td>Afghanistan</td>\n",
       "      <td>AFG</td>\n",
       "      <td>1994</td>\n",
       "      <td>10.575915</td>\n",
       "      <td>4062.290365</td>\n",
       "      <td>17076000.0</td>\n",
       "    </tr>\n",
       "  </tbody>\n",
       "</table>\n",
       "</div>"
      ],
      "text/plain": [
       "          Entity Code  Year  Suicide rate (deaths per 100,000 individuals)  \\\n",
       "190  Afghanistan  AFG  1990                                      10.318504   \n",
       "191  Afghanistan  AFG  1991                                      10.327010   \n",
       "192  Afghanistan  AFG  1992                                      10.271411   \n",
       "193  Afghanistan  AFG  1993                                      10.376123   \n",
       "194  Afghanistan  AFG  1994                                      10.575915   \n",
       "\n",
       "     Depressive disorder rates (number suffering per 100,000)  Population  \n",
       "190                                        4039.755763         12412000.0  \n",
       "191                                        4046.256034         13299000.0  \n",
       "192                                        4053.709902         14486000.0  \n",
       "193                                        4060.203474         15817000.0  \n",
       "194                                        4062.290365         17076000.0  "
      ]
     },
     "execution_count": 42,
     "metadata": {},
     "output_type": "execute_result"
    }
   ],
   "source": [
    "df1_suicide.head()"
   ]
  },
  {
   "cell_type": "code",
   "execution_count": 59,
   "metadata": {},
   "outputs": [
    {
     "data": {
      "text/plain": [
       "Entity                                                       196\n",
       "Code                                                         196\n",
       "Year                                                          28\n",
       "Suicide rate (deaths per 100,000 individuals)               5488\n",
       "Depressive disorder rates (number suffering per 100,000)    5488\n",
       "Population                                                  4565\n",
       "dtype: int64"
      ]
     },
     "execution_count": 59,
     "metadata": {},
     "output_type": "execute_result"
    }
   ],
   "source": [
    "df1_suicide.nunique()"
   ]
  },
  {
   "cell_type": "code",
   "execution_count": 60,
   "metadata": {},
   "outputs": [
    {
     "data": {
      "text/html": [
       "<div>\n",
       "<style scoped>\n",
       "    .dataframe tbody tr th:only-of-type {\n",
       "        vertical-align: middle;\n",
       "    }\n",
       "\n",
       "    .dataframe tbody tr th {\n",
       "        vertical-align: top;\n",
       "    }\n",
       "\n",
       "    .dataframe thead th {\n",
       "        text-align: right;\n",
       "    }\n",
       "</style>\n",
       "<table border=\"1\" class=\"dataframe\">\n",
       "  <thead>\n",
       "    <tr style=\"text-align: right;\">\n",
       "      <th></th>\n",
       "      <th>Entity</th>\n",
       "      <th>Code</th>\n",
       "      <th>Year</th>\n",
       "      <th>Schizophrenia (%)</th>\n",
       "      <th>Bipolar disorder (%)</th>\n",
       "      <th>Eating disorders (%)</th>\n",
       "      <th>Anxiety disorders (%)</th>\n",
       "      <th>Drug use disorders (%)</th>\n",
       "      <th>Depression (%)</th>\n",
       "      <th>Alcohol use disorders (%)</th>\n",
       "    </tr>\n",
       "  </thead>\n",
       "  <tbody>\n",
       "  </tbody>\n",
       "</table>\n",
       "</div>"
      ],
      "text/plain": [
       "Empty DataFrame\n",
       "Columns: [Entity, Code, Year, Schizophrenia (%), Bipolar disorder (%), Eating disorders (%), Anxiety disorders (%), Drug use disorders (%), Depression (%), Alcohol use disorders (%)]\n",
       "Index: []"
      ]
     },
     "execution_count": 60,
     "metadata": {},
     "output_type": "execute_result"
    }
   ],
   "source": [
    "duplicateRowsDF = df1_suicide[df1_types.duplicated()]\n",
    "duplicateRowsDF"
   ]
  },
  {
   "cell_type": "markdown",
   "metadata": {},
   "source": [
    "#### Load the number of people suffering from depression data"
   ]
  },
  {
   "cell_type": "code",
   "execution_count": 44,
   "metadata": {},
   "outputs": [],
   "source": [
    "df1_number = pd.read_excel(xls, 'number-with-depression-by-count')"
   ]
  },
  {
   "cell_type": "code",
   "execution_count": 45,
   "metadata": {},
   "outputs": [
    {
     "data": {
      "text/plain": [
       "(6468, 4)"
      ]
     },
     "execution_count": 45,
     "metadata": {},
     "output_type": "execute_result"
    }
   ],
   "source": [
    "df1_number.shape"
   ]
  },
  {
   "cell_type": "code",
   "execution_count": 46,
   "metadata": {},
   "outputs": [
    {
     "data": {
      "text/html": [
       "<div>\n",
       "<style scoped>\n",
       "    .dataframe tbody tr th:only-of-type {\n",
       "        vertical-align: middle;\n",
       "    }\n",
       "\n",
       "    .dataframe tbody tr th {\n",
       "        vertical-align: top;\n",
       "    }\n",
       "\n",
       "    .dataframe thead th {\n",
       "        text-align: right;\n",
       "    }\n",
       "</style>\n",
       "<table border=\"1\" class=\"dataframe\">\n",
       "  <thead>\n",
       "    <tr style=\"text-align: right;\">\n",
       "      <th></th>\n",
       "      <th>Entity</th>\n",
       "      <th>Code</th>\n",
       "      <th>Year</th>\n",
       "      <th>Prevalence - Depressive disorders - Sex: Both - Age: All Ages (Number) (people suffering from depression)</th>\n",
       "    </tr>\n",
       "  </thead>\n",
       "  <tbody>\n",
       "    <tr>\n",
       "      <th>0</th>\n",
       "      <td>Afghanistan</td>\n",
       "      <td>AFG</td>\n",
       "      <td>1990</td>\n",
       "      <td>318435.813670</td>\n",
       "    </tr>\n",
       "    <tr>\n",
       "      <th>1</th>\n",
       "      <td>Afghanistan</td>\n",
       "      <td>AFG</td>\n",
       "      <td>1991</td>\n",
       "      <td>329044.773956</td>\n",
       "    </tr>\n",
       "    <tr>\n",
       "      <th>2</th>\n",
       "      <td>Afghanistan</td>\n",
       "      <td>AFG</td>\n",
       "      <td>1992</td>\n",
       "      <td>382544.572895</td>\n",
       "    </tr>\n",
       "    <tr>\n",
       "      <th>3</th>\n",
       "      <td>Afghanistan</td>\n",
       "      <td>AFG</td>\n",
       "      <td>1993</td>\n",
       "      <td>440381.507393</td>\n",
       "    </tr>\n",
       "    <tr>\n",
       "      <th>4</th>\n",
       "      <td>Afghanistan</td>\n",
       "      <td>AFG</td>\n",
       "      <td>1994</td>\n",
       "      <td>456916.645489</td>\n",
       "    </tr>\n",
       "  </tbody>\n",
       "</table>\n",
       "</div>"
      ],
      "text/plain": [
       "        Entity Code  Year  \\\n",
       "0  Afghanistan  AFG  1990   \n",
       "1  Afghanistan  AFG  1991   \n",
       "2  Afghanistan  AFG  1992   \n",
       "3  Afghanistan  AFG  1993   \n",
       "4  Afghanistan  AFG  1994   \n",
       "\n",
       "   Prevalence - Depressive disorders - Sex: Both - Age: All Ages (Number) (people suffering from depression)  \n",
       "0                                      318435.813670                                                          \n",
       "1                                      329044.773956                                                          \n",
       "2                                      382544.572895                                                          \n",
       "3                                      440381.507393                                                          \n",
       "4                                      456916.645489                                                          "
      ]
     },
     "execution_count": 46,
     "metadata": {},
     "output_type": "execute_result"
    }
   ],
   "source": [
    "df1_number.head()"
   ]
  },
  {
   "cell_type": "code",
   "execution_count": 47,
   "metadata": {},
   "outputs": [],
   "source": [
    "# change the name of column Prevalence - Depressive disorders - Sex: Both - Age: All Ages (Number) (people suffering from depression) to Count\n",
    "df1_number.rename(columns={'Prevalence - Depressive disorders - Sex: Both - Age: All Ages (Number) (people suffering from depression)': 'Count'}, inplace=True)"
   ]
  },
  {
   "cell_type": "code",
   "execution_count": 48,
   "metadata": {},
   "outputs": [
    {
     "data": {
      "text/html": [
       "<div>\n",
       "<style scoped>\n",
       "    .dataframe tbody tr th:only-of-type {\n",
       "        vertical-align: middle;\n",
       "    }\n",
       "\n",
       "    .dataframe tbody tr th {\n",
       "        vertical-align: top;\n",
       "    }\n",
       "\n",
       "    .dataframe thead th {\n",
       "        text-align: right;\n",
       "    }\n",
       "</style>\n",
       "<table border=\"1\" class=\"dataframe\">\n",
       "  <thead>\n",
       "    <tr style=\"text-align: right;\">\n",
       "      <th></th>\n",
       "      <th>Entity</th>\n",
       "      <th>Code</th>\n",
       "      <th>Year</th>\n",
       "      <th>Count</th>\n",
       "    </tr>\n",
       "  </thead>\n",
       "  <tbody>\n",
       "    <tr>\n",
       "      <th>0</th>\n",
       "      <td>Afghanistan</td>\n",
       "      <td>AFG</td>\n",
       "      <td>1990</td>\n",
       "      <td>318435.813670</td>\n",
       "    </tr>\n",
       "    <tr>\n",
       "      <th>1</th>\n",
       "      <td>Afghanistan</td>\n",
       "      <td>AFG</td>\n",
       "      <td>1991</td>\n",
       "      <td>329044.773956</td>\n",
       "    </tr>\n",
       "    <tr>\n",
       "      <th>2</th>\n",
       "      <td>Afghanistan</td>\n",
       "      <td>AFG</td>\n",
       "      <td>1992</td>\n",
       "      <td>382544.572895</td>\n",
       "    </tr>\n",
       "    <tr>\n",
       "      <th>3</th>\n",
       "      <td>Afghanistan</td>\n",
       "      <td>AFG</td>\n",
       "      <td>1993</td>\n",
       "      <td>440381.507393</td>\n",
       "    </tr>\n",
       "    <tr>\n",
       "      <th>4</th>\n",
       "      <td>Afghanistan</td>\n",
       "      <td>AFG</td>\n",
       "      <td>1994</td>\n",
       "      <td>456916.645489</td>\n",
       "    </tr>\n",
       "  </tbody>\n",
       "</table>\n",
       "</div>"
      ],
      "text/plain": [
       "        Entity Code  Year          Count\n",
       "0  Afghanistan  AFG  1990  318435.813670\n",
       "1  Afghanistan  AFG  1991  329044.773956\n",
       "2  Afghanistan  AFG  1992  382544.572895\n",
       "3  Afghanistan  AFG  1993  440381.507393\n",
       "4  Afghanistan  AFG  1994  456916.645489"
      ]
     },
     "execution_count": 48,
     "metadata": {},
     "output_type": "execute_result"
    }
   ],
   "source": [
    "df1_number.head()"
   ]
  },
  {
   "cell_type": "code",
   "execution_count": 49,
   "metadata": {},
   "outputs": [
    {
     "name": "stdout",
     "output_type": "stream",
     "text": [
      "<class 'pandas.core.frame.DataFrame'>\n",
      "RangeIndex: 6468 entries, 0 to 6467\n",
      "Data columns (total 4 columns):\n",
      " #   Column  Non-Null Count  Dtype  \n",
      "---  ------  --------------  -----  \n",
      " 0   Entity  6468 non-null   object \n",
      " 1   Code    5488 non-null   object \n",
      " 2   Year    6468 non-null   int64  \n",
      " 3   Count   6468 non-null   float64\n",
      "dtypes: float64(1), int64(1), object(2)\n",
      "memory usage: 202.2+ KB\n"
     ]
    }
   ],
   "source": [
    "df1_number.info()"
   ]
  },
  {
   "cell_type": "code",
   "execution_count": 61,
   "metadata": {},
   "outputs": [
    {
     "data": {
      "text/plain": [
       "Entity     231\n",
       "Code       196\n",
       "Year        28\n",
       "Count     6468\n",
       "dtype: int64"
      ]
     },
     "execution_count": 61,
     "metadata": {},
     "output_type": "execute_result"
    }
   ],
   "source": [
    "df1_number.nunique()"
   ]
  },
  {
   "cell_type": "code",
   "execution_count": 62,
   "metadata": {},
   "outputs": [
    {
     "data": {
      "text/html": [
       "<div>\n",
       "<style scoped>\n",
       "    .dataframe tbody tr th:only-of-type {\n",
       "        vertical-align: middle;\n",
       "    }\n",
       "\n",
       "    .dataframe tbody tr th {\n",
       "        vertical-align: top;\n",
       "    }\n",
       "\n",
       "    .dataframe thead th {\n",
       "        text-align: right;\n",
       "    }\n",
       "</style>\n",
       "<table border=\"1\" class=\"dataframe\">\n",
       "  <thead>\n",
       "    <tr style=\"text-align: right;\">\n",
       "      <th></th>\n",
       "      <th>Entity</th>\n",
       "      <th>Code</th>\n",
       "      <th>Year</th>\n",
       "      <th>Schizophrenia (%)</th>\n",
       "      <th>Bipolar disorder (%)</th>\n",
       "      <th>Eating disorders (%)</th>\n",
       "      <th>Anxiety disorders (%)</th>\n",
       "      <th>Drug use disorders (%)</th>\n",
       "      <th>Depression (%)</th>\n",
       "      <th>Alcohol use disorders (%)</th>\n",
       "    </tr>\n",
       "  </thead>\n",
       "  <tbody>\n",
       "  </tbody>\n",
       "</table>\n",
       "</div>"
      ],
      "text/plain": [
       "Empty DataFrame\n",
       "Columns: [Entity, Code, Year, Schizophrenia (%), Bipolar disorder (%), Eating disorders (%), Anxiety disorders (%), Drug use disorders (%), Depression (%), Alcohol use disorders (%)]\n",
       "Index: []"
      ]
     },
     "execution_count": 62,
     "metadata": {},
     "output_type": "execute_result"
    }
   ],
   "source": [
    "duplicateRowsDF = df1_number[df1_types.duplicated()]\n",
    "duplicateRowsDF"
   ]
  },
  {
   "cell_type": "markdown",
   "metadata": {},
   "source": [
    "## Export data to a new excel file\n",
    "There are some data sheets changed, so needed to export to a new file."
   ]
  },
  {
   "cell_type": "code",
   "execution_count": 52,
   "metadata": {},
   "outputs": [],
   "source": [
    "with pd.ExcelWriter('data/mental_health_output_1.xlsx') as writer:  \n",
    "    df1_types.to_excel(writer, sheet_name='prevalence-by-mental-and-substa', index = False)\n",
    "    df1_edu_2014.to_excel(writer, sheet_name='depression-by-level-of-educatio', index = False)\n",
    "    df1_age.to_excel(writer, sheet_name='prevalence-of-depression-by-age', index = False)\n",
    "    df1_gender.to_excel(writer, sheet_name='prevalence-of-depression-males-', index = False)\n",
    "    df1_suicide.to_excel(writer, sheet_name='suicide-rates-vs-prevalence-of-', index = False)\n",
    "    df1_number.to_excel(writer, sheet_name='number-with-depression-by-count', index = False)"
   ]
  },
  {
   "cell_type": "markdown",
   "metadata": {},
   "source": [
    "## Next Step: EDA\n",
    "I will focus on the mental and substance use disorders data progress the Exploratory Data Analysis for the next step. Then explore the relationship between between mental illness and other impact factors."
   ]
  },
  {
   "cell_type": "code",
   "execution_count": null,
   "metadata": {},
   "outputs": [],
   "source": []
  }
 ],
 "metadata": {
  "kernelspec": {
   "display_name": "Python 3",
   "language": "python",
   "name": "python3"
  },
  "language_info": {
   "codemirror_mode": {
    "name": "ipython",
    "version": 3
   },
   "file_extension": ".py",
   "mimetype": "text/x-python",
   "name": "python",
   "nbconvert_exporter": "python",
   "pygments_lexer": "ipython3",
   "version": "3.7.6"
  }
 },
 "nbformat": 4,
 "nbformat_minor": 4
}
