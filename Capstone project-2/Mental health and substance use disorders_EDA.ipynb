{
 "cells": [
  {
   "cell_type": "markdown",
   "metadata": {},
   "source": [
    "# Mental health and substance use disorders -- Exploratory Data Analysis\n",
    "\n",
    "\n",
    "## Outline:\n",
    "1.   Problem Identification \n",
    "\n",
    "2.   Data Wrangling \n",
    " \n",
    "3.   **Exploratory Data Analysis** \n",
    " * Build data profile tables and plots\n",
    "        - Outliers & Anomalies\n",
    " * Explore data relationships\n",
    " * Data visualization\n",
    " * Statistics\n",
    "\n",
    "4.   Pre-processing and Training Data Development\n",
    "\n",
    "5.   Modeling \n",
    "\n",
    "6.   Documentation\n",
    "\n",
    "## Overview\n",
    "\n",
    "In this notebook, I will focus on Exploratory Data Analysis for different datasets. Here are some summaries from three different datasets.\n",
    "\n",
    "**1.** The first dataset includes a few prevalence mental health disorders rate, its share of total disease burden, the direct death from mental and substance use disorders, and suicide rate presented in 231 entities from 1997 to 2017. \n",
    "\n",
    "* From the profile table, I notice that 13% of people are suffering from mental and substance use disorders in the world.\n",
    "* After checking the outlier countries, I notice that all outliers are upper outliers and outlier countries are either big countries or rich countries. \n",
    "* I also observed that Alcohol use disorder has a positive correlation with the Suicide rate. \n",
    "* All countries behave differently in different decades. And for most features, the biggest increase has decreased decades in decades. \n",
    "* I also checked the relationship between disorders rate and GDP per capita, observed a strong positive correlation between 'Mental health and substance use disorders as a share of total disease burden' and GDP per capita, between Eating disorders and GDP per capita.\n",
    "* I then checked how Mental health and substance use disorders and Eating disorder behave in the top three richest and poorest countries. Rich countries tend to have more people suffering from mental health and substance use disorders than poor countries.\n",
    "\n",
    "**2.** Second, I explored the share of population by age groups suffering from any mental health or substance use disorders data.\n",
    "* I visualized 5-14 years old, 15-49 years old, 50-69 years old, 70+ years old, and age-standardized age groups at the whole world level. 50-69 years old age group shows the highest percentage, the 5-14 age group shows the lowest percentage.\n",
    "* Mental health or substance use disorders rate is decreasing for most age groups in the whole world level through 2000 to now.\n",
    "* I used Simpson's paradox method to compare different age groups with GDP in all countries. The correlation between GDP with each age group is different, if we want to determine the effect of GDP per capita on the probability of disease, we need to control for the age of patients. \n",
    "\n",
    "**3.** Then I checked the share of mental health and substance use disorders by sex data. I compared the rate for males and females and checked if there's a significant difference between them. From both t-test and permutation test, the difference between male and female is significant, and the female has a higher rate. "
   ]
  },
  {
   "cell_type": "markdown",
   "metadata": {},
   "source": [
    "**First, let's load the data.**"
   ]
  },
  {
   "cell_type": "code",
   "execution_count": 1,
   "metadata": {},
   "outputs": [],
   "source": [
    "#load python packages\n",
    "import os\n",
    "import pandas as pd\n",
    "import datetime\n",
    "import seaborn as sns\n",
    "import matplotlib.pyplot as plt\n",
    "import numpy as np\n",
    "%matplotlib inline"
   ]
  },
  {
   "cell_type": "code",
   "execution_count": 2,
   "metadata": {},
   "outputs": [
    {
     "name": "stdout",
     "output_type": "stream",
     "text": [
      "The current working directory is C:\\Users\\yuhan\\Desktop\\Springboard\\Capstone project-2\n"
     ]
    }
   ],
   "source": [
    "path = os.getcwd()\n",
    "print (\"The current working directory is %s\" % path)"
   ]
  },
  {
   "cell_type": "code",
   "execution_count": 3,
   "metadata": {},
   "outputs": [
    {
     "data": {
      "text/plain": [
       "['.ipynb_checkpoints',\n",
       " 'Capstone Two - Project Proposal.pdf',\n",
       " 'data',\n",
       " 'figures',\n",
       " 'Mental health and substance disorders data',\n",
       " 'Mental health and substance use disorders_data wrangling.ipynb',\n",
       " 'Mental health and substance use disorders_EDA.ipynb',\n",
       " 'Mental health and substance use disorders_Modeling.ipynb',\n",
       " 'Mental health and substance use disorders_Pre-Processing and Training Data Development.ipynb',\n",
       " 'models',\n",
       " 'Project final report.docx.pdf',\n",
       " 'README.md']"
      ]
     },
     "execution_count": 3,
     "metadata": {},
     "output_type": "execute_result"
    }
   ],
   "source": [
    "os.listdir()"
   ]
  },
  {
   "cell_type": "code",
   "execution_count": 4,
   "metadata": {},
   "outputs": [],
   "source": [
    "path = 'data'\n",
    "os.chdir(path)"
   ]
  },
  {
   "cell_type": "code",
   "execution_count": 5,
   "metadata": {
    "scrolled": true
   },
   "outputs": [
    {
     "data": {
      "text/plain": [
       "['GDP_per_capita_output.csv',\n",
       " 'mental_substance_age_output.csv',\n",
       " 'mental_substance_gdp_output.csv',\n",
       " 'mental_substance_gender_output.csv',\n",
       " 'mental_substance_output.csv']"
      ]
     },
     "execution_count": 5,
     "metadata": {},
     "output_type": "execute_result"
    }
   ],
   "source": [
    "os.listdir()"
   ]
  },
  {
   "cell_type": "code",
   "execution_count": 6,
   "metadata": {},
   "outputs": [
    {
     "data": {
      "text/html": [
       "<div>\n",
       "<style scoped>\n",
       "    .dataframe tbody tr th:only-of-type {\n",
       "        vertical-align: middle;\n",
       "    }\n",
       "\n",
       "    .dataframe tbody tr th {\n",
       "        vertical-align: top;\n",
       "    }\n",
       "\n",
       "    .dataframe thead th {\n",
       "        text-align: right;\n",
       "    }\n",
       "</style>\n",
       "<table border=\"1\" class=\"dataframe\">\n",
       "  <thead>\n",
       "    <tr style=\"text-align: right;\">\n",
       "      <th></th>\n",
       "      <th>Entity</th>\n",
       "      <th>Code</th>\n",
       "      <th>Year</th>\n",
       "      <th>GDP per capita ($)</th>\n",
       "    </tr>\n",
       "  </thead>\n",
       "  <tbody>\n",
       "    <tr>\n",
       "      <th>0</th>\n",
       "      <td>Afghanistan</td>\n",
       "      <td>AFG</td>\n",
       "      <td>2002</td>\n",
       "      <td>1063.635574</td>\n",
       "    </tr>\n",
       "    <tr>\n",
       "      <th>1</th>\n",
       "      <td>Afghanistan</td>\n",
       "      <td>AFG</td>\n",
       "      <td>2003</td>\n",
       "      <td>1099.194507</td>\n",
       "    </tr>\n",
       "    <tr>\n",
       "      <th>2</th>\n",
       "      <td>Afghanistan</td>\n",
       "      <td>AFG</td>\n",
       "      <td>2004</td>\n",
       "      <td>1062.249360</td>\n",
       "    </tr>\n",
       "    <tr>\n",
       "      <th>3</th>\n",
       "      <td>Afghanistan</td>\n",
       "      <td>AFG</td>\n",
       "      <td>2005</td>\n",
       "      <td>1136.123214</td>\n",
       "    </tr>\n",
       "    <tr>\n",
       "      <th>4</th>\n",
       "      <td>Afghanistan</td>\n",
       "      <td>AFG</td>\n",
       "      <td>2006</td>\n",
       "      <td>1161.124889</td>\n",
       "    </tr>\n",
       "  </tbody>\n",
       "</table>\n",
       "</div>"
      ],
      "text/plain": [
       "        Entity Code  Year  GDP per capita ($)\n",
       "0  Afghanistan  AFG  2002         1063.635574\n",
       "1  Afghanistan  AFG  2003         1099.194507\n",
       "2  Afghanistan  AFG  2004         1062.249360\n",
       "3  Afghanistan  AFG  2005         1136.123214\n",
       "4  Afghanistan  AFG  2006         1161.124889"
      ]
     },
     "execution_count": 6,
     "metadata": {},
     "output_type": "execute_result"
    }
   ],
   "source": [
    "gdpPerCapita = pd.read_csv('GDP_per_capita_output.csv', index_col=0)\n",
    "gdpPerCapita.head()"
   ]
  },
  {
   "cell_type": "code",
   "execution_count": 7,
   "metadata": {},
   "outputs": [
    {
     "data": {
      "text/html": [
       "<div>\n",
       "<style scoped>\n",
       "    .dataframe tbody tr th:only-of-type {\n",
       "        vertical-align: middle;\n",
       "    }\n",
       "\n",
       "    .dataframe tbody tr th {\n",
       "        vertical-align: top;\n",
       "    }\n",
       "\n",
       "    .dataframe thead th {\n",
       "        text-align: right;\n",
       "    }\n",
       "</style>\n",
       "<table border=\"1\" class=\"dataframe\">\n",
       "  <thead>\n",
       "    <tr style=\"text-align: right;\">\n",
       "      <th></th>\n",
       "      <th>Entity</th>\n",
       "      <th>Code</th>\n",
       "      <th>Year</th>\n",
       "      <th>10-14 years old (%)</th>\n",
       "      <th>15-19 years old (%)</th>\n",
       "      <th>20-24 years old (%)</th>\n",
       "      <th>25-29 years old (%)</th>\n",
       "      <th>30-34 years old (%)</th>\n",
       "      <th>All ages (%)</th>\n",
       "      <th>5-14 years old (%)</th>\n",
       "      <th>15-49 years old (%)</th>\n",
       "      <th>50-69 years old (%)</th>\n",
       "      <th>70+ years old (%)</th>\n",
       "      <th>Age-standardized (%)</th>\n",
       "    </tr>\n",
       "  </thead>\n",
       "  <tbody>\n",
       "    <tr>\n",
       "      <th>0</th>\n",
       "      <td>Afghanistan</td>\n",
       "      <td>AFG</td>\n",
       "      <td>1990</td>\n",
       "      <td>17.963929</td>\n",
       "      <td>20.746551</td>\n",
       "      <td>20.394054</td>\n",
       "      <td>20.968224</td>\n",
       "      <td>21.363230</td>\n",
       "      <td>16.471540</td>\n",
       "      <td>14.857525</td>\n",
       "      <td>20.796416</td>\n",
       "      <td>17.911218</td>\n",
       "      <td>14.549360</td>\n",
       "      <td>17.553463</td>\n",
       "    </tr>\n",
       "    <tr>\n",
       "      <th>1</th>\n",
       "      <td>Afghanistan</td>\n",
       "      <td>AFG</td>\n",
       "      <td>1991</td>\n",
       "      <td>18.308466</td>\n",
       "      <td>21.059514</td>\n",
       "      <td>20.690527</td>\n",
       "      <td>21.226918</td>\n",
       "      <td>21.628881</td>\n",
       "      <td>16.750416</td>\n",
       "      <td>15.122301</td>\n",
       "      <td>21.064413</td>\n",
       "      <td>18.109323</td>\n",
       "      <td>14.680612</td>\n",
       "      <td>17.837032</td>\n",
       "    </tr>\n",
       "    <tr>\n",
       "      <th>2</th>\n",
       "      <td>Afghanistan</td>\n",
       "      <td>AFG</td>\n",
       "      <td>1992</td>\n",
       "      <td>18.618200</td>\n",
       "      <td>21.360629</td>\n",
       "      <td>20.975017</td>\n",
       "      <td>21.437639</td>\n",
       "      <td>21.855734</td>\n",
       "      <td>17.022630</td>\n",
       "      <td>15.353386</td>\n",
       "      <td>21.309476</td>\n",
       "      <td>18.300797</td>\n",
       "      <td>14.795600</td>\n",
       "      <td>18.092542</td>\n",
       "    </tr>\n",
       "    <tr>\n",
       "      <th>3</th>\n",
       "      <td>Afghanistan</td>\n",
       "      <td>AFG</td>\n",
       "      <td>1993</td>\n",
       "      <td>18.854464</td>\n",
       "      <td>21.590949</td>\n",
       "      <td>21.184427</td>\n",
       "      <td>21.595253</td>\n",
       "      <td>22.046316</td>\n",
       "      <td>17.208295</td>\n",
       "      <td>15.529752</td>\n",
       "      <td>21.498997</td>\n",
       "      <td>18.464068</td>\n",
       "      <td>14.886083</td>\n",
       "      <td>18.294931</td>\n",
       "    </tr>\n",
       "    <tr>\n",
       "      <th>4</th>\n",
       "      <td>Afghanistan</td>\n",
       "      <td>AFG</td>\n",
       "      <td>1994</td>\n",
       "      <td>19.022019</td>\n",
       "      <td>21.741705</td>\n",
       "      <td>21.313204</td>\n",
       "      <td>21.725390</td>\n",
       "      <td>22.158546</td>\n",
       "      <td>17.230492</td>\n",
       "      <td>15.624982</td>\n",
       "      <td>21.635443</td>\n",
       "      <td>18.558568</td>\n",
       "      <td>14.941922</td>\n",
       "      <td>18.428908</td>\n",
       "    </tr>\n",
       "  </tbody>\n",
       "</table>\n",
       "</div>"
      ],
      "text/plain": [
       "        Entity Code  Year  10-14 years old (%)  15-19 years old (%)  \\\n",
       "0  Afghanistan  AFG  1990            17.963929            20.746551   \n",
       "1  Afghanistan  AFG  1991            18.308466            21.059514   \n",
       "2  Afghanistan  AFG  1992            18.618200            21.360629   \n",
       "3  Afghanistan  AFG  1993            18.854464            21.590949   \n",
       "4  Afghanistan  AFG  1994            19.022019            21.741705   \n",
       "\n",
       "   20-24 years old (%)  25-29 years old (%)  30-34 years old (%)  \\\n",
       "0            20.394054            20.968224            21.363230   \n",
       "1            20.690527            21.226918            21.628881   \n",
       "2            20.975017            21.437639            21.855734   \n",
       "3            21.184427            21.595253            22.046316   \n",
       "4            21.313204            21.725390            22.158546   \n",
       "\n",
       "   All ages (%)  5-14 years old (%)  15-49 years old (%)  50-69 years old (%)  \\\n",
       "0     16.471540           14.857525            20.796416            17.911218   \n",
       "1     16.750416           15.122301            21.064413            18.109323   \n",
       "2     17.022630           15.353386            21.309476            18.300797   \n",
       "3     17.208295           15.529752            21.498997            18.464068   \n",
       "4     17.230492           15.624982            21.635443            18.558568   \n",
       "\n",
       "   70+ years old (%)  Age-standardized (%)  \n",
       "0          14.549360             17.553463  \n",
       "1          14.680612             17.837032  \n",
       "2          14.795600             18.092542  \n",
       "3          14.886083             18.294931  \n",
       "4          14.941922             18.428908  "
      ]
     },
     "execution_count": 7,
     "metadata": {},
     "output_type": "execute_result"
    }
   ],
   "source": [
    "ageGroups = pd.read_csv('mental_substance_age_output.csv', index_col=0)\n",
    "ageGroups.head()"
   ]
  },
  {
   "cell_type": "code",
   "execution_count": 8,
   "metadata": {},
   "outputs": [
    {
     "data": {
      "text/html": [
       "<div>\n",
       "<style scoped>\n",
       "    .dataframe tbody tr th:only-of-type {\n",
       "        vertical-align: middle;\n",
       "    }\n",
       "\n",
       "    .dataframe tbody tr th {\n",
       "        vertical-align: top;\n",
       "    }\n",
       "\n",
       "    .dataframe thead th {\n",
       "        text-align: right;\n",
       "    }\n",
       "</style>\n",
       "<table border=\"1\" class=\"dataframe\">\n",
       "  <thead>\n",
       "    <tr style=\"text-align: right;\">\n",
       "      <th></th>\n",
       "      <th>Entity</th>\n",
       "      <th>Code</th>\n",
       "      <th>Year</th>\n",
       "      <th>Male (%)</th>\n",
       "      <th>Female (%)</th>\n",
       "    </tr>\n",
       "  </thead>\n",
       "  <tbody>\n",
       "    <tr>\n",
       "      <th>0</th>\n",
       "      <td>Afghanistan</td>\n",
       "      <td>AFG</td>\n",
       "      <td>1990</td>\n",
       "      <td>17.448695</td>\n",
       "      <td>17.634233</td>\n",
       "    </tr>\n",
       "    <tr>\n",
       "      <th>1</th>\n",
       "      <td>Afghanistan</td>\n",
       "      <td>AFG</td>\n",
       "      <td>1991</td>\n",
       "      <td>17.771263</td>\n",
       "      <td>17.873184</td>\n",
       "    </tr>\n",
       "    <tr>\n",
       "      <th>2</th>\n",
       "      <td>Afghanistan</td>\n",
       "      <td>AFG</td>\n",
       "      <td>1992</td>\n",
       "      <td>18.051575</td>\n",
       "      <td>18.092318</td>\n",
       "    </tr>\n",
       "    <tr>\n",
       "      <th>3</th>\n",
       "      <td>Afghanistan</td>\n",
       "      <td>AFG</td>\n",
       "      <td>1993</td>\n",
       "      <td>18.275848</td>\n",
       "      <td>18.265196</td>\n",
       "    </tr>\n",
       "    <tr>\n",
       "      <th>4</th>\n",
       "      <td>Afghanistan</td>\n",
       "      <td>AFG</td>\n",
       "      <td>1994</td>\n",
       "      <td>18.427490</td>\n",
       "      <td>18.383394</td>\n",
       "    </tr>\n",
       "  </tbody>\n",
       "</table>\n",
       "</div>"
      ],
      "text/plain": [
       "        Entity Code  Year   Male (%)  Female (%)\n",
       "0  Afghanistan  AFG  1990  17.448695   17.634233\n",
       "1  Afghanistan  AFG  1991  17.771263   17.873184\n",
       "2  Afghanistan  AFG  1992  18.051575   18.092318\n",
       "3  Afghanistan  AFG  1993  18.275848   18.265196\n",
       "4  Afghanistan  AFG  1994  18.427490   18.383394"
      ]
     },
     "execution_count": 8,
     "metadata": {},
     "output_type": "execute_result"
    }
   ],
   "source": [
    "gender = pd.read_csv('mental_substance_gender_output.csv', index_col=0)\n",
    "gender.head()"
   ]
  },
  {
   "cell_type": "code",
   "execution_count": 9,
   "metadata": {},
   "outputs": [
    {
     "data": {
      "text/html": [
       "<div>\n",
       "<style scoped>\n",
       "    .dataframe tbody tr th:only-of-type {\n",
       "        vertical-align: middle;\n",
       "    }\n",
       "\n",
       "    .dataframe tbody tr th {\n",
       "        vertical-align: top;\n",
       "    }\n",
       "\n",
       "    .dataframe thead th {\n",
       "        text-align: right;\n",
       "    }\n",
       "</style>\n",
       "<table border=\"1\" class=\"dataframe\">\n",
       "  <thead>\n",
       "    <tr style=\"text-align: right;\">\n",
       "      <th></th>\n",
       "      <th>Entity</th>\n",
       "      <th>Code</th>\n",
       "      <th>Year</th>\n",
       "      <th>Mental and substance use disorders (%)</th>\n",
       "      <th>Share of total disease (%)</th>\n",
       "      <th>Deaths - Mental and substance use disorders (per 100,000)</th>\n",
       "      <th>Suicide Rate (per 100,000)</th>\n",
       "      <th>Alcohol use disorders (%)</th>\n",
       "      <th>Drug use disorders (%)</th>\n",
       "      <th>Depressive disorders (%)</th>\n",
       "      <th>Bipolar disorder (%)</th>\n",
       "      <th>Anxiety disorders (%)</th>\n",
       "      <th>Eating disorders (%)</th>\n",
       "      <th>Schizophrenia (%)</th>\n",
       "    </tr>\n",
       "  </thead>\n",
       "  <tbody>\n",
       "    <tr>\n",
       "      <th>0</th>\n",
       "      <td>Afghanistan</td>\n",
       "      <td>AFG</td>\n",
       "      <td>1990</td>\n",
       "      <td>17.553463</td>\n",
       "      <td>1.320975</td>\n",
       "      <td>0.144067</td>\n",
       "      <td>10.318504</td>\n",
       "      <td>0.672404</td>\n",
       "      <td>1.677082</td>\n",
       "      <td>4.071831</td>\n",
       "      <td>0.697779</td>\n",
       "      <td>4.828830</td>\n",
       "      <td>0.101855</td>\n",
       "      <td>0.160560</td>\n",
       "    </tr>\n",
       "    <tr>\n",
       "      <th>1</th>\n",
       "      <td>Afghanistan</td>\n",
       "      <td>AFG</td>\n",
       "      <td>1991</td>\n",
       "      <td>17.837032</td>\n",
       "      <td>1.354445</td>\n",
       "      <td>0.140653</td>\n",
       "      <td>10.327010</td>\n",
       "      <td>0.671768</td>\n",
       "      <td>1.684746</td>\n",
       "      <td>4.079531</td>\n",
       "      <td>0.697961</td>\n",
       "      <td>4.829740</td>\n",
       "      <td>0.099313</td>\n",
       "      <td>0.160312</td>\n",
       "    </tr>\n",
       "    <tr>\n",
       "      <th>2</th>\n",
       "      <td>Afghanistan</td>\n",
       "      <td>AFG</td>\n",
       "      <td>1992</td>\n",
       "      <td>18.092542</td>\n",
       "      <td>1.506504</td>\n",
       "      <td>0.135279</td>\n",
       "      <td>10.271411</td>\n",
       "      <td>0.670644</td>\n",
       "      <td>1.694334</td>\n",
       "      <td>4.088358</td>\n",
       "      <td>0.698107</td>\n",
       "      <td>4.831108</td>\n",
       "      <td>0.096692</td>\n",
       "      <td>0.160135</td>\n",
       "    </tr>\n",
       "    <tr>\n",
       "      <th>3</th>\n",
       "      <td>Afghanistan</td>\n",
       "      <td>AFG</td>\n",
       "      <td>1993</td>\n",
       "      <td>18.294931</td>\n",
       "      <td>1.487670</td>\n",
       "      <td>0.133047</td>\n",
       "      <td>10.376123</td>\n",
       "      <td>0.669738</td>\n",
       "      <td>1.705320</td>\n",
       "      <td>4.096190</td>\n",
       "      <td>0.698257</td>\n",
       "      <td>4.830864</td>\n",
       "      <td>0.094336</td>\n",
       "      <td>0.160037</td>\n",
       "    </tr>\n",
       "    <tr>\n",
       "      <th>4</th>\n",
       "      <td>Afghanistan</td>\n",
       "      <td>AFG</td>\n",
       "      <td>1994</td>\n",
       "      <td>18.428908</td>\n",
       "      <td>1.389687</td>\n",
       "      <td>0.130073</td>\n",
       "      <td>10.575915</td>\n",
       "      <td>0.669260</td>\n",
       "      <td>1.716069</td>\n",
       "      <td>4.099582</td>\n",
       "      <td>0.698469</td>\n",
       "      <td>4.829423</td>\n",
       "      <td>0.092439</td>\n",
       "      <td>0.160022</td>\n",
       "    </tr>\n",
       "  </tbody>\n",
       "</table>\n",
       "</div>"
      ],
      "text/plain": [
       "        Entity Code  Year  Mental and substance use disorders (%)  \\\n",
       "0  Afghanistan  AFG  1990                               17.553463   \n",
       "1  Afghanistan  AFG  1991                               17.837032   \n",
       "2  Afghanistan  AFG  1992                               18.092542   \n",
       "3  Afghanistan  AFG  1993                               18.294931   \n",
       "4  Afghanistan  AFG  1994                               18.428908   \n",
       "\n",
       "   Share of total disease (%)  \\\n",
       "0                    1.320975   \n",
       "1                    1.354445   \n",
       "2                    1.506504   \n",
       "3                    1.487670   \n",
       "4                    1.389687   \n",
       "\n",
       "   Deaths - Mental and substance use disorders (per 100,000)  \\\n",
       "0                                           0.144067           \n",
       "1                                           0.140653           \n",
       "2                                           0.135279           \n",
       "3                                           0.133047           \n",
       "4                                           0.130073           \n",
       "\n",
       "   Suicide Rate (per 100,000)  Alcohol use disorders (%)  \\\n",
       "0                   10.318504                   0.672404   \n",
       "1                   10.327010                   0.671768   \n",
       "2                   10.271411                   0.670644   \n",
       "3                   10.376123                   0.669738   \n",
       "4                   10.575915                   0.669260   \n",
       "\n",
       "   Drug use disorders (%)  Depressive disorders (%)  Bipolar disorder (%)  \\\n",
       "0                1.677082                  4.071831              0.697779   \n",
       "1                1.684746                  4.079531              0.697961   \n",
       "2                1.694334                  4.088358              0.698107   \n",
       "3                1.705320                  4.096190              0.698257   \n",
       "4                1.716069                  4.099582              0.698469   \n",
       "\n",
       "   Anxiety disorders (%)  Eating disorders (%)  Schizophrenia (%)  \n",
       "0               4.828830              0.101855           0.160560  \n",
       "1               4.829740              0.099313           0.160312  \n",
       "2               4.831108              0.096692           0.160135  \n",
       "3               4.830864              0.094336           0.160037  \n",
       "4               4.829423              0.092439           0.160022  "
      ]
     },
     "execution_count": 9,
     "metadata": {},
     "output_type": "execute_result"
    }
   ],
   "source": [
    "mental_sub = pd.read_csv('mental_substance_output.csv', index_col=0)\n",
    "mental_sub.head()"
   ]
  },
  {
   "cell_type": "markdown",
   "metadata": {},
   "source": [
    "## Explore mental_sub dataframe \n",
    "Try to understand why mental health and substance use disorders are important, and the relationship between suicide and GDP per capita.\n",
    "### Build data profiles and tables"
   ]
  },
  {
   "cell_type": "code",
   "execution_count": 67,
   "metadata": {},
   "outputs": [
    {
     "data": {
      "text/html": [
       "<div>\n",
       "<style scoped>\n",
       "    .dataframe tbody tr th:only-of-type {\n",
       "        vertical-align: middle;\n",
       "    }\n",
       "\n",
       "    .dataframe tbody tr th {\n",
       "        vertical-align: top;\n",
       "    }\n",
       "\n",
       "    .dataframe thead th {\n",
       "        text-align: right;\n",
       "    }\n",
       "</style>\n",
       "<table border=\"1\" class=\"dataframe\">\n",
       "  <thead>\n",
       "    <tr style=\"text-align: right;\">\n",
       "      <th></th>\n",
       "      <th>Mental and substance use disorders (%)</th>\n",
       "      <th>Share of total disease (%)</th>\n",
       "      <th>Deaths - Mental and substance use disorders (per 100,000)</th>\n",
       "      <th>Suicide Rate (per 100,000)</th>\n",
       "      <th>Alcohol use disorders (%)</th>\n",
       "      <th>Drug use disorders (%)</th>\n",
       "      <th>Depressive disorders (%)</th>\n",
       "      <th>Bipolar disorder (%)</th>\n",
       "      <th>Anxiety disorders (%)</th>\n",
       "      <th>Eating disorders (%)</th>\n",
       "      <th>Schizophrenia (%)</th>\n",
       "    </tr>\n",
       "  </thead>\n",
       "  <tbody>\n",
       "    <tr>\n",
       "      <th>count</th>\n",
       "      <td>6468.000000</td>\n",
       "      <td>6468.000000</td>\n",
       "      <td>6468.000000</td>\n",
       "      <td>6468.000000</td>\n",
       "      <td>6468.000000</td>\n",
       "      <td>6468.000000</td>\n",
       "      <td>6468.000000</td>\n",
       "      <td>6468.000000</td>\n",
       "      <td>6468.000000</td>\n",
       "      <td>6468.000000</td>\n",
       "      <td>6468.000000</td>\n",
       "    </tr>\n",
       "    <tr>\n",
       "      <th>mean</th>\n",
       "      <td>13.004642</td>\n",
       "      <td>4.642531</td>\n",
       "      <td>5.014424</td>\n",
       "      <td>12.068240</td>\n",
       "      <td>1.585821</td>\n",
       "      <td>0.862278</td>\n",
       "      <td>3.497654</td>\n",
       "      <td>0.719145</td>\n",
       "      <td>3.989921</td>\n",
       "      <td>0.239998</td>\n",
       "      <td>0.211644</td>\n",
       "    </tr>\n",
       "    <tr>\n",
       "      <th>std</th>\n",
       "      <td>1.848711</td>\n",
       "      <td>2.233705</td>\n",
       "      <td>9.795962</td>\n",
       "      <td>8.037739</td>\n",
       "      <td>0.860283</td>\n",
       "      <td>0.460679</td>\n",
       "      <td>0.655859</td>\n",
       "      <td>0.171589</td>\n",
       "      <td>1.167526</td>\n",
       "      <td>0.158141</td>\n",
       "      <td>0.044253</td>\n",
       "    </tr>\n",
       "    <tr>\n",
       "      <th>min</th>\n",
       "      <td>9.715255</td>\n",
       "      <td>0.174323</td>\n",
       "      <td>0.034565</td>\n",
       "      <td>1.526792</td>\n",
       "      <td>0.446940</td>\n",
       "      <td>0.383650</td>\n",
       "      <td>2.139903</td>\n",
       "      <td>0.314535</td>\n",
       "      <td>2.023393</td>\n",
       "      <td>0.073908</td>\n",
       "      <td>0.146902</td>\n",
       "    </tr>\n",
       "    <tr>\n",
       "      <th>25%</th>\n",
       "      <td>11.488694</td>\n",
       "      <td>2.825027</td>\n",
       "      <td>0.356321</td>\n",
       "      <td>6.741737</td>\n",
       "      <td>0.993685</td>\n",
       "      <td>0.535064</td>\n",
       "      <td>3.005529</td>\n",
       "      <td>0.615532</td>\n",
       "      <td>3.188824</td>\n",
       "      <td>0.122387</td>\n",
       "      <td>0.181530</td>\n",
       "    </tr>\n",
       "    <tr>\n",
       "      <th>50%</th>\n",
       "      <td>12.484004</td>\n",
       "      <td>4.512848</td>\n",
       "      <td>1.254213</td>\n",
       "      <td>10.668531</td>\n",
       "      <td>1.479937</td>\n",
       "      <td>0.726430</td>\n",
       "      <td>3.499606</td>\n",
       "      <td>0.693134</td>\n",
       "      <td>3.554373</td>\n",
       "      <td>0.182525</td>\n",
       "      <td>0.199563</td>\n",
       "    </tr>\n",
       "    <tr>\n",
       "      <th>75%</th>\n",
       "      <td>14.274301</td>\n",
       "      <td>6.342170</td>\n",
       "      <td>4.235866</td>\n",
       "      <td>14.742472</td>\n",
       "      <td>1.867834</td>\n",
       "      <td>0.940157</td>\n",
       "      <td>3.912381</td>\n",
       "      <td>0.835063</td>\n",
       "      <td>4.682163</td>\n",
       "      <td>0.292666</td>\n",
       "      <td>0.236365</td>\n",
       "    </tr>\n",
       "    <tr>\n",
       "      <th>max</th>\n",
       "      <td>19.115460</td>\n",
       "      <td>12.031016</td>\n",
       "      <td>89.797874</td>\n",
       "      <td>98.831696</td>\n",
       "      <td>5.474668</td>\n",
       "      <td>3.452476</td>\n",
       "      <td>6.602754</td>\n",
       "      <td>1.206597</td>\n",
       "      <td>8.967330</td>\n",
       "      <td>0.943991</td>\n",
       "      <td>0.375110</td>\n",
       "    </tr>\n",
       "  </tbody>\n",
       "</table>\n",
       "</div>"
      ],
      "text/plain": [
       "       Mental and substance use disorders (%)  Share of total disease (%)  \\\n",
       "count                             6468.000000                 6468.000000   \n",
       "mean                                13.004642                    4.642531   \n",
       "std                                  1.848711                    2.233705   \n",
       "min                                  9.715255                    0.174323   \n",
       "25%                                 11.488694                    2.825027   \n",
       "50%                                 12.484004                    4.512848   \n",
       "75%                                 14.274301                    6.342170   \n",
       "max                                 19.115460                   12.031016   \n",
       "\n",
       "       Deaths - Mental and substance use disorders (per 100,000)  \\\n",
       "count                                        6468.000000           \n",
       "mean                                            5.014424           \n",
       "std                                             9.795962           \n",
       "min                                             0.034565           \n",
       "25%                                             0.356321           \n",
       "50%                                             1.254213           \n",
       "75%                                             4.235866           \n",
       "max                                            89.797874           \n",
       "\n",
       "       Suicide Rate (per 100,000)  Alcohol use disorders (%)  \\\n",
       "count                 6468.000000                6468.000000   \n",
       "mean                    12.068240                   1.585821   \n",
       "std                      8.037739                   0.860283   \n",
       "min                      1.526792                   0.446940   \n",
       "25%                      6.741737                   0.993685   \n",
       "50%                     10.668531                   1.479937   \n",
       "75%                     14.742472                   1.867834   \n",
       "max                     98.831696                   5.474668   \n",
       "\n",
       "       Drug use disorders (%)  Depressive disorders (%)  Bipolar disorder (%)  \\\n",
       "count             6468.000000               6468.000000           6468.000000   \n",
       "mean                 0.862278                  3.497654              0.719145   \n",
       "std                  0.460679                  0.655859              0.171589   \n",
       "min                  0.383650                  2.139903              0.314535   \n",
       "25%                  0.535064                  3.005529              0.615532   \n",
       "50%                  0.726430                  3.499606              0.693134   \n",
       "75%                  0.940157                  3.912381              0.835063   \n",
       "max                  3.452476                  6.602754              1.206597   \n",
       "\n",
       "       Anxiety disorders (%)  Eating disorders (%)  Schizophrenia (%)  \n",
       "count            6468.000000           6468.000000        6468.000000  \n",
       "mean                3.989921              0.239998           0.211644  \n",
       "std                 1.167526              0.158141           0.044253  \n",
       "min                 2.023393              0.073908           0.146902  \n",
       "25%                 3.188824              0.122387           0.181530  \n",
       "50%                 3.554373              0.182525           0.199563  \n",
       "75%                 4.682163              0.292666           0.236365  \n",
       "max                 8.967330              0.943991           0.375110  "
      ]
     },
     "execution_count": 67,
     "metadata": {},
     "output_type": "execute_result"
    }
   ],
   "source": [
    "mental_sub.drop(columns=['Year']).describe()"
   ]
  },
  {
   "cell_type": "markdown",
   "metadata": {},
   "source": [
    "* The mean of mental and substance use disorders share of population is 13%, this is a very high number, that means there are 13 people is suffering on mental and substance use disorders per 100 people in the world.\n",
    "* Higher people rate are suffering from depressive disorder (3.4977%) and anxiety disorder(3.9899%)."
   ]
  },
  {
   "cell_type": "markdown",
   "metadata": {},
   "source": [
    "#### Reviewing for Outliers and Anamolies"
   ]
  },
  {
   "cell_type": "code",
   "execution_count": 11,
   "metadata": {
    "scrolled": true
   },
   "outputs": [
    {
     "data": {
      "text/plain": [
       "<matplotlib.axes._subplots.AxesSubplot at 0x1141f9622c8>"
      ]
     },
     "execution_count": 11,
     "metadata": {},
     "output_type": "execute_result"
    },
    {
     "data": {
      "image/png": "[encoded data removed]",
      "text/plain": [
       "<Figure size 432x288 with 1 Axes>"
      ]
     },
     "metadata": {
      "needs_background": "light"
     },
     "output_type": "display_data"
    }
   ],
   "source": [
    "# The columns of suicide rate and Deaths - Mental and substance use disorders (per 100,000) have bigger range\n",
    "# I will run boxplot seperately\n",
    "mental_sub.drop(columns=['Year', \n",
    "                         'Deaths - Mental and substance use disorders (per 100,000)',\n",
    "                        'Suicide Rate (per 100,000)']).boxplot(grid=False, vert=False,fontsize=15)"
   ]
  },
  {
   "cell_type": "code",
   "execution_count": 12,
   "metadata": {},
   "outputs": [
    {
     "data": {
      "text/plain": [
       "<matplotlib.axes._subplots.AxesSubplot at 0x114201d7808>"
      ]
     },
     "execution_count": 12,
     "metadata": {},
     "output_type": "execute_result"
    },
    {
     "data": {
      "image/png": "[encoded data removed]",
      "text/plain": [
       "<Figure size 432x288 with 1 Axes>"
      ]
     },
     "metadata": {
      "needs_background": "light"
     },
     "output_type": "display_data"
    }
   ],
   "source": [
    "mental_sub[['Deaths - Mental and substance use disorders (per 100,000)',\n",
    "           'Suicide Rate (per 100,000)']].boxplot(grid=False, vert=False,fontsize=15)"
   ]
  },
  {
   "cell_type": "markdown",
   "metadata": {},
   "source": [
    "It shows all columns have outliers with more 1.5×IQR above the third quartile. All outliers are upper outliers. Here, I am interested in which wntities are outliers and if they are constantly being an outlier through years and top frequency entities.\n",
    "\n",
    "**1. Check the outlier entities.**"
   ]
  },
  {
   "cell_type": "code",
   "execution_count": 13,
   "metadata": {},
   "outputs": [],
   "source": [
    "# get the outliers\n",
    "Q1 = mental_sub.quantile(0.25)\n",
    "Q3 = mental_sub.quantile(0.75)\n",
    "IQR = Q3 - Q1\n",
    "\n",
    "# Outliers\n",
    "mental_sub_o = mental_sub[((mental_sub < (Q1 - 1.5 * IQR)) |(mental_sub > (Q3 + 1.5 * IQR))).any(axis=1)]\n",
    "\n",
    "# Remove outliers\n",
    "mental_sub_no = mental_sub.drop(mental_sub_o.index)"
   ]
  },
  {
   "cell_type": "code",
   "execution_count": 14,
   "metadata": {},
   "outputs": [
    {
     "data": {
      "text/plain": [
       "87"
      ]
     },
     "execution_count": 14,
     "metadata": {},
     "output_type": "execute_result"
    }
   ],
   "source": [
    "# check the number of countries being outliers\n",
    "mental_sub_o.Entity.nunique()"
   ]
  },
  {
   "cell_type": "code",
   "execution_count": 15,
   "metadata": {},
   "outputs": [
    {
     "data": {
      "text/plain": [
       "231"
      ]
     },
     "execution_count": 15,
     "metadata": {},
     "output_type": "execute_result"
    }
   ],
   "source": [
    "mental_sub.Entity.nunique()"
   ]
  },
  {
   "cell_type": "markdown",
   "metadata": {},
   "source": [
    "There are 87 entites are outliers, it is a large propotion from 231 entities. \n",
    "\n",
    "**2. Check the outlier frequency for each country**"
   ]
  },
  {
   "cell_type": "code",
   "execution_count": 16,
   "metadata": {},
   "outputs": [],
   "source": [
    "# check which countries are constantly being an outlier through years\n",
    "outlier = pd.DataFrame(mental_sub_o.groupby(by=['Entity']).size())\n",
    "outlier.columns = ['Frequency']\n",
    "\n",
    "outlier.sort_values(['Frequency'], ascending=False, inplace=True)\n",
    "outlier.reset_index(inplace=True)"
   ]
  },
  {
   "cell_type": "code",
   "execution_count": 17,
   "metadata": {},
   "outputs": [
    {
     "data": {
      "text/plain": [
       "array(['Afghanistan', 'Russia', 'Qatar', 'Norway', 'High SDI',\n",
       "       'High-income', 'High-income Asia Pacific', 'Northern Ireland',\n",
       "       'Iceland', 'Iran', 'Iraq', 'North America', 'Italy', 'Japan',\n",
       "       'New Zealand', 'Netherlands', 'Morocco', 'Moldova', 'Malta',\n",
       "       'Latvia', 'Luxembourg', 'Greenland', 'Germany', 'Libya', 'France',\n",
       "       'Andorra', 'Australasia', 'Australia', 'Western Europe', 'Bahrain',\n",
       "       'Belarus', 'United States', 'Brunei', 'Canada',\n",
       "       'Central Europe, Eastern Europe, and Central Asia', 'China',\n",
       "       'United Arab Emirates', 'Ukraine', 'Switzerland', 'Eastern Europe',\n",
       "       'Spain', 'South Korea', 'Estonia', 'Finland', 'Lithuania',\n",
       "       'Lebanon', 'Austria', 'Scotland', 'Wales', 'United Kingdom',\n",
       "       'England', 'Kazakhstan', 'Kiribati', 'East Asia', 'Belgium',\n",
       "       'Panama', 'Lesotho', 'Kyrgyzstan', 'Zimbabwe', 'Sri Lanka',\n",
       "       'Ireland', 'Denmark', 'Greece', 'North Africa and Middle East',\n",
       "       'Swaziland', 'Algeria', 'Uganda', 'Sweden', 'Puerto Rico',\n",
       "       'Guyana', 'Mongolia', 'Tunisia', 'Kuwait', 'Poland', 'El Salvador',\n",
       "       'Slovenia', 'Dominican Republic', 'Saudi Arabia', 'Guatemala',\n",
       "       'Oman', 'Paraguay', 'Hungary', 'Papua New Guinea', 'Jordan',\n",
       "       'Suriname', 'Singapore', 'Marshall Islands'], dtype=object)"
      ]
     },
     "execution_count": 17,
     "metadata": {},
     "output_type": "execute_result"
    }
   ],
   "source": [
    "outlier.Entity.values"
   ]
  },
  {
   "cell_type": "code",
   "execution_count": 18,
   "metadata": {},
   "outputs": [
    {
     "data": {
      "text/plain": [
       "array([28, 28, 28, 28, 28, 28, 28, 28, 28, 28, 28, 28, 28, 28, 28, 28, 28,\n",
       "       28, 28, 28, 28, 28, 28, 28, 28, 28, 28, 28, 28, 28, 28, 28, 28, 28,\n",
       "       28, 28, 28, 28, 28, 28, 28, 28, 28, 28, 28, 27, 26, 26, 25, 25, 25,\n",
       "       24, 23, 23, 22, 20, 19, 19, 18, 16, 15, 15, 15, 14, 13, 13, 12, 12,\n",
       "       12, 11, 11, 10,  9,  9,  9,  9,  8,  8,  8,  7,  6,  6,  6,  6,  1,\n",
       "        1,  1], dtype=int64)"
      ]
     },
     "execution_count": 18,
     "metadata": {},
     "output_type": "execute_result"
    }
   ],
   "source": [
    "outlier.Frequency.values"
   ]
  },
  {
   "cell_type": "code",
   "execution_count": 19,
   "metadata": {},
   "outputs": [
    {
     "data": {
      "text/plain": [
       "array(['Afghanistan', 'Russia', 'Qatar', 'Norway', 'High SDI',\n",
       "       'High-income', 'High-income Asia Pacific', 'Northern Ireland',\n",
       "       'Iceland', 'Iran', 'Iraq', 'North America', 'Italy', 'Japan',\n",
       "       'New Zealand', 'Netherlands', 'Morocco', 'Moldova', 'Malta',\n",
       "       'Latvia', 'Luxembourg', 'Greenland', 'Germany', 'Libya', 'France',\n",
       "       'Andorra', 'Australasia', 'Australia', 'Western Europe', 'Bahrain',\n",
       "       'Belarus', 'United States', 'Brunei', 'Canada',\n",
       "       'Central Europe, Eastern Europe, and Central Asia', 'China',\n",
       "       'United Arab Emirates', 'Ukraine', 'Switzerland', 'Eastern Europe',\n",
       "       'Spain', 'South Korea', 'Estonia', 'Finland', 'Lithuania'],\n",
       "      dtype=object)"
      ]
     },
     "execution_count": 19,
     "metadata": {},
     "output_type": "execute_result"
    }
   ],
   "source": [
    "# check which entities are outliers for 28 years\n",
    "outlier_28 = outlier[outlier.Frequency == 28]\n",
    "outlier_28.Entity.values"
   ]
  },
  {
   "cell_type": "code",
   "execution_count": 20,
   "metadata": {},
   "outputs": [
    {
     "data": {
      "text/plain": [
       "0.5172413793103449"
      ]
     },
     "execution_count": 20,
     "metadata": {},
     "output_type": "execute_result"
    }
   ],
   "source": [
    "len(outlier_28) / len(outlier)"
   ]
  },
  {
   "cell_type": "markdown",
   "metadata": {},
   "source": [
    "More than half of outliers are being outliers every year. They include some big countries like the United States, China, and Canada, include some richest countries like Qatar, Luxembourg, Switzerland, and Iceland. But the interesting thing is there are no poorest countries being outliers for 28 years. A reminder that all outliers here are upper outliers."
   ]
  },
  {
   "cell_type": "markdown",
   "metadata": {},
   "source": [
    "### Explore data relationships\n",
    "\n",
    "Here, I am interested in how Deaths and Suicide Rates relative to Mental and substance use disorders.\n",
    "\n",
    "I checked the correlation for the dataset."
   ]
  },
  {
   "cell_type": "code",
   "execution_count": 21,
   "metadata": {},
   "outputs": [
    {
     "data": {
      "text/plain": [
       "(array([0.5, 1.5, 2.5]), <a list of 3 Text major ticklabel objects>)"
      ]
     },
     "execution_count": 21,
     "metadata": {},
     "output_type": "execute_result"
    },
    {
     "data": {
      "image/png": "[encoded data removed]",
      "text/plain": [
       "<Figure size 864x288 with 2 Axes>"
      ]
     },
     "metadata": {
      "needs_background": "light"
     },
     "output_type": "display_data"
    }
   ],
   "source": [
    "plt.figure(figsize=(12,4))\n",
    "sns.heatmap(mental_sub.drop(columns=['Year', 'Share of total disease (%)']).corr().head(3),linewidths=.1,cmap=\"YlGnBu\", annot=True)\n",
    "plt.yticks(rotation=0)"
   ]
  },
  {
   "cell_type": "markdown",
   "metadata": {},
   "source": [
    "**The direct death from mental and substance use disorders has a higher positive correlation with Eating disorders.** \n",
    "\n",
    "But from the plots showed below, we don't see relationships between them."
   ]
  },
  {
   "cell_type": "code",
   "execution_count": 22,
   "metadata": {},
   "outputs": [
    {
     "data": {
      "text/plain": [
       "<matplotlib.axes._subplots.AxesSubplot at 0x114203c3a08>"
      ]
     },
     "execution_count": 22,
     "metadata": {},
     "output_type": "execute_result"
    },
    {
     "data": {
      "image/png": "[encoded data removed]",
      "text/plain": [
       "<Figure size 432x360 with 1 Axes>"
      ]
     },
     "metadata": {
      "needs_background": "light"
     },
     "output_type": "display_data"
    }
   ],
   "source": [
    "# Visualize the ralationship between direct death from mental and substance use disorders and Eating disorders\n",
    "plt.figure(figsize=(6,5))\n",
    "sns.regplot(x = 'Eating disorders (%)', y = 'Deaths - Mental and substance use disorders (per 100,000)', data=mental_sub\n",
    "           , scatter_kws={\"color\": \"black\"}, line_kws={\"color\": \"red\"})"
   ]
  },
  {
   "cell_type": "markdown",
   "metadata": {},
   "source": [
    "**Suicide rate has a positive correlation with Depressive disorders and Alcohol use disorders.**\n",
    "* From the plots showed below, we don't see relationships between Suicide rate and Depressive disorders.\n",
    "* After removing the points over 50, we do see a positive correlation between Suicide rate and Alcohol use disorders."
   ]
  },
  {
   "cell_type": "code",
   "execution_count": 23,
   "metadata": {},
   "outputs": [
    {
     "data": {
      "text/plain": [
       "<matplotlib.axes._subplots.AxesSubplot at 0x1141dde5508>"
      ]
     },
     "execution_count": 23,
     "metadata": {},
     "output_type": "execute_result"
    },
    {
     "data": {
      "image/png": "[encoded data removed]",
      "text/plain": [
       "<Figure size 432x360 with 1 Axes>"
      ]
     },
     "metadata": {
      "needs_background": "light"
     },
     "output_type": "display_data"
    }
   ],
   "source": [
    "# Visualize the ralationship between Suicide rate and Depressive disorders\n",
    "plt.figure(figsize=(6,5))\n",
    "sns.regplot(x = 'Depressive disorders (%)', y = 'Suicide Rate (per 100,000)', data=mental_sub\n",
    "           , scatter_kws={\"color\": \"black\"}, line_kws={\"color\": \"red\"})"
   ]
  },
  {
   "cell_type": "code",
   "execution_count": 24,
   "metadata": {},
   "outputs": [
    {
     "data": {
      "image/png": "[encoded data removed]",
      "text/plain": [
       "<Figure size 432x360 with 1 Axes>"
      ]
     },
     "metadata": {
      "needs_background": "light"
     },
     "output_type": "display_data"
    }
   ],
   "source": [
    "# Visualize the ralationship between Suicide rate and Alcohol use disorders\n",
    "plt.figure(figsize=(6,5))\n",
    "sns.regplot(x = 'Alcohol use disorders (%)', y = 'Suicide Rate (per 100,000)', data=mental_sub\n",
    "           , scatter_kws={\"color\": \"black\"}, line_kws={\"color\": \"red\"})\n",
    "plt.savefig(r'C:\\Users\\yuhan\\Desktop\\Springboard\\Capstone project-2\\figures\\suicide_alcohol_correlation_1.png')"
   ]
  },
  {
   "cell_type": "markdown",
   "metadata": {},
   "source": [
    "It looks like the points over 50 impacts the visualization, let's change the y-axis range to plot the figure again."
   ]
  },
  {
   "cell_type": "code",
   "execution_count": 25,
   "metadata": {},
   "outputs": [
    {
     "data": {
      "image/png": "[encoded data removed]",
      "text/plain": [
       "<Figure size 432x360 with 1 Axes>"
      ]
     },
     "metadata": {
      "needs_background": "light"
     },
     "output_type": "display_data"
    }
   ],
   "source": [
    "# change the range of y-axies\n",
    "plt.figure(figsize=(6,5))\n",
    "sns.regplot(x = 'Alcohol use disorders (%)', y = 'Suicide Rate (per 100,000)', data=mental_sub\n",
    "           , scatter_kws={\"color\": \"black\"}, line_kws={\"color\": \"red\"})\n",
    "plt.ylim([-0.5,50])\n",
    "plt.savefig(r'C:\\Users\\yuhan\\Desktop\\Springboard\\Capstone project-2\\figures\\suicide_alcohol_correlation_2.png')"
   ]
  },
  {
   "cell_type": "markdown",
   "metadata": {},
   "source": [
    "### Check how mental and substance use disorders increase in decades\n",
    "\n",
    "I notice that the top 3 countries with the biggest increase for each decade are almost different. And for most features, the biggest increase has decreased decades in decades. "
   ]
  },
  {
   "cell_type": "code",
   "execution_count": 26,
   "metadata": {},
   "outputs": [],
   "source": [
    "# make functions to get the top 3 coutries with biggest change from 1990 to 1999, from 2000 to 2009, and from 2010 to 2017\n",
    "# make a function to conver the year row to columns and calculate the change in each decades\n",
    "def change(data, c):\n",
    "    cols = [0, 1, 2, c]\n",
    "    data_change = data[data.columns[cols]]\n",
    "    data_change = data_change.pivot_table(index=['Entity','Code'], columns=['Year'], values=data_change.columns[3])\n",
    "    data_change.reset_index(level=1, drop=True, inplace=True)\n",
    "    data_change.columns.names = [None]\n",
    "    data_change['1990 ~ 1999'] = data_change[1999] - data_change[1990]\n",
    "    data_change['2000 ~ 2009'] = data_change[2009] - data_change[2000]\n",
    "    data_change['2010 ~ 2017'] = data_change[2017] - data_change[2010]\n",
    "    return data_change\n",
    "\n",
    "# function to display dataframes side by side\n",
    "from IPython.display import display_html \n",
    "def display_side_by_side(*args):\n",
    "    html_str=''\n",
    "    for df in args:\n",
    "        html_str+=df.to_html()\n",
    "    display_html(html_str.replace('table','table style=\"display:inline\"'),raw=True)\n",
    "    \n",
    "# function to get the top 3 coutries with biggest change for each feature\n",
    "def top_3(data):\n",
    "    top3_90_99 = data.sort_values(['1990 ~ 1999'], ascending=False).head(3)[['1990 ~ 1999']]\n",
    "    top3_00_09 = data.sort_values(['2000 ~ 2009'], ascending=False).head(3)[['2000 ~ 2009']]\n",
    "    top3_10_17 = data.sort_values(['2010 ~ 2017'], ascending=False).head(3)[['2010 ~ 2017']]\n",
    "    return display_side_by_side(top3_90_99, top3_00_09, top3_10_17)"
   ]
  },
  {
   "cell_type": "code",
   "execution_count": 27,
   "metadata": {
    "scrolled": false
   },
   "outputs": [
    {
     "name": "stdout",
     "output_type": "stream",
     "text": [
      "Mental and substance use disorders (%)-- top 3 countries with the biggest increase\n"
     ]
    },
    {
     "data": {
      "text/html": [
       "<table style=\"display:inline\" border=\"1\" class=\"dataframe\">\n",
       "  <thead>\n",
       "    <tr style=\"text-align: right;\">\n",
       "      <th></th>\n",
       "      <th>1990 ~ 1999</th>\n",
       "    </tr>\n",
       "    <tr>\n",
       "      <th>Entity</th>\n",
       "      <th></th>\n",
       "    </tr>\n",
       "  </thead>\n",
       "  <tbody>\n",
       "    <tr>\n",
       "      <th>Afghanistan</th>\n",
       "      <td>0.849154</td>\n",
       "    </tr>\n",
       "    <tr>\n",
       "      <th>Brazil</th>\n",
       "      <td>0.797578</td>\n",
       "    </tr>\n",
       "    <tr>\n",
       "      <th>Netherlands</th>\n",
       "      <td>0.625952</td>\n",
       "    </tr>\n",
       "  </tbody>\n",
       "</table style=\"display:inline\"><table style=\"display:inline\" border=\"1\" class=\"dataframe\">\n",
       "  <thead>\n",
       "    <tr style=\"text-align: right;\">\n",
       "      <th></th>\n",
       "      <th>2000 ~ 2009</th>\n",
       "    </tr>\n",
       "    <tr>\n",
       "      <th>Entity</th>\n",
       "      <th></th>\n",
       "    </tr>\n",
       "  </thead>\n",
       "  <tbody>\n",
       "    <tr>\n",
       "      <th>Australia</th>\n",
       "      <td>0.372023</td>\n",
       "    </tr>\n",
       "    <tr>\n",
       "      <th>Somalia</th>\n",
       "      <td>0.368775</td>\n",
       "    </tr>\n",
       "    <tr>\n",
       "      <th>Italy</th>\n",
       "      <td>0.250366</td>\n",
       "    </tr>\n",
       "  </tbody>\n",
       "</table style=\"display:inline\"><table style=\"display:inline\" border=\"1\" class=\"dataframe\">\n",
       "  <thead>\n",
       "    <tr style=\"text-align: right;\">\n",
       "      <th></th>\n",
       "      <th>2010 ~ 2017</th>\n",
       "    </tr>\n",
       "    <tr>\n",
       "      <th>Entity</th>\n",
       "      <th></th>\n",
       "    </tr>\n",
       "  </thead>\n",
       "  <tbody>\n",
       "    <tr>\n",
       "      <th>Libya</th>\n",
       "      <td>0.234751</td>\n",
       "    </tr>\n",
       "    <tr>\n",
       "      <th>Japan</th>\n",
       "      <td>0.200297</td>\n",
       "    </tr>\n",
       "    <tr>\n",
       "      <th>South Korea</th>\n",
       "      <td>0.168606</td>\n",
       "    </tr>\n",
       "  </tbody>\n",
       "</table style=\"display:inline\">"
      ]
     },
     "metadata": {},
     "output_type": "display_data"
    },
    {
     "name": "stdout",
     "output_type": "stream",
     "text": [
      "None\n",
      "Share of total disease (%)-- top 3 countries with the biggest increase\n"
     ]
    },
    {
     "data": {
      "text/html": [
       "<table style=\"display:inline\" border=\"1\" class=\"dataframe\">\n",
       "  <thead>\n",
       "    <tr style=\"text-align: right;\">\n",
       "      <th></th>\n",
       "      <th>1990 ~ 1999</th>\n",
       "    </tr>\n",
       "    <tr>\n",
       "      <th>Entity</th>\n",
       "      <th></th>\n",
       "    </tr>\n",
       "  </thead>\n",
       "  <tbody>\n",
       "    <tr>\n",
       "      <th>Oman</th>\n",
       "      <td>2.603264</td>\n",
       "    </tr>\n",
       "    <tr>\n",
       "      <th>Iran</th>\n",
       "      <td>2.471015</td>\n",
       "    </tr>\n",
       "    <tr>\n",
       "      <th>Saudi Arabia</th>\n",
       "      <td>2.354491</td>\n",
       "    </tr>\n",
       "  </tbody>\n",
       "</table style=\"display:inline\"><table style=\"display:inline\" border=\"1\" class=\"dataframe\">\n",
       "  <thead>\n",
       "    <tr style=\"text-align: right;\">\n",
       "      <th></th>\n",
       "      <th>2000 ~ 2009</th>\n",
       "    </tr>\n",
       "    <tr>\n",
       "      <th>Entity</th>\n",
       "      <th></th>\n",
       "    </tr>\n",
       "  </thead>\n",
       "  <tbody>\n",
       "    <tr>\n",
       "      <th>Bahrain</th>\n",
       "      <td>2.730412</td>\n",
       "    </tr>\n",
       "    <tr>\n",
       "      <th>Maldives</th>\n",
       "      <td>2.392986</td>\n",
       "    </tr>\n",
       "    <tr>\n",
       "      <th>Qatar</th>\n",
       "      <td>2.070894</td>\n",
       "    </tr>\n",
       "  </tbody>\n",
       "</table style=\"display:inline\"><table style=\"display:inline\" border=\"1\" class=\"dataframe\">\n",
       "  <thead>\n",
       "    <tr style=\"text-align: right;\">\n",
       "      <th></th>\n",
       "      <th>2010 ~ 2017</th>\n",
       "    </tr>\n",
       "    <tr>\n",
       "      <th>Entity</th>\n",
       "      <th></th>\n",
       "    </tr>\n",
       "  </thead>\n",
       "  <tbody>\n",
       "    <tr>\n",
       "      <th>Haiti</th>\n",
       "      <td>2.601539</td>\n",
       "    </tr>\n",
       "    <tr>\n",
       "      <th>Botswana</th>\n",
       "      <td>1.611389</td>\n",
       "    </tr>\n",
       "    <tr>\n",
       "      <th>Palestine</th>\n",
       "      <td>1.568520</td>\n",
       "    </tr>\n",
       "  </tbody>\n",
       "</table style=\"display:inline\">"
      ]
     },
     "metadata": {},
     "output_type": "display_data"
    },
    {
     "name": "stdout",
     "output_type": "stream",
     "text": [
      "None\n",
      "Deaths - Mental and substance use disorders (per 100,000)-- top 3 countries with the biggest increase\n"
     ]
    },
    {
     "data": {
      "text/html": [
       "<table style=\"display:inline\" border=\"1\" class=\"dataframe\">\n",
       "  <thead>\n",
       "    <tr style=\"text-align: right;\">\n",
       "      <th></th>\n",
       "      <th>1990 ~ 1999</th>\n",
       "    </tr>\n",
       "    <tr>\n",
       "      <th>Entity</th>\n",
       "      <th></th>\n",
       "    </tr>\n",
       "  </thead>\n",
       "  <tbody>\n",
       "    <tr>\n",
       "      <th>Japan</th>\n",
       "      <td>26.859570</td>\n",
       "    </tr>\n",
       "    <tr>\n",
       "      <th>United Kingdom</th>\n",
       "      <td>21.074111</td>\n",
       "    </tr>\n",
       "    <tr>\n",
       "      <th>Denmark</th>\n",
       "      <td>15.362109</td>\n",
       "    </tr>\n",
       "  </tbody>\n",
       "</table style=\"display:inline\"><table style=\"display:inline\" border=\"1\" class=\"dataframe\">\n",
       "  <thead>\n",
       "    <tr style=\"text-align: right;\">\n",
       "      <th></th>\n",
       "      <th>2000 ~ 2009</th>\n",
       "    </tr>\n",
       "    <tr>\n",
       "      <th>Entity</th>\n",
       "      <th></th>\n",
       "    </tr>\n",
       "  </thead>\n",
       "  <tbody>\n",
       "    <tr>\n",
       "      <th>Netherlands</th>\n",
       "      <td>27.500670</td>\n",
       "    </tr>\n",
       "    <tr>\n",
       "      <th>Austria</th>\n",
       "      <td>20.266403</td>\n",
       "    </tr>\n",
       "    <tr>\n",
       "      <th>Belgium</th>\n",
       "      <td>14.851258</td>\n",
       "    </tr>\n",
       "  </tbody>\n",
       "</table style=\"display:inline\"><table style=\"display:inline\" border=\"1\" class=\"dataframe\">\n",
       "  <thead>\n",
       "    <tr style=\"text-align: right;\">\n",
       "      <th></th>\n",
       "      <th>2010 ~ 2017</th>\n",
       "    </tr>\n",
       "    <tr>\n",
       "      <th>Entity</th>\n",
       "      <th></th>\n",
       "    </tr>\n",
       "  </thead>\n",
       "  <tbody>\n",
       "    <tr>\n",
       "      <th>Netherlands</th>\n",
       "      <td>12.054981</td>\n",
       "    </tr>\n",
       "    <tr>\n",
       "      <th>Luxembourg</th>\n",
       "      <td>12.036141</td>\n",
       "    </tr>\n",
       "    <tr>\n",
       "      <th>Austria</th>\n",
       "      <td>9.862532</td>\n",
       "    </tr>\n",
       "  </tbody>\n",
       "</table style=\"display:inline\">"
      ]
     },
     "metadata": {},
     "output_type": "display_data"
    },
    {
     "name": "stdout",
     "output_type": "stream",
     "text": [
      "None\n",
      "Suicide Rate (per 100,000)-- top 3 countries with the biggest increase\n"
     ]
    },
    {
     "data": {
      "text/html": [
       "<table style=\"display:inline\" border=\"1\" class=\"dataframe\">\n",
       "  <thead>\n",
       "    <tr style=\"text-align: right;\">\n",
       "      <th></th>\n",
       "      <th>1990 ~ 1999</th>\n",
       "    </tr>\n",
       "    <tr>\n",
       "      <th>Entity</th>\n",
       "      <th></th>\n",
       "    </tr>\n",
       "  </thead>\n",
       "  <tbody>\n",
       "    <tr>\n",
       "      <th>Belarus</th>\n",
       "      <td>15.190352</td>\n",
       "    </tr>\n",
       "    <tr>\n",
       "      <th>Russia</th>\n",
       "      <td>14.170576</td>\n",
       "    </tr>\n",
       "    <tr>\n",
       "      <th>Lithuania</th>\n",
       "      <td>12.170801</td>\n",
       "    </tr>\n",
       "  </tbody>\n",
       "</table style=\"display:inline\"><table style=\"display:inline\" border=\"1\" class=\"dataframe\">\n",
       "  <thead>\n",
       "    <tr style=\"text-align: right;\">\n",
       "      <th></th>\n",
       "      <th>2000 ~ 2009</th>\n",
       "    </tr>\n",
       "    <tr>\n",
       "      <th>Entity</th>\n",
       "      <th></th>\n",
       "    </tr>\n",
       "  </thead>\n",
       "  <tbody>\n",
       "    <tr>\n",
       "      <th>South Korea</th>\n",
       "      <td>9.190240</td>\n",
       "    </tr>\n",
       "    <tr>\n",
       "      <th>Lesotho</th>\n",
       "      <td>6.431612</td>\n",
       "    </tr>\n",
       "    <tr>\n",
       "      <th>Armenia</th>\n",
       "      <td>4.412898</td>\n",
       "    </tr>\n",
       "  </tbody>\n",
       "</table style=\"display:inline\"><table style=\"display:inline\" border=\"1\" class=\"dataframe\">\n",
       "  <thead>\n",
       "    <tr style=\"text-align: right;\">\n",
       "      <th></th>\n",
       "      <th>2010 ~ 2017</th>\n",
       "    </tr>\n",
       "    <tr>\n",
       "      <th>Entity</th>\n",
       "      <th></th>\n",
       "    </tr>\n",
       "  </thead>\n",
       "  <tbody>\n",
       "    <tr>\n",
       "      <th>Ukraine</th>\n",
       "      <td>6.066839</td>\n",
       "    </tr>\n",
       "    <tr>\n",
       "      <th>Dominican Republic</th>\n",
       "      <td>1.429428</td>\n",
       "    </tr>\n",
       "    <tr>\n",
       "      <th>Georgia</th>\n",
       "      <td>1.340531</td>\n",
       "    </tr>\n",
       "  </tbody>\n",
       "</table style=\"display:inline\">"
      ]
     },
     "metadata": {},
     "output_type": "display_data"
    },
    {
     "name": "stdout",
     "output_type": "stream",
     "text": [
      "None\n",
      "Alcohol use disorders (%)-- top 3 countries with the biggest increase\n"
     ]
    },
    {
     "data": {
      "text/html": [
       "<table style=\"display:inline\" border=\"1\" class=\"dataframe\">\n",
       "  <thead>\n",
       "    <tr style=\"text-align: right;\">\n",
       "      <th></th>\n",
       "      <th>1990 ~ 1999</th>\n",
       "    </tr>\n",
       "    <tr>\n",
       "      <th>Entity</th>\n",
       "      <th></th>\n",
       "    </tr>\n",
       "  </thead>\n",
       "  <tbody>\n",
       "    <tr>\n",
       "      <th>Finland</th>\n",
       "      <td>0.608835</td>\n",
       "    </tr>\n",
       "    <tr>\n",
       "      <th>Russia</th>\n",
       "      <td>0.501899</td>\n",
       "    </tr>\n",
       "    <tr>\n",
       "      <th>Belarus</th>\n",
       "      <td>0.492894</td>\n",
       "    </tr>\n",
       "  </tbody>\n",
       "</table style=\"display:inline\"><table style=\"display:inline\" border=\"1\" class=\"dataframe\">\n",
       "  <thead>\n",
       "    <tr style=\"text-align: right;\">\n",
       "      <th></th>\n",
       "      <th>2000 ~ 2009</th>\n",
       "    </tr>\n",
       "    <tr>\n",
       "      <th>Entity</th>\n",
       "      <th></th>\n",
       "    </tr>\n",
       "  </thead>\n",
       "  <tbody>\n",
       "    <tr>\n",
       "      <th>Mongolia</th>\n",
       "      <td>0.896905</td>\n",
       "    </tr>\n",
       "    <tr>\n",
       "      <th>Kazakhstan</th>\n",
       "      <td>0.754084</td>\n",
       "    </tr>\n",
       "    <tr>\n",
       "      <th>Moldova</th>\n",
       "      <td>0.318380</td>\n",
       "    </tr>\n",
       "  </tbody>\n",
       "</table style=\"display:inline\"><table style=\"display:inline\" border=\"1\" class=\"dataframe\">\n",
       "  <thead>\n",
       "    <tr style=\"text-align: right;\">\n",
       "      <th></th>\n",
       "      <th>2010 ~ 2017</th>\n",
       "    </tr>\n",
       "    <tr>\n",
       "      <th>Entity</th>\n",
       "      <th></th>\n",
       "    </tr>\n",
       "  </thead>\n",
       "  <tbody>\n",
       "    <tr>\n",
       "      <th>New Zealand</th>\n",
       "      <td>0.416265</td>\n",
       "    </tr>\n",
       "    <tr>\n",
       "      <th>Taiwan</th>\n",
       "      <td>0.119282</td>\n",
       "    </tr>\n",
       "    <tr>\n",
       "      <th>Moldova</th>\n",
       "      <td>0.089964</td>\n",
       "    </tr>\n",
       "  </tbody>\n",
       "</table style=\"display:inline\">"
      ]
     },
     "metadata": {},
     "output_type": "display_data"
    },
    {
     "name": "stdout",
     "output_type": "stream",
     "text": [
      "None\n",
      "Drug use disorders (%)-- top 3 countries with the biggest increase\n"
     ]
    },
    {
     "data": {
      "text/html": [
       "<table style=\"display:inline\" border=\"1\" class=\"dataframe\">\n",
       "  <thead>\n",
       "    <tr style=\"text-align: right;\">\n",
       "      <th></th>\n",
       "      <th>1990 ~ 1999</th>\n",
       "    </tr>\n",
       "    <tr>\n",
       "      <th>Entity</th>\n",
       "      <th></th>\n",
       "    </tr>\n",
       "  </thead>\n",
       "  <tbody>\n",
       "    <tr>\n",
       "      <th>United Arab Emirates</th>\n",
       "      <td>0.593717</td>\n",
       "    </tr>\n",
       "    <tr>\n",
       "      <th>Canada</th>\n",
       "      <td>0.465805</td>\n",
       "    </tr>\n",
       "    <tr>\n",
       "      <th>United States</th>\n",
       "      <td>0.432802</td>\n",
       "    </tr>\n",
       "  </tbody>\n",
       "</table style=\"display:inline\"><table style=\"display:inline\" border=\"1\" class=\"dataframe\">\n",
       "  <thead>\n",
       "    <tr style=\"text-align: right;\">\n",
       "      <th></th>\n",
       "      <th>2000 ~ 2009</th>\n",
       "    </tr>\n",
       "    <tr>\n",
       "      <th>Entity</th>\n",
       "      <th></th>\n",
       "    </tr>\n",
       "  </thead>\n",
       "  <tbody>\n",
       "    <tr>\n",
       "      <th>Afghanistan</th>\n",
       "      <td>0.755489</td>\n",
       "    </tr>\n",
       "    <tr>\n",
       "      <th>United Arab Emirates</th>\n",
       "      <td>0.453540</td>\n",
       "    </tr>\n",
       "    <tr>\n",
       "      <th>Libya</th>\n",
       "      <td>0.398783</td>\n",
       "    </tr>\n",
       "  </tbody>\n",
       "</table style=\"display:inline\"><table style=\"display:inline\" border=\"1\" class=\"dataframe\">\n",
       "  <thead>\n",
       "    <tr style=\"text-align: right;\">\n",
       "      <th></th>\n",
       "      <th>2010 ~ 2017</th>\n",
       "    </tr>\n",
       "    <tr>\n",
       "      <th>Entity</th>\n",
       "      <th></th>\n",
       "    </tr>\n",
       "  </thead>\n",
       "  <tbody>\n",
       "    <tr>\n",
       "      <th>United States</th>\n",
       "      <td>0.475332</td>\n",
       "    </tr>\n",
       "    <tr>\n",
       "      <th>Australia</th>\n",
       "      <td>0.321991</td>\n",
       "    </tr>\n",
       "    <tr>\n",
       "      <th>Oman</th>\n",
       "      <td>0.194556</td>\n",
       "    </tr>\n",
       "  </tbody>\n",
       "</table style=\"display:inline\">"
      ]
     },
     "metadata": {},
     "output_type": "display_data"
    },
    {
     "name": "stdout",
     "output_type": "stream",
     "text": [
      "None\n",
      "Depressive disorders (%)-- top 3 countries with the biggest increase\n"
     ]
    },
    {
     "data": {
      "text/html": [
       "<table style=\"display:inline\" border=\"1\" class=\"dataframe\">\n",
       "  <thead>\n",
       "    <tr style=\"text-align: right;\">\n",
       "      <th></th>\n",
       "      <th>1990 ~ 1999</th>\n",
       "    </tr>\n",
       "    <tr>\n",
       "      <th>Entity</th>\n",
       "      <th></th>\n",
       "    </tr>\n",
       "  </thead>\n",
       "  <tbody>\n",
       "    <tr>\n",
       "      <th>Brazil</th>\n",
       "      <td>0.500311</td>\n",
       "    </tr>\n",
       "    <tr>\n",
       "      <th>Uganda</th>\n",
       "      <td>0.432320</td>\n",
       "    </tr>\n",
       "    <tr>\n",
       "      <th>Lebanon</th>\n",
       "      <td>0.341080</td>\n",
       "    </tr>\n",
       "  </tbody>\n",
       "</table style=\"display:inline\"><table style=\"display:inline\" border=\"1\" class=\"dataframe\">\n",
       "  <thead>\n",
       "    <tr style=\"text-align: right;\">\n",
       "      <th></th>\n",
       "      <th>2000 ~ 2009</th>\n",
       "    </tr>\n",
       "    <tr>\n",
       "      <th>Entity</th>\n",
       "      <th></th>\n",
       "    </tr>\n",
       "  </thead>\n",
       "  <tbody>\n",
       "    <tr>\n",
       "      <th>Belgium</th>\n",
       "      <td>0.304957</td>\n",
       "    </tr>\n",
       "    <tr>\n",
       "      <th>Lesotho</th>\n",
       "      <td>0.264746</td>\n",
       "    </tr>\n",
       "    <tr>\n",
       "      <th>Liberia</th>\n",
       "      <td>0.257670</td>\n",
       "    </tr>\n",
       "  </tbody>\n",
       "</table style=\"display:inline\"><table style=\"display:inline\" border=\"1\" class=\"dataframe\">\n",
       "  <thead>\n",
       "    <tr style=\"text-align: right;\">\n",
       "      <th></th>\n",
       "      <th>2010 ~ 2017</th>\n",
       "    </tr>\n",
       "    <tr>\n",
       "      <th>Entity</th>\n",
       "      <th></th>\n",
       "    </tr>\n",
       "  </thead>\n",
       "  <tbody>\n",
       "    <tr>\n",
       "      <th>Japan</th>\n",
       "      <td>0.211796</td>\n",
       "    </tr>\n",
       "    <tr>\n",
       "      <th>Iraq</th>\n",
       "      <td>0.193779</td>\n",
       "    </tr>\n",
       "    <tr>\n",
       "      <th>Iran</th>\n",
       "      <td>0.189682</td>\n",
       "    </tr>\n",
       "  </tbody>\n",
       "</table style=\"display:inline\">"
      ]
     },
     "metadata": {},
     "output_type": "display_data"
    },
    {
     "name": "stdout",
     "output_type": "stream",
     "text": [
      "None\n",
      "Bipolar disorder (%)-- top 3 countries with the biggest increase\n"
     ]
    },
    {
     "data": {
      "text/html": [
       "<table style=\"display:inline\" border=\"1\" class=\"dataframe\">\n",
       "  <thead>\n",
       "    <tr style=\"text-align: right;\">\n",
       "      <th></th>\n",
       "      <th>1990 ~ 1999</th>\n",
       "    </tr>\n",
       "    <tr>\n",
       "      <th>Entity</th>\n",
       "      <th></th>\n",
       "    </tr>\n",
       "  </thead>\n",
       "  <tbody>\n",
       "    <tr>\n",
       "      <th>Australia</th>\n",
       "      <td>0.015603</td>\n",
       "    </tr>\n",
       "    <tr>\n",
       "      <th>France</th>\n",
       "      <td>0.014279</td>\n",
       "    </tr>\n",
       "    <tr>\n",
       "      <th>Malaysia</th>\n",
       "      <td>0.011265</td>\n",
       "    </tr>\n",
       "  </tbody>\n",
       "</table style=\"display:inline\"><table style=\"display:inline\" border=\"1\" class=\"dataframe\">\n",
       "  <thead>\n",
       "    <tr style=\"text-align: right;\">\n",
       "      <th></th>\n",
       "      <th>2000 ~ 2009</th>\n",
       "    </tr>\n",
       "    <tr>\n",
       "      <th>Entity</th>\n",
       "      <th></th>\n",
       "    </tr>\n",
       "  </thead>\n",
       "  <tbody>\n",
       "    <tr>\n",
       "      <th>Iceland</th>\n",
       "      <td>0.041795</td>\n",
       "    </tr>\n",
       "    <tr>\n",
       "      <th>Spain</th>\n",
       "      <td>0.018432</td>\n",
       "    </tr>\n",
       "    <tr>\n",
       "      <th>New Zealand</th>\n",
       "      <td>0.011768</td>\n",
       "    </tr>\n",
       "  </tbody>\n",
       "</table style=\"display:inline\"><table style=\"display:inline\" border=\"1\" class=\"dataframe\">\n",
       "  <thead>\n",
       "    <tr style=\"text-align: right;\">\n",
       "      <th></th>\n",
       "      <th>2010 ~ 2017</th>\n",
       "    </tr>\n",
       "    <tr>\n",
       "      <th>Entity</th>\n",
       "      <th></th>\n",
       "    </tr>\n",
       "  </thead>\n",
       "  <tbody>\n",
       "    <tr>\n",
       "      <th>Iceland</th>\n",
       "      <td>0.006220</td>\n",
       "    </tr>\n",
       "    <tr>\n",
       "      <th>Colombia</th>\n",
       "      <td>0.006049</td>\n",
       "    </tr>\n",
       "    <tr>\n",
       "      <th>World</th>\n",
       "      <td>0.005752</td>\n",
       "    </tr>\n",
       "  </tbody>\n",
       "</table style=\"display:inline\">"
      ]
     },
     "metadata": {},
     "output_type": "display_data"
    },
    {
     "name": "stdout",
     "output_type": "stream",
     "text": [
      "None\n",
      "Anxiety disorders (%)-- top 3 countries with the biggest increase\n"
     ]
    },
    {
     "data": {
      "text/html": [
       "<table style=\"display:inline\" border=\"1\" class=\"dataframe\">\n",
       "  <thead>\n",
       "    <tr style=\"text-align: right;\">\n",
       "      <th></th>\n",
       "      <th>1990 ~ 1999</th>\n",
       "    </tr>\n",
       "    <tr>\n",
       "      <th>Entity</th>\n",
       "      <th></th>\n",
       "    </tr>\n",
       "  </thead>\n",
       "  <tbody>\n",
       "    <tr>\n",
       "      <th>Netherlands</th>\n",
       "      <td>0.662672</td>\n",
       "    </tr>\n",
       "    <tr>\n",
       "      <th>New Zealand</th>\n",
       "      <td>0.657239</td>\n",
       "    </tr>\n",
       "    <tr>\n",
       "      <th>Brazil</th>\n",
       "      <td>0.462729</td>\n",
       "    </tr>\n",
       "  </tbody>\n",
       "</table style=\"display:inline\"><table style=\"display:inline\" border=\"1\" class=\"dataframe\">\n",
       "  <thead>\n",
       "    <tr style=\"text-align: right;\">\n",
       "      <th></th>\n",
       "      <th>2000 ~ 2009</th>\n",
       "    </tr>\n",
       "    <tr>\n",
       "      <th>Entity</th>\n",
       "      <th></th>\n",
       "    </tr>\n",
       "  </thead>\n",
       "  <tbody>\n",
       "    <tr>\n",
       "      <th>Italy</th>\n",
       "      <td>0.312936</td>\n",
       "    </tr>\n",
       "    <tr>\n",
       "      <th>Iran</th>\n",
       "      <td>0.308767</td>\n",
       "    </tr>\n",
       "    <tr>\n",
       "      <th>Brazil</th>\n",
       "      <td>0.270857</td>\n",
       "    </tr>\n",
       "  </tbody>\n",
       "</table style=\"display:inline\"><table style=\"display:inline\" border=\"1\" class=\"dataframe\">\n",
       "  <thead>\n",
       "    <tr style=\"text-align: right;\">\n",
       "      <th></th>\n",
       "      <th>2010 ~ 2017</th>\n",
       "    </tr>\n",
       "    <tr>\n",
       "      <th>Entity</th>\n",
       "      <th></th>\n",
       "    </tr>\n",
       "  </thead>\n",
       "  <tbody>\n",
       "    <tr>\n",
       "      <th>Kuwait</th>\n",
       "      <td>0.128039</td>\n",
       "    </tr>\n",
       "    <tr>\n",
       "      <th>Netherlands</th>\n",
       "      <td>0.097723</td>\n",
       "    </tr>\n",
       "    <tr>\n",
       "      <th>United Arab Emirates</th>\n",
       "      <td>0.063786</td>\n",
       "    </tr>\n",
       "  </tbody>\n",
       "</table style=\"display:inline\">"
      ]
     },
     "metadata": {},
     "output_type": "display_data"
    },
    {
     "name": "stdout",
     "output_type": "stream",
     "text": [
      "None\n",
      "Eating disorders (%)-- top 3 countries with the biggest increase\n"
     ]
    },
    {
     "data": {
      "text/html": [
       "<table style=\"display:inline\" border=\"1\" class=\"dataframe\">\n",
       "  <thead>\n",
       "    <tr style=\"text-align: right;\">\n",
       "      <th></th>\n",
       "      <th>1990 ~ 1999</th>\n",
       "    </tr>\n",
       "    <tr>\n",
       "      <th>Entity</th>\n",
       "      <th></th>\n",
       "    </tr>\n",
       "  </thead>\n",
       "  <tbody>\n",
       "    <tr>\n",
       "      <th>Luxembourg</th>\n",
       "      <td>0.079766</td>\n",
       "    </tr>\n",
       "    <tr>\n",
       "      <th>Australia</th>\n",
       "      <td>0.077231</td>\n",
       "    </tr>\n",
       "    <tr>\n",
       "      <th>United States Virgin Islands</th>\n",
       "      <td>0.070926</td>\n",
       "    </tr>\n",
       "  </tbody>\n",
       "</table style=\"display:inline\"><table style=\"display:inline\" border=\"1\" class=\"dataframe\">\n",
       "  <thead>\n",
       "    <tr style=\"text-align: right;\">\n",
       "      <th></th>\n",
       "      <th>2000 ~ 2009</th>\n",
       "    </tr>\n",
       "    <tr>\n",
       "      <th>Entity</th>\n",
       "      <th></th>\n",
       "    </tr>\n",
       "  </thead>\n",
       "  <tbody>\n",
       "    <tr>\n",
       "      <th>Australia</th>\n",
       "      <td>0.131537</td>\n",
       "    </tr>\n",
       "    <tr>\n",
       "      <th>Equatorial Guinea</th>\n",
       "      <td>0.117369</td>\n",
       "    </tr>\n",
       "    <tr>\n",
       "      <th>United States Virgin Islands</th>\n",
       "      <td>0.083915</td>\n",
       "    </tr>\n",
       "  </tbody>\n",
       "</table style=\"display:inline\"><table style=\"display:inline\" border=\"1\" class=\"dataframe\">\n",
       "  <thead>\n",
       "    <tr style=\"text-align: right;\">\n",
       "      <th></th>\n",
       "      <th>2010 ~ 2017</th>\n",
       "    </tr>\n",
       "    <tr>\n",
       "      <th>Entity</th>\n",
       "      <th></th>\n",
       "    </tr>\n",
       "  </thead>\n",
       "  <tbody>\n",
       "    <tr>\n",
       "      <th>Singapore</th>\n",
       "      <td>0.045826</td>\n",
       "    </tr>\n",
       "    <tr>\n",
       "      <th>Uruguay</th>\n",
       "      <td>0.041744</td>\n",
       "    </tr>\n",
       "    <tr>\n",
       "      <th>Ireland</th>\n",
       "      <td>0.037635</td>\n",
       "    </tr>\n",
       "  </tbody>\n",
       "</table style=\"display:inline\">"
      ]
     },
     "metadata": {},
     "output_type": "display_data"
    },
    {
     "name": "stdout",
     "output_type": "stream",
     "text": [
      "None\n",
      "Schizophrenia (%)-- top 3 countries with the biggest increase\n"
     ]
    },
    {
     "data": {
      "text/html": [
       "<table style=\"display:inline\" border=\"1\" class=\"dataframe\">\n",
       "  <thead>\n",
       "    <tr style=\"text-align: right;\">\n",
       "      <th></th>\n",
       "      <th>1990 ~ 1999</th>\n",
       "    </tr>\n",
       "    <tr>\n",
       "      <th>Entity</th>\n",
       "      <th></th>\n",
       "    </tr>\n",
       "  </thead>\n",
       "  <tbody>\n",
       "    <tr>\n",
       "      <th>Equatorial Guinea</th>\n",
       "      <td>0.011113</td>\n",
       "    </tr>\n",
       "    <tr>\n",
       "      <th>Malaysia</th>\n",
       "      <td>0.010585</td>\n",
       "    </tr>\n",
       "    <tr>\n",
       "      <th>Thailand</th>\n",
       "      <td>0.009097</td>\n",
       "    </tr>\n",
       "  </tbody>\n",
       "</table style=\"display:inline\"><table style=\"display:inline\" border=\"1\" class=\"dataframe\">\n",
       "  <thead>\n",
       "    <tr style=\"text-align: right;\">\n",
       "      <th></th>\n",
       "      <th>2000 ~ 2009</th>\n",
       "    </tr>\n",
       "    <tr>\n",
       "      <th>Entity</th>\n",
       "      <th></th>\n",
       "    </tr>\n",
       "  </thead>\n",
       "  <tbody>\n",
       "    <tr>\n",
       "      <th>Denmark</th>\n",
       "      <td>0.016710</td>\n",
       "    </tr>\n",
       "    <tr>\n",
       "      <th>Equatorial Guinea</th>\n",
       "      <td>0.014659</td>\n",
       "    </tr>\n",
       "    <tr>\n",
       "      <th>Myanmar</th>\n",
       "      <td>0.011173</td>\n",
       "    </tr>\n",
       "  </tbody>\n",
       "</table style=\"display:inline\"><table style=\"display:inline\" border=\"1\" class=\"dataframe\">\n",
       "  <thead>\n",
       "    <tr style=\"text-align: right;\">\n",
       "      <th></th>\n",
       "      <th>2010 ~ 2017</th>\n",
       "    </tr>\n",
       "    <tr>\n",
       "      <th>Entity</th>\n",
       "      <th></th>\n",
       "    </tr>\n",
       "  </thead>\n",
       "  <tbody>\n",
       "    <tr>\n",
       "      <th>United Kingdom</th>\n",
       "      <td>0.010535</td>\n",
       "    </tr>\n",
       "    <tr>\n",
       "      <th>Myanmar</th>\n",
       "      <td>0.007583</td>\n",
       "    </tr>\n",
       "    <tr>\n",
       "      <th>Laos</th>\n",
       "      <td>0.007449</td>\n",
       "    </tr>\n",
       "  </tbody>\n",
       "</table style=\"display:inline\">"
      ]
     },
     "metadata": {},
     "output_type": "display_data"
    },
    {
     "name": "stdout",
     "output_type": "stream",
     "text": [
      "None\n"
     ]
    }
   ],
   "source": [
    "for i in range(3, len(mental_sub.columns)):\n",
    "    df = change(mental_sub, i)\n",
    "    print(str(mental_sub.columns[i]) + '-- top 3 countries with the biggest increase')\n",
    "    print(top_3(df))"
   ]
  },
  {
   "cell_type": "markdown",
   "metadata": {},
   "source": [
    "**Let's only focus on mental health and substance use disorder rate column.**"
   ]
  },
  {
   "cell_type": "code",
   "execution_count": 28,
   "metadata": {},
   "outputs": [
    {
     "name": "stdout",
     "output_type": "stream",
     "text": [
      "Mental and substance use disorders (%)-- top 3 countries with the biggest increase\n"
     ]
    },
    {
     "data": {
      "text/html": [
       "<table style=\"display:inline\" border=\"1\" class=\"dataframe\">\n",
       "  <thead>\n",
       "    <tr style=\"text-align: right;\">\n",
       "      <th></th>\n",
       "      <th>1990 ~ 1999</th>\n",
       "    </tr>\n",
       "    <tr>\n",
       "      <th>Entity</th>\n",
       "      <th></th>\n",
       "    </tr>\n",
       "  </thead>\n",
       "  <tbody>\n",
       "    <tr>\n",
       "      <th>Afghanistan</th>\n",
       "      <td>0.849154</td>\n",
       "    </tr>\n",
       "    <tr>\n",
       "      <th>Brazil</th>\n",
       "      <td>0.797578</td>\n",
       "    </tr>\n",
       "    <tr>\n",
       "      <th>Netherlands</th>\n",
       "      <td>0.625952</td>\n",
       "    </tr>\n",
       "  </tbody>\n",
       "</table style=\"display:inline\"><table style=\"display:inline\" border=\"1\" class=\"dataframe\">\n",
       "  <thead>\n",
       "    <tr style=\"text-align: right;\">\n",
       "      <th></th>\n",
       "      <th>2000 ~ 2009</th>\n",
       "    </tr>\n",
       "    <tr>\n",
       "      <th>Entity</th>\n",
       "      <th></th>\n",
       "    </tr>\n",
       "  </thead>\n",
       "  <tbody>\n",
       "    <tr>\n",
       "      <th>Australia</th>\n",
       "      <td>0.372023</td>\n",
       "    </tr>\n",
       "    <tr>\n",
       "      <th>Somalia</th>\n",
       "      <td>0.368775</td>\n",
       "    </tr>\n",
       "    <tr>\n",
       "      <th>Italy</th>\n",
       "      <td>0.250366</td>\n",
       "    </tr>\n",
       "  </tbody>\n",
       "</table style=\"display:inline\"><table style=\"display:inline\" border=\"1\" class=\"dataframe\">\n",
       "  <thead>\n",
       "    <tr style=\"text-align: right;\">\n",
       "      <th></th>\n",
       "      <th>2010 ~ 2017</th>\n",
       "    </tr>\n",
       "    <tr>\n",
       "      <th>Entity</th>\n",
       "      <th></th>\n",
       "    </tr>\n",
       "  </thead>\n",
       "  <tbody>\n",
       "    <tr>\n",
       "      <th>Libya</th>\n",
       "      <td>0.234751</td>\n",
       "    </tr>\n",
       "    <tr>\n",
       "      <th>Japan</th>\n",
       "      <td>0.200297</td>\n",
       "    </tr>\n",
       "    <tr>\n",
       "      <th>South Korea</th>\n",
       "      <td>0.168606</td>\n",
       "    </tr>\n",
       "  </tbody>\n",
       "</table style=\"display:inline\">"
      ]
     },
     "metadata": {},
     "output_type": "display_data"
    },
    {
     "name": "stdout",
     "output_type": "stream",
     "text": [
      "None\n"
     ]
    }
   ],
   "source": [
    "for i in range(3, 4):\n",
    "    df = change(mental_sub, i)\n",
    "    print(str(mental_sub.columns[i]) + '-- top 3 countries with the biggest increase')\n",
    "    print(top_3(df))"
   ]
  },
  {
   "cell_type": "markdown",
   "metadata": {},
   "source": [
    "Non of the country appears twice in the above table for each decade. Let's check how these 9 countries behave in each decade."
   ]
  },
  {
   "cell_type": "code",
   "execution_count": 29,
   "metadata": {},
   "outputs": [],
   "source": [
    "top_change_countries = ['Afghanistan', 'Brazil', 'Netherlands', 'Australia', 'Somalia', \n",
    "                        'Italy', 'Libya', 'Japan', 'South Korea']"
   ]
  },
  {
   "cell_type": "code",
   "execution_count": 30,
   "metadata": {},
   "outputs": [
    {
     "data": {
      "text/html": [
       "<div>\n",
       "<style scoped>\n",
       "    .dataframe tbody tr th:only-of-type {\n",
       "        vertical-align: middle;\n",
       "    }\n",
       "\n",
       "    .dataframe tbody tr th {\n",
       "        vertical-align: top;\n",
       "    }\n",
       "\n",
       "    .dataframe thead th {\n",
       "        text-align: right;\n",
       "    }\n",
       "</style>\n",
       "<table border=\"1\" class=\"dataframe\">\n",
       "  <thead>\n",
       "    <tr style=\"text-align: right;\">\n",
       "      <th></th>\n",
       "      <th>1990 ~ 1999</th>\n",
       "      <th>2000 ~ 2009</th>\n",
       "      <th>2010 ~ 2017</th>\n",
       "    </tr>\n",
       "    <tr>\n",
       "      <th>Entity</th>\n",
       "      <th></th>\n",
       "      <th></th>\n",
       "      <th></th>\n",
       "    </tr>\n",
       "  </thead>\n",
       "  <tbody>\n",
       "    <tr>\n",
       "      <th>Afghanistan</th>\n",
       "      <td>0.849154</td>\n",
       "      <td>-1.085967</td>\n",
       "      <td>-0.372593</td>\n",
       "    </tr>\n",
       "    <tr>\n",
       "      <th>Brazil</th>\n",
       "      <td>0.797578</td>\n",
       "      <td>-0.173188</td>\n",
       "      <td>-0.404024</td>\n",
       "    </tr>\n",
       "    <tr>\n",
       "      <th>Netherlands</th>\n",
       "      <td>0.625952</td>\n",
       "      <td>-0.588988</td>\n",
       "      <td>0.075779</td>\n",
       "    </tr>\n",
       "    <tr>\n",
       "      <th>Somalia</th>\n",
       "      <td>0.481309</td>\n",
       "      <td>0.368775</td>\n",
       "      <td>-0.609908</td>\n",
       "    </tr>\n",
       "    <tr>\n",
       "      <th>Australia</th>\n",
       "      <td>0.179127</td>\n",
       "      <td>0.372023</td>\n",
       "      <td>-0.237284</td>\n",
       "    </tr>\n",
       "    <tr>\n",
       "      <th>South Korea</th>\n",
       "      <td>0.157959</td>\n",
       "      <td>0.030811</td>\n",
       "      <td>0.168606</td>\n",
       "    </tr>\n",
       "    <tr>\n",
       "      <th>Libya</th>\n",
       "      <td>0.101766</td>\n",
       "      <td>0.039928</td>\n",
       "      <td>0.234751</td>\n",
       "    </tr>\n",
       "    <tr>\n",
       "      <th>Japan</th>\n",
       "      <td>-0.052152</td>\n",
       "      <td>0.141358</td>\n",
       "      <td>0.200297</td>\n",
       "    </tr>\n",
       "    <tr>\n",
       "      <th>Italy</th>\n",
       "      <td>-0.600999</td>\n",
       "      <td>0.250366</td>\n",
       "      <td>0.025461</td>\n",
       "    </tr>\n",
       "  </tbody>\n",
       "</table>\n",
       "</div>"
      ],
      "text/plain": [
       "             1990 ~ 1999  2000 ~ 2009  2010 ~ 2017\n",
       "Entity                                            \n",
       "Afghanistan     0.849154    -1.085967    -0.372593\n",
       "Brazil          0.797578    -0.173188    -0.404024\n",
       "Netherlands     0.625952    -0.588988     0.075779\n",
       "Somalia         0.481309     0.368775    -0.609908\n",
       "Australia       0.179127     0.372023    -0.237284\n",
       "South Korea     0.157959     0.030811     0.168606\n",
       "Libya           0.101766     0.039928     0.234751\n",
       "Japan          -0.052152     0.141358     0.200297\n",
       "Italy          -0.600999     0.250366     0.025461"
      ]
     },
     "execution_count": 30,
     "metadata": {},
     "output_type": "execute_result"
    }
   ],
   "source": [
    "# create the dataframe with only mental health and substance use disorder rate column and the change in decades \n",
    "df = change(mental_sub, 3)\n",
    "\n",
    "# filter the three decades\n",
    "cols = ['1990 ~ 1999', '2000 ~ 2009', '2010 ~ 2017']\n",
    "df_de = df[cols].sort_values(['1990 ~ 1999'], ascending=False)\n",
    "\n",
    "# filter those 9 countries\n",
    "df_c = df_de[df_de.index.get_level_values('Entity').isin(top_change_countries)]\n",
    "df_c"
   ]
  },
  {
   "cell_type": "markdown",
   "metadata": {},
   "source": [
    "Very interesting, only Japan is increasing with increasing change in decades. Australia and Italy have increased in population from 2000 to 2009. South Korea and Libya have decreased from 2000 to 2009 and jump back increased from 2010 to 2017.  "
   ]
  },
  {
   "cell_type": "markdown",
   "metadata": {},
   "source": [
    "### Check the relationship between mental health and substance use disorders rate and GDP per capita"
   ]
  },
  {
   "cell_type": "code",
   "execution_count": 31,
   "metadata": {},
   "outputs": [
    {
     "data": {
      "text/html": [
       "<div>\n",
       "<style scoped>\n",
       "    .dataframe tbody tr th:only-of-type {\n",
       "        vertical-align: middle;\n",
       "    }\n",
       "\n",
       "    .dataframe tbody tr th {\n",
       "        vertical-align: top;\n",
       "    }\n",
       "\n",
       "    .dataframe thead th {\n",
       "        text-align: right;\n",
       "    }\n",
       "</style>\n",
       "<table border=\"1\" class=\"dataframe\">\n",
       "  <thead>\n",
       "    <tr style=\"text-align: right;\">\n",
       "      <th></th>\n",
       "      <th>Entity</th>\n",
       "      <th>Code</th>\n",
       "      <th>Year</th>\n",
       "      <th>Mental and substance use disorders (%)</th>\n",
       "      <th>Share of total disease (%)</th>\n",
       "      <th>Deaths - Mental and substance use disorders (per 100,000)</th>\n",
       "      <th>Suicide Rate (per 100,000)</th>\n",
       "      <th>Alcohol use disorders (%)</th>\n",
       "      <th>Drug use disorders (%)</th>\n",
       "      <th>Depressive disorders (%)</th>\n",
       "      <th>Bipolar disorder (%)</th>\n",
       "      <th>Anxiety disorders (%)</th>\n",
       "      <th>Eating disorders (%)</th>\n",
       "      <th>Schizophrenia (%)</th>\n",
       "      <th>GDP per capita ($)</th>\n",
       "    </tr>\n",
       "  </thead>\n",
       "  <tbody>\n",
       "    <tr>\n",
       "      <th>0</th>\n",
       "      <td>Afghanistan</td>\n",
       "      <td>AFG</td>\n",
       "      <td>2002</td>\n",
       "      <td>18.137951</td>\n",
       "      <td>1.721417</td>\n",
       "      <td>0.081991</td>\n",
       "      <td>11.054472</td>\n",
       "      <td>0.659213</td>\n",
       "      <td>1.934326</td>\n",
       "      <td>4.124928</td>\n",
       "      <td>0.701141</td>\n",
       "      <td>4.838318</td>\n",
       "      <td>0.087023</td>\n",
       "      <td>0.162414</td>\n",
       "      <td>1063.635574</td>\n",
       "    </tr>\n",
       "    <tr>\n",
       "      <th>1</th>\n",
       "      <td>Afghanistan</td>\n",
       "      <td>AFG</td>\n",
       "      <td>2003</td>\n",
       "      <td>17.958849</td>\n",
       "      <td>1.800411</td>\n",
       "      <td>0.081942</td>\n",
       "      <td>10.931093</td>\n",
       "      <td>0.657354</td>\n",
       "      <td>2.051106</td>\n",
       "      <td>4.125230</td>\n",
       "      <td>0.701860</td>\n",
       "      <td>4.845538</td>\n",
       "      <td>0.087189</td>\n",
       "      <td>0.162916</td>\n",
       "      <td>1099.194507</td>\n",
       "    </tr>\n",
       "    <tr>\n",
       "      <th>2</th>\n",
       "      <td>Afghanistan</td>\n",
       "      <td>AFG</td>\n",
       "      <td>2004</td>\n",
       "      <td>17.788825</td>\n",
       "      <td>1.881324</td>\n",
       "      <td>0.082468</td>\n",
       "      <td>10.839790</td>\n",
       "      <td>0.656132</td>\n",
       "      <td>2.163044</td>\n",
       "      <td>4.126384</td>\n",
       "      <td>0.702556</td>\n",
       "      <td>4.851512</td>\n",
       "      <td>0.088158</td>\n",
       "      <td>0.163377</td>\n",
       "      <td>1062.249360</td>\n",
       "    </tr>\n",
       "    <tr>\n",
       "      <th>3</th>\n",
       "      <td>Afghanistan</td>\n",
       "      <td>AFG</td>\n",
       "      <td>2005</td>\n",
       "      <td>17.647911</td>\n",
       "      <td>1.989248</td>\n",
       "      <td>0.081971</td>\n",
       "      <td>10.655626</td>\n",
       "      <td>0.655686</td>\n",
       "      <td>2.247443</td>\n",
       "      <td>4.126908</td>\n",
       "      <td>0.703078</td>\n",
       "      <td>4.854684</td>\n",
       "      <td>0.088933</td>\n",
       "      <td>0.163706</td>\n",
       "      <td>1136.123214</td>\n",
       "    </tr>\n",
       "    <tr>\n",
       "      <th>4</th>\n",
       "      <td>Afghanistan</td>\n",
       "      <td>AFG</td>\n",
       "      <td>2006</td>\n",
       "      <td>17.539914</td>\n",
       "      <td>2.035171</td>\n",
       "      <td>0.082571</td>\n",
       "      <td>10.538475</td>\n",
       "      <td>0.656297</td>\n",
       "      <td>2.321020</td>\n",
       "      <td>4.128638</td>\n",
       "      <td>0.703517</td>\n",
       "      <td>4.856685</td>\n",
       "      <td>0.090054</td>\n",
       "      <td>0.163977</td>\n",
       "      <td>1161.124889</td>\n",
       "    </tr>\n",
       "  </tbody>\n",
       "</table>\n",
       "</div>"
      ],
      "text/plain": [
       "        Entity Code  Year  Mental and substance use disorders (%)  \\\n",
       "0  Afghanistan  AFG  2002                               18.137951   \n",
       "1  Afghanistan  AFG  2003                               17.958849   \n",
       "2  Afghanistan  AFG  2004                               17.788825   \n",
       "3  Afghanistan  AFG  2005                               17.647911   \n",
       "4  Afghanistan  AFG  2006                               17.539914   \n",
       "\n",
       "   Share of total disease (%)  \\\n",
       "0                    1.721417   \n",
       "1                    1.800411   \n",
       "2                    1.881324   \n",
       "3                    1.989248   \n",
       "4                    2.035171   \n",
       "\n",
       "   Deaths - Mental and substance use disorders (per 100,000)  \\\n",
       "0                                           0.081991           \n",
       "1                                           0.081942           \n",
       "2                                           0.082468           \n",
       "3                                           0.081971           \n",
       "4                                           0.082571           \n",
       "\n",
       "   Suicide Rate (per 100,000)  Alcohol use disorders (%)  \\\n",
       "0                   11.054472                   0.659213   \n",
       "1                   10.931093                   0.657354   \n",
       "2                   10.839790                   0.656132   \n",
       "3                   10.655626                   0.655686   \n",
       "4                   10.538475                   0.656297   \n",
       "\n",
       "   Drug use disorders (%)  Depressive disorders (%)  Bipolar disorder (%)  \\\n",
       "0                1.934326                  4.124928              0.701141   \n",
       "1                2.051106                  4.125230              0.701860   \n",
       "2                2.163044                  4.126384              0.702556   \n",
       "3                2.247443                  4.126908              0.703078   \n",
       "4                2.321020                  4.128638              0.703517   \n",
       "\n",
       "   Anxiety disorders (%)  Eating disorders (%)  Schizophrenia (%)  \\\n",
       "0               4.838318              0.087023           0.162414   \n",
       "1               4.845538              0.087189           0.162916   \n",
       "2               4.851512              0.088158           0.163377   \n",
       "3               4.854684              0.088933           0.163706   \n",
       "4               4.856685              0.090054           0.163977   \n",
       "\n",
       "   GDP per capita ($)  \n",
       "0         1063.635574  \n",
       "1         1099.194507  \n",
       "2         1062.249360  \n",
       "3         1136.123214  \n",
       "4         1161.124889  "
      ]
     },
     "execution_count": 31,
     "metadata": {},
     "output_type": "execute_result"
    }
   ],
   "source": [
    "# Merge two datasets\n",
    "df_1 = mental_sub.set_index(['Entity', 'Code', 'Year'])\n",
    "df_2 = gdpPerCapita.set_index(['Entity', 'Code', 'Year'])\n",
    "dataframes = [df_1, df_2]\n",
    "df_merged = pd.concat(dataframes, axis=1).dropna()\n",
    "df_merged.reset_index(inplace=True)\n",
    "df_merged.head()"
   ]
  },
  {
   "cell_type": "code",
   "execution_count": 32,
   "metadata": {},
   "outputs": [
    {
     "data": {
      "text/plain": [
       "(array([0.5]), <a list of 1 Text major ticklabel objects>)"
      ]
     },
     "execution_count": 32,
     "metadata": {},
     "output_type": "execute_result"
    },
    {
     "data": {
      "image/png": "[encoded data removed]",
      "text/plain": [
       "<Figure size 864x72 with 2 Axes>"
      ]
     },
     "metadata": {
      "needs_background": "light"
     },
     "output_type": "display_data"
    }
   ],
   "source": [
    "plt.figure(figsize=(12,1))\n",
    "sns.heatmap(df_merged.drop(columns=['Year']).corr().tail(1),linewidths=.1,cmap=\"YlGnBu\", annot=True)\n",
    "plt.yticks(rotation=0)"
   ]
  },
  {
   "cell_type": "markdown",
   "metadata": {},
   "source": [
    "It shows there is a stronger positive correlation between 'Mental health and substance use disorders as a share of total disease burden' and GDP per capita, Eating disorders, and GDP per capita.\n",
    "\n",
    "#### Let's visualize how well they are related. "
   ]
  },
  {
   "cell_type": "code",
   "execution_count": 33,
   "metadata": {},
   "outputs": [],
   "source": [
    "cols = ['Share of total disease (%)', 'Eating disorders (%)']"
   ]
  },
  {
   "cell_type": "code",
   "execution_count": 34,
   "metadata": {},
   "outputs": [
    {
     "data": {
      "image/png": "[encoded data removed]",
      "text/plain": [
       "<Figure size 1008x432 with 2 Axes>"
      ]
     },
     "metadata": {
      "needs_background": "light"
     },
     "output_type": "display_data"
    }
   ],
   "source": [
    "plt.figure(figsize = (14, 6))\n",
    "for i in range(len(cols)):\n",
    "    j = i + 1\n",
    "    ax = plt.subplot(1, 2, j)\n",
    "    sns.regplot(x = 'GDP per capita ($)', y = cols[i], data=df_merged, ax=ax, scatter_kws={\"color\": \"black\"}\n",
    "           , line_kws={\"color\": \"red\"})\n",
    "    plt.title(str(cols[i]))\n",
    "plt.savefig(r'C:\\Users\\yuhan\\Desktop\\Springboard\\Capstone project-2\\figures\\GDP_correlation.png')"
   ]
  },
  {
   "cell_type": "markdown",
   "metadata": {},
   "source": [
    "### Check the share of population with disorders in the top three richest and poorest countries.\n",
    "\n",
    "From the above, we know that the economy is a risk factor for mental and substance use disorders. Here, I want to see how mental health and substance use disorders differ between rich and poor countries. I filtered the top 3 richest and poorest countries from the GDP per capita dataset (based on 2017). Then I plotted the Eating disorder and Mental health and substance use disorders trend for each country from 1990 to 2017. \n",
    "* For Eating disorder: \n",
    "  - All rich countries are a much more disorder rate than poor countries.\n",
    "  - All rich countries show an increased rate year by year.\n",
    "  - All poor countries show slightly change throughout the years.\n",
    "* For Mental health and substance use disorders\n",
    "  - The rich countries tend to have more people who have mental and substance use disorders, and poor countries have less. \n",
    "  - Singapore(rich) has fewer people rate than Burundi(poor).\n",
    "  - The rates tend to decrease through the years.\n",
    "\n",
    "In summary, rich countries tend to have more people suffering from mental health and substance use disorders than poor countries. "
   ]
  },
  {
   "cell_type": "code",
   "execution_count": 35,
   "metadata": {},
   "outputs": [
    {
     "data": {
      "text/html": [
       "<div>\n",
       "<style scoped>\n",
       "    .dataframe tbody tr th:only-of-type {\n",
       "        vertical-align: middle;\n",
       "    }\n",
       "\n",
       "    .dataframe tbody tr th {\n",
       "        vertical-align: top;\n",
       "    }\n",
       "\n",
       "    .dataframe thead th {\n",
       "        text-align: right;\n",
       "    }\n",
       "</style>\n",
       "<table border=\"1\" class=\"dataframe\">\n",
       "  <thead>\n",
       "    <tr style=\"text-align: right;\">\n",
       "      <th></th>\n",
       "      <th>Entity</th>\n",
       "      <th>Code</th>\n",
       "      <th>Year</th>\n",
       "      <th>GDP per capita ($)</th>\n",
       "    </tr>\n",
       "  </thead>\n",
       "  <tbody>\n",
       "    <tr>\n",
       "      <th>4801</th>\n",
       "      <td>Qatar</td>\n",
       "      <td>QAT</td>\n",
       "      <td>2017</td>\n",
       "      <td>116935.600360</td>\n",
       "    </tr>\n",
       "    <tr>\n",
       "      <th>3470</th>\n",
       "      <td>Macao</td>\n",
       "      <td>MAC</td>\n",
       "      <td>2017</td>\n",
       "      <td>104861.851097</td>\n",
       "    </tr>\n",
       "    <tr>\n",
       "      <th>3442</th>\n",
       "      <td>Luxembourg</td>\n",
       "      <td>LUX</td>\n",
       "      <td>2017</td>\n",
       "      <td>94277.965357</td>\n",
       "    </tr>\n",
       "    <tr>\n",
       "      <th>5198</th>\n",
       "      <td>Singapore</td>\n",
       "      <td>SGP</td>\n",
       "      <td>2017</td>\n",
       "      <td>85535.383200</td>\n",
       "    </tr>\n",
       "    <tr>\n",
       "      <th>708</th>\n",
       "      <td>Brunei</td>\n",
       "      <td>BRN</td>\n",
       "      <td>2017</td>\n",
       "      <td>71809.250581</td>\n",
       "    </tr>\n",
       "  </tbody>\n",
       "</table>\n",
       "</div>"
      ],
      "text/plain": [
       "          Entity Code  Year  GDP per capita ($)\n",
       "4801       Qatar  QAT  2017       116935.600360\n",
       "3470       Macao  MAC  2017       104861.851097\n",
       "3442  Luxembourg  LUX  2017        94277.965357\n",
       "5198   Singapore  SGP  2017        85535.383200\n",
       "708       Brunei  BRN  2017        71809.250581"
      ]
     },
     "execution_count": 35,
     "metadata": {},
     "output_type": "execute_result"
    }
   ],
   "source": [
    "# Top 3 richest countries in 2017\n",
    "order = gdpPerCapita[gdpPerCapita.Year == 2017].sort_values(['GDP per capita ($)'], ascending=False)\n",
    "order.head()"
   ]
  },
  {
   "cell_type": "code",
   "execution_count": 36,
   "metadata": {},
   "outputs": [
    {
     "data": {
      "text/html": [
       "<div>\n",
       "<style scoped>\n",
       "    .dataframe tbody tr th:only-of-type {\n",
       "        vertical-align: middle;\n",
       "    }\n",
       "\n",
       "    .dataframe tbody tr th {\n",
       "        vertical-align: top;\n",
       "    }\n",
       "\n",
       "    .dataframe thead th {\n",
       "        text-align: right;\n",
       "    }\n",
       "</style>\n",
       "<table border=\"1\" class=\"dataframe\">\n",
       "  <thead>\n",
       "    <tr style=\"text-align: right;\">\n",
       "      <th></th>\n",
       "      <th>Entity</th>\n",
       "      <th>Code</th>\n",
       "      <th>Year</th>\n",
       "      <th>GDP per capita ($)</th>\n",
       "    </tr>\n",
       "  </thead>\n",
       "  <tbody>\n",
       "    <tr>\n",
       "      <th>3288</th>\n",
       "      <td>Liberia</td>\n",
       "      <td>LBR</td>\n",
       "      <td>2017</td>\n",
       "      <td>752.787839</td>\n",
       "    </tr>\n",
       "    <tr>\n",
       "      <th>792</th>\n",
       "      <td>Burundi</td>\n",
       "      <td>BDI</td>\n",
       "      <td>2017</td>\n",
       "      <td>702.225313</td>\n",
       "    </tr>\n",
       "    <tr>\n",
       "      <th>958</th>\n",
       "      <td>Central African Republic</td>\n",
       "      <td>CAF</td>\n",
       "      <td>2017</td>\n",
       "      <td>661.239968</td>\n",
       "    </tr>\n",
       "  </tbody>\n",
       "</table>\n",
       "</div>"
      ],
      "text/plain": [
       "                        Entity Code  Year  GDP per capita ($)\n",
       "3288                   Liberia  LBR  2017          752.787839\n",
       "792                    Burundi  BDI  2017          702.225313\n",
       "958   Central African Republic  CAF  2017          661.239968"
      ]
     },
     "execution_count": 36,
     "metadata": {},
     "output_type": "execute_result"
    }
   ],
   "source": [
    "# Top 3 poorest countries in 2017\n",
    "order.tail(3)"
   ]
  },
  {
   "cell_type": "code",
   "execution_count": 37,
   "metadata": {},
   "outputs": [
    {
     "name": "stderr",
     "output_type": "stream",
     "text": [
      "C:\\Users\\yuhan\\anaconda3\\lib\\site-packages\\ipykernel_launcher.py:7: SettingWithCopyWarning: \n",
      "A value is trying to be set on a copy of a slice from a DataFrame.\n",
      "Try using .loc[row_indexer,col_indexer] = value instead\n",
      "\n",
      "See the caveats in the documentation: https://pandas.pydata.org/pandas-docs/stable/user_guide/indexing.html#returning-a-view-versus-a-copy\n",
      "  import sys\n"
     ]
    }
   ],
   "source": [
    "# Filter top 3 richest, poorest countries\n",
    "# there is no data for Macao in mental_sub, use Singapore instead\n",
    "countries = ['Qatar', 'Luxembourg', 'Singapore', 'Burundi', 'Central African Republic', 'Liberia']\n",
    "richest_poorest = mental_sub[mental_sub['Entity'].isin(countries)]\n",
    "\n",
    "# Create a column to indicate the rich and poor countries\n",
    "richest_poorest['Group'] = ['rich' if i in ['Qatar', 'Luxembourg', 'Singapore'] else 'poor' for i in richest_poorest.Entity.values]"
   ]
  },
  {
   "cell_type": "code",
   "execution_count": 38,
   "metadata": {},
   "outputs": [
    {
     "data": {
      "text/plain": [
       "array(['poor', 'rich'], dtype=object)"
      ]
     },
     "execution_count": 38,
     "metadata": {},
     "output_type": "execute_result"
    }
   ],
   "source": [
    "richest_poorest.Group.unique()"
   ]
  },
  {
   "cell_type": "code",
   "execution_count": 39,
   "metadata": {},
   "outputs": [
    {
     "data": {
      "image/png": "[encoded data removed]",
      "text/plain": [
       "<Figure size 576x432 with 1 Axes>"
      ]
     },
     "metadata": {
      "needs_background": "light"
     },
     "output_type": "display_data"
    }
   ],
   "source": [
    "plt.figure(figsize=(8,6))\n",
    "palette = sns.color_palette(\"mako_r\", 6)\n",
    "sns.lineplot(data = richest_poorest, x = 'Year', \n",
    "             y='Eating disorders (%)', \n",
    "             hue='Entity', style='Group', markers=True, dashes=False, linewidth = 2, palette=palette)\n",
    "plt.ylabel('Eating disorders (%)')\n",
    "plt.legend(bbox_to_anchor=(1.05, 1.0), loc='upper left')\n",
    "plt.title(\"Richest vs Poorest Countries\")\n",
    "plt.savefig(r'C:\\Users\\yuhan\\Desktop\\Springboard\\Capstone project-2\\figures\\eating_richAndPoorCountry.png', bbox_inches = 'tight')"
   ]
  },
  {
   "cell_type": "code",
   "execution_count": 40,
   "metadata": {},
   "outputs": [
    {
     "data": {
      "image/png": "[encoded data removed]",
      "text/plain": [
       "<Figure size 576x432 with 1 Axes>"
      ]
     },
     "metadata": {
      "needs_background": "light"
     },
     "output_type": "display_data"
    }
   ],
   "source": [
    "# plot the trend by year with Mental and substance use disorders (%)\n",
    "plt.figure(figsize=(8,6))\n",
    "palette = sns.color_palette(\"mako_r\", 6)\n",
    "sns.lineplot(data = richest_poorest, x = 'Year', \n",
    "             y='Mental and substance use disorders (%)', \n",
    "             hue='Entity', style='Group', markers=True, dashes=False, linewidth = 2, palette=palette)\n",
    "plt.ylabel('Share of population with Mental and substance use disorders (%)')\n",
    "plt.legend(bbox_to_anchor=(1.05, 1.0), loc='upper left')\n",
    "plt.title(\"Richest vs Poorest Countries\")\n",
    "plt.savefig(r'C:\\Users\\yuhan\\Desktop\\Springboard\\Capstone project-2\\figures\\share_richAndPoorCountry.png', bbox_inches = 'tight')"
   ]
  },
  {
   "cell_type": "markdown",
   "metadata": {},
   "source": [
    "## Explore the share of population by age groups suffering from any mental health or substance use disorders data\n",
    "\n",
    "This dataset includes a few age groups that cover most age range. On average, it shows younger people who are under 14 years old have the lowest rate, and people who are between 15-49 years old have the highest rate. Dut to 15-19, 20-24, 25-29, 30-34 age groups have slightly different on average, 5-14, 15-49, 50-69, 70+, and age-standardized columns in the whole world level will be chosen for the future study, and also because those groups cover most age range.\n"
   ]
  },
  {
   "cell_type": "code",
   "execution_count": 41,
   "metadata": {},
   "outputs": [
    {
     "data": {
      "text/html": [
       "<div>\n",
       "<style scoped>\n",
       "    .dataframe tbody tr th:only-of-type {\n",
       "        vertical-align: middle;\n",
       "    }\n",
       "\n",
       "    .dataframe tbody tr th {\n",
       "        vertical-align: top;\n",
       "    }\n",
       "\n",
       "    .dataframe thead th {\n",
       "        text-align: right;\n",
       "    }\n",
       "</style>\n",
       "<table border=\"1\" class=\"dataframe\">\n",
       "  <thead>\n",
       "    <tr style=\"text-align: right;\">\n",
       "      <th></th>\n",
       "      <th>Year</th>\n",
       "      <th>10-14 years old (%)</th>\n",
       "      <th>15-19 years old (%)</th>\n",
       "      <th>20-24 years old (%)</th>\n",
       "      <th>25-29 years old (%)</th>\n",
       "      <th>30-34 years old (%)</th>\n",
       "      <th>All ages (%)</th>\n",
       "      <th>5-14 years old (%)</th>\n",
       "      <th>15-49 years old (%)</th>\n",
       "      <th>50-69 years old (%)</th>\n",
       "      <th>70+ years old (%)</th>\n",
       "      <th>Age-standardized (%)</th>\n",
       "    </tr>\n",
       "  </thead>\n",
       "  <tbody>\n",
       "    <tr>\n",
       "      <th>count</th>\n",
       "      <td>6468.000000</td>\n",
       "      <td>6468.000000</td>\n",
       "      <td>6468.000000</td>\n",
       "      <td>6468.000000</td>\n",
       "      <td>6468.000000</td>\n",
       "      <td>6468.000000</td>\n",
       "      <td>6468.000000</td>\n",
       "      <td>6468.000000</td>\n",
       "      <td>6468.000000</td>\n",
       "      <td>6468.000000</td>\n",
       "      <td>6468.000000</td>\n",
       "      <td>6468.000000</td>\n",
       "    </tr>\n",
       "    <tr>\n",
       "      <th>mean</th>\n",
       "      <td>2003.500000</td>\n",
       "      <td>13.843204</td>\n",
       "      <td>15.886122</td>\n",
       "      <td>14.865825</td>\n",
       "      <td>14.829490</td>\n",
       "      <td>15.090616</td>\n",
       "      <td>12.779463</td>\n",
       "      <td>10.392677</td>\n",
       "      <td>15.226406</td>\n",
       "      <td>14.742883</td>\n",
       "      <td>13.455206</td>\n",
       "      <td>13.004642</td>\n",
       "    </tr>\n",
       "    <tr>\n",
       "      <th>std</th>\n",
       "      <td>8.078372</td>\n",
       "      <td>2.133417</td>\n",
       "      <td>2.555961</td>\n",
       "      <td>2.676551</td>\n",
       "      <td>2.586980</td>\n",
       "      <td>2.530750</td>\n",
       "      <td>2.127102</td>\n",
       "      <td>1.794995</td>\n",
       "      <td>2.441716</td>\n",
       "      <td>1.420786</td>\n",
       "      <td>1.322891</td>\n",
       "      <td>1.848711</td>\n",
       "    </tr>\n",
       "    <tr>\n",
       "      <th>min</th>\n",
       "      <td>1990.000000</td>\n",
       "      <td>9.804068</td>\n",
       "      <td>10.998515</td>\n",
       "      <td>9.851233</td>\n",
       "      <td>10.196966</td>\n",
       "      <td>10.736103</td>\n",
       "      <td>9.304492</td>\n",
       "      <td>7.111707</td>\n",
       "      <td>10.873140</td>\n",
       "      <td>10.836164</td>\n",
       "      <td>9.662779</td>\n",
       "      <td>9.715255</td>\n",
       "    </tr>\n",
       "    <tr>\n",
       "      <th>25%</th>\n",
       "      <td>1996.750000</td>\n",
       "      <td>12.304926</td>\n",
       "      <td>13.757011</td>\n",
       "      <td>12.692713</td>\n",
       "      <td>12.717292</td>\n",
       "      <td>13.016868</td>\n",
       "      <td>11.009757</td>\n",
       "      <td>9.141420</td>\n",
       "      <td>13.207154</td>\n",
       "      <td>13.978356</td>\n",
       "      <td>12.573461</td>\n",
       "      <td>11.488694</td>\n",
       "    </tr>\n",
       "    <tr>\n",
       "      <th>50%</th>\n",
       "      <td>2003.500000</td>\n",
       "      <td>13.169728</td>\n",
       "      <td>15.307039</td>\n",
       "      <td>14.191402</td>\n",
       "      <td>14.164913</td>\n",
       "      <td>14.420812</td>\n",
       "      <td>12.241130</td>\n",
       "      <td>9.759759</td>\n",
       "      <td>14.678906</td>\n",
       "      <td>14.712730</td>\n",
       "      <td>13.494699</td>\n",
       "      <td>12.484004</td>\n",
       "    </tr>\n",
       "    <tr>\n",
       "      <th>75%</th>\n",
       "      <td>2010.250000</td>\n",
       "      <td>15.229774</td>\n",
       "      <td>17.701580</td>\n",
       "      <td>16.756932</td>\n",
       "      <td>16.692369</td>\n",
       "      <td>17.012245</td>\n",
       "      <td>14.505915</td>\n",
       "      <td>11.506956</td>\n",
       "      <td>17.002634</td>\n",
       "      <td>15.586071</td>\n",
       "      <td>14.247040</td>\n",
       "      <td>14.274301</td>\n",
       "    </tr>\n",
       "    <tr>\n",
       "      <th>max</th>\n",
       "      <td>2017.000000</td>\n",
       "      <td>21.570803</td>\n",
       "      <td>24.957525</td>\n",
       "      <td>25.081546</td>\n",
       "      <td>24.480835</td>\n",
       "      <td>23.860110</td>\n",
       "      <td>19.121172</td>\n",
       "      <td>17.027704</td>\n",
       "      <td>23.275827</td>\n",
       "      <td>19.423087</td>\n",
       "      <td>17.860393</td>\n",
       "      <td>19.115460</td>\n",
       "    </tr>\n",
       "  </tbody>\n",
       "</table>\n",
       "</div>"
      ],
      "text/plain": [
       "              Year  10-14 years old (%)  15-19 years old (%)  \\\n",
       "count  6468.000000          6468.000000          6468.000000   \n",
       "mean   2003.500000            13.843204            15.886122   \n",
       "std       8.078372             2.133417             2.555961   \n",
       "min    1990.000000             9.804068            10.998515   \n",
       "25%    1996.750000            12.304926            13.757011   \n",
       "50%    2003.500000            13.169728            15.307039   \n",
       "75%    2010.250000            15.229774            17.701580   \n",
       "max    2017.000000            21.570803            24.957525   \n",
       "\n",
       "       20-24 years old (%)  25-29 years old (%)  30-34 years old (%)  \\\n",
       "count          6468.000000          6468.000000          6468.000000   \n",
       "mean             14.865825            14.829490            15.090616   \n",
       "std               2.676551             2.586980             2.530750   \n",
       "min               9.851233            10.196966            10.736103   \n",
       "25%              12.692713            12.717292            13.016868   \n",
       "50%              14.191402            14.164913            14.420812   \n",
       "75%              16.756932            16.692369            17.012245   \n",
       "max              25.081546            24.480835            23.860110   \n",
       "\n",
       "       All ages (%)  5-14 years old (%)  15-49 years old (%)  \\\n",
       "count   6468.000000         6468.000000          6468.000000   \n",
       "mean      12.779463           10.392677            15.226406   \n",
       "std        2.127102            1.794995             2.441716   \n",
       "min        9.304492            7.111707            10.873140   \n",
       "25%       11.009757            9.141420            13.207154   \n",
       "50%       12.241130            9.759759            14.678906   \n",
       "75%       14.505915           11.506956            17.002634   \n",
       "max       19.121172           17.027704            23.275827   \n",
       "\n",
       "       50-69 years old (%)  70+ years old (%)  Age-standardized (%)  \n",
       "count          6468.000000        6468.000000           6468.000000  \n",
       "mean             14.742883          13.455206             13.004642  \n",
       "std               1.420786           1.322891              1.848711  \n",
       "min              10.836164           9.662779              9.715255  \n",
       "25%              13.978356          12.573461             11.488694  \n",
       "50%              14.712730          13.494699             12.484004  \n",
       "75%              15.586071          14.247040             14.274301  \n",
       "max              19.423087          17.860393             19.115460  "
      ]
     },
     "execution_count": 41,
     "metadata": {},
     "output_type": "execute_result"
    }
   ],
   "source": [
    "ageGroups.describe()"
   ]
  },
  {
   "cell_type": "markdown",
   "metadata": {},
   "source": [
    "**Visulize the Mental and substance use disorders trend by age groups**\n",
    "\n",
    "Trend by age groups in the world."
   ]
  },
  {
   "cell_type": "code",
   "execution_count": 42,
   "metadata": {},
   "outputs": [],
   "source": [
    "# filter 5-14, 15-49, 50-69, 70+ and age standardized columns \n",
    "ageGroups_2 = ageGroups[['Entity', 'Code', 'Year','5-14 years old (%)', '15-49 years old (%)', '50-69 years old (%)', '70+ years old (%)', 'Age-standardized (%)']]"
   ]
  },
  {
   "cell_type": "code",
   "execution_count": 43,
   "metadata": {},
   "outputs": [],
   "source": [
    "# Filter world dataframe\n",
    "ageGroups_world = ageGroups_2[ageGroups_2['Entity'].isin(['World'])]"
   ]
  },
  {
   "cell_type": "code",
   "execution_count": 44,
   "metadata": {},
   "outputs": [
    {
     "data": {
      "image/png": "[encoded data removed]",
      "text/plain": [
       "<Figure size 576x432 with 1 Axes>"
      ]
     },
     "metadata": {
      "needs_background": "light"
     },
     "output_type": "display_data"
    }
   ],
   "source": [
    "# Plot the trend by year for age groups\n",
    "df = ageGroups_world.drop(columns=['Entity', 'Code']).melt('Year', var_name='Age Groups', value_name='Share of population')\n",
    "plt.figure(figsize=(8,6))\n",
    "palette = sns.color_palette(\"mako_r\", 5)\n",
    "sns.lineplot(data=df, x='Year', y='Share of population', hue='Age Groups', marker='o', linewidth = 2, palette=palette)\n",
    "plt.legend(bbox_to_anchor=(1.05, 1.0), loc='upper left')\n",
    "plt.title(\"Share of population by age groups in the world\")\n",
    "plt.savefig(r'C:\\Users\\yuhan\\Desktop\\Springboard\\Capstone project-2\\figures\\age_trend.png', bbox_inches = 'tight')"
   ]
  },
  {
   "cell_type": "markdown",
   "metadata": {},
   "source": [
    "For the whole world level:\n",
    "* 50-69 age group shows the highest percentage, but it went down since 2001.\n",
    "* 15-19 age group shows the second-highest percentage, and it seems going up in recent years.\n",
    "* 5-14 age group shows the lowest percentage\n",
    "\n",
    "One thing that caught my eyes is that from 2000 to 2005, there is an increased jump for 5-14, 15-49, and 50-69 age groups. Let's take a closer look at how it changes over the years."
   ]
  },
  {
   "cell_type": "markdown",
   "metadata": {},
   "source": [
    "### Let's check how each age group changed in decades"
   ]
  },
  {
   "cell_type": "code",
   "execution_count": 45,
   "metadata": {},
   "outputs": [],
   "source": [
    "# filter world entity from the data\n",
    "ageGroups_world_change = ageGroups_world.drop(columns=['Entity', 'Code']).set_index('Year')"
   ]
  },
  {
   "cell_type": "code",
   "execution_count": 46,
   "metadata": {},
   "outputs": [],
   "source": [
    "# Add percentage changed in decades to data\n",
    "ageGroups_world_change.loc['1990~1999'] = ageGroups_world_change.loc[1999] - ageGroups_world_change.loc[1990]\n",
    "ageGroups_world_change.loc['2000~2009'] = ageGroups_world_change.loc[2009] - ageGroups_world_change.loc[2000]\n",
    "ageGroups_world_change.loc['2010~2017'] = ageGroups_world_change.loc[2017] - ageGroups_world_change.loc[2010]\n",
    "ageGroups_world_change.loc['1990~2017'] = ageGroups_world_change.loc[2017] - ageGroups_world_change.loc[1990]"
   ]
  },
  {
   "cell_type": "code",
   "execution_count": 47,
   "metadata": {},
   "outputs": [
    {
     "data": {
      "text/html": [
       "<div>\n",
       "<style scoped>\n",
       "    .dataframe tbody tr th:only-of-type {\n",
       "        vertical-align: middle;\n",
       "    }\n",
       "\n",
       "    .dataframe tbody tr th {\n",
       "        vertical-align: top;\n",
       "    }\n",
       "\n",
       "    .dataframe thead th {\n",
       "        text-align: right;\n",
       "    }\n",
       "</style>\n",
       "<table border=\"1\" class=\"dataframe\">\n",
       "  <thead>\n",
       "    <tr style=\"text-align: right;\">\n",
       "      <th></th>\n",
       "      <th>5-14 years old (%)</th>\n",
       "      <th>15-49 years old (%)</th>\n",
       "      <th>50-69 years old (%)</th>\n",
       "      <th>70+ years old (%)</th>\n",
       "      <th>Age-standardized (%)</th>\n",
       "    </tr>\n",
       "    <tr>\n",
       "      <th>Year</th>\n",
       "      <th></th>\n",
       "      <th></th>\n",
       "      <th></th>\n",
       "      <th></th>\n",
       "      <th></th>\n",
       "    </tr>\n",
       "  </thead>\n",
       "  <tbody>\n",
       "    <tr>\n",
       "      <th>1990~1999</th>\n",
       "      <td>0.138579</td>\n",
       "      <td>-0.039651</td>\n",
       "      <td>0.148670</td>\n",
       "      <td>0.052238</td>\n",
       "      <td>0.005527</td>\n",
       "    </tr>\n",
       "    <tr>\n",
       "      <th>2000~2009</th>\n",
       "      <td>-0.017157</td>\n",
       "      <td>-0.196632</td>\n",
       "      <td>-0.193836</td>\n",
       "      <td>-0.136963</td>\n",
       "      <td>-0.137190</td>\n",
       "    </tr>\n",
       "    <tr>\n",
       "      <th>2010~2017</th>\n",
       "      <td>-0.111813</td>\n",
       "      <td>-0.025862</td>\n",
       "      <td>-0.173806</td>\n",
       "      <td>-0.205912</td>\n",
       "      <td>-0.074675</td>\n",
       "    </tr>\n",
       "    <tr>\n",
       "      <th>1990~2017</th>\n",
       "      <td>0.015448</td>\n",
       "      <td>-0.288160</td>\n",
       "      <td>-0.230997</td>\n",
       "      <td>-0.311725</td>\n",
       "      <td>-0.226630</td>\n",
       "    </tr>\n",
       "  </tbody>\n",
       "</table>\n",
       "</div>"
      ],
      "text/plain": [
       "           5-14 years old (%)  15-49 years old (%)  50-69 years old (%)  \\\n",
       "Year                                                                      \n",
       "1990~1999            0.138579            -0.039651             0.148670   \n",
       "2000~2009           -0.017157            -0.196632            -0.193836   \n",
       "2010~2017           -0.111813            -0.025862            -0.173806   \n",
       "1990~2017            0.015448            -0.288160            -0.230997   \n",
       "\n",
       "           70+ years old (%)  Age-standardized (%)  \n",
       "Year                                                \n",
       "1990~1999           0.052238              0.005527  \n",
       "2000~2009          -0.136963             -0.137190  \n",
       "2010~2017          -0.205912             -0.074675  \n",
       "1990~2017          -0.311725             -0.226630  "
      ]
     },
     "execution_count": 47,
     "metadata": {},
     "output_type": "execute_result"
    }
   ],
   "source": [
    "df = ageGroups_world_change.iloc[[-4, -3, -2, -1]]\n",
    "df"
   ]
  },
  {
   "cell_type": "code",
   "execution_count": 48,
   "metadata": {},
   "outputs": [
    {
     "data": {
      "text/html": [
       "<div>\n",
       "<style scoped>\n",
       "    .dataframe tbody tr th:only-of-type {\n",
       "        vertical-align: middle;\n",
       "    }\n",
       "\n",
       "    .dataframe tbody tr th {\n",
       "        vertical-align: top;\n",
       "    }\n",
       "\n",
       "    .dataframe thead th {\n",
       "        text-align: right;\n",
       "    }\n",
       "</style>\n",
       "<table border=\"1\" class=\"dataframe\">\n",
       "  <thead>\n",
       "    <tr style=\"text-align: right;\">\n",
       "      <th></th>\n",
       "      <th>1990~1999</th>\n",
       "      <th>2000~2009</th>\n",
       "      <th>2010~2017</th>\n",
       "      <th>1990~2017</th>\n",
       "    </tr>\n",
       "  </thead>\n",
       "  <tbody>\n",
       "    <tr>\n",
       "      <th>5-14 years old (%)</th>\n",
       "      <td>0.138579</td>\n",
       "      <td>-0.017157</td>\n",
       "      <td>-0.111813</td>\n",
       "      <td>0.015448</td>\n",
       "    </tr>\n",
       "    <tr>\n",
       "      <th>15-49 years old (%)</th>\n",
       "      <td>-0.039651</td>\n",
       "      <td>-0.196632</td>\n",
       "      <td>-0.025862</td>\n",
       "      <td>-0.288160</td>\n",
       "    </tr>\n",
       "    <tr>\n",
       "      <th>50-69 years old (%)</th>\n",
       "      <td>0.148670</td>\n",
       "      <td>-0.193836</td>\n",
       "      <td>-0.173806</td>\n",
       "      <td>-0.230997</td>\n",
       "    </tr>\n",
       "    <tr>\n",
       "      <th>70+ years old (%)</th>\n",
       "      <td>0.052238</td>\n",
       "      <td>-0.136963</td>\n",
       "      <td>-0.205912</td>\n",
       "      <td>-0.311725</td>\n",
       "    </tr>\n",
       "    <tr>\n",
       "      <th>Age-standardized (%)</th>\n",
       "      <td>0.005527</td>\n",
       "      <td>-0.137190</td>\n",
       "      <td>-0.074675</td>\n",
       "      <td>-0.226630</td>\n",
       "    </tr>\n",
       "  </tbody>\n",
       "</table>\n",
       "</div>"
      ],
      "text/plain": [
       "                      1990~1999  2000~2009  2010~2017  1990~2017\n",
       "5-14 years old (%)     0.138579  -0.017157  -0.111813   0.015448\n",
       "15-49 years old (%)   -0.039651  -0.196632  -0.025862  -0.288160\n",
       "50-69 years old (%)    0.148670  -0.193836  -0.173806  -0.230997\n",
       "70+ years old (%)      0.052238  -0.136963  -0.205912  -0.311725\n",
       "Age-standardized (%)   0.005527  -0.137190  -0.074675  -0.226630"
      ]
     },
     "execution_count": 48,
     "metadata": {},
     "output_type": "execute_result"
    }
   ],
   "source": [
    "df = df.transpose()\n",
    "df.columns.names = [None]\n",
    "df.head()"
   ]
  },
  {
   "cell_type": "code",
   "execution_count": 49,
   "metadata": {},
   "outputs": [
    {
     "data": {
      "image/png": "[encoded data removed]",
      "text/plain": [
       "<Figure size 720x432 with 1 Axes>"
      ]
     },
     "metadata": {
      "needs_background": "light"
     },
     "output_type": "display_data"
    }
   ],
   "source": [
    "df.plot(kind='bar',figsize=(10,6), cmap='Set2')\n",
    "plt.title('Change in decades for each age groups')\n",
    "plt.xlabel('Age Groups')\n",
    "plt.ylabel('Percentage Change')\n",
    "plt.savefig(r'C:\\Users\\yuhan\\Desktop\\Springboard\\Capstone project-2\\figures\\age_decades.png')"
   ]
  },
  {
   "cell_type": "markdown",
   "metadata": {},
   "source": [
    "* 1990~1999: only 15-49 age group mental health or substance use disorders decreased, 50-69 age group has maximum increase. \n",
    "* 2000~2009: all age group shows decrease, 15-49 and 50-69 age groups have a maximum decrease, 5-14 shows a minimum decrease.\n",
    "* 2010~2017: all age group shows decrease, 50-69 and 70+ age groups have a maximum decrease, 5-14 shows a minimum decrease.\n",
    "* 1990~2017: only 15-49 age group increased, 70+ age groups have a maximum decrease\n",
    "\n",
    "The figure clearly showed that the mental health or substance use disorders rate is decreasing for most age groups in the whole world level through 2000 to now."
   ]
  },
  {
   "cell_type": "markdown",
   "metadata": {},
   "source": [
    "### Simpson's paradox method to compare different age groups with GDP in all countries"
   ]
  },
  {
   "cell_type": "markdown",
   "metadata": {},
   "source": [
    "Let's check how GDP is related to different age groups. Are they in the same trend or different?"
   ]
  },
  {
   "cell_type": "code",
   "execution_count": 50,
   "metadata": {},
   "outputs": [],
   "source": [
    "# combine agegoup and gdp datasets\n",
    "df_1 = ageGroups_2.set_index(['Entity', 'Code', 'Year'])\n",
    "df_2 = gdpPerCapita.set_index(['Entity', 'Code', 'Year'])\n",
    "dataframes = [df_1, df_2]\n",
    "df_age_gdp = pd.concat(dataframes, axis=1).dropna()\n",
    "df_age_gdp.reset_index(inplace=True)"
   ]
  },
  {
   "cell_type": "code",
   "execution_count": 51,
   "metadata": {},
   "outputs": [],
   "source": [
    "# Let's focus on 2017 first\n",
    "age_gdp_2017 = df_age_gdp[df_age_gdp.Year==2017]"
   ]
  },
  {
   "cell_type": "code",
   "execution_count": 52,
   "metadata": {},
   "outputs": [
    {
     "data": {
      "text/html": [
       "<div>\n",
       "<style scoped>\n",
       "    .dataframe tbody tr th:only-of-type {\n",
       "        vertical-align: middle;\n",
       "    }\n",
       "\n",
       "    .dataframe tbody tr th {\n",
       "        vertical-align: top;\n",
       "    }\n",
       "\n",
       "    .dataframe thead th {\n",
       "        text-align: right;\n",
       "    }\n",
       "</style>\n",
       "<table border=\"1\" class=\"dataframe\">\n",
       "  <thead>\n",
       "    <tr style=\"text-align: right;\">\n",
       "      <th></th>\n",
       "      <th>Entity</th>\n",
       "      <th>Code</th>\n",
       "      <th>Year</th>\n",
       "      <th>GDP per capita ($)</th>\n",
       "      <th>Age Groups</th>\n",
       "      <th>Rates (%)</th>\n",
       "    </tr>\n",
       "  </thead>\n",
       "  <tbody>\n",
       "    <tr>\n",
       "      <th>0</th>\n",
       "      <td>Afghanistan</td>\n",
       "      <td>AFG</td>\n",
       "      <td>2017</td>\n",
       "      <td>1803.987487</td>\n",
       "      <td>5-14 years old (%)</td>\n",
       "      <td>13.851344</td>\n",
       "    </tr>\n",
       "    <tr>\n",
       "      <th>1</th>\n",
       "      <td>Albania</td>\n",
       "      <td>ALB</td>\n",
       "      <td>2017</td>\n",
       "      <td>11803.430594</td>\n",
       "      <td>5-14 years old (%)</td>\n",
       "      <td>9.313222</td>\n",
       "    </tr>\n",
       "    <tr>\n",
       "      <th>2</th>\n",
       "      <td>Algeria</td>\n",
       "      <td>DZA</td>\n",
       "      <td>2017</td>\n",
       "      <td>13913.839363</td>\n",
       "      <td>5-14 years old (%)</td>\n",
       "      <td>11.308430</td>\n",
       "    </tr>\n",
       "    <tr>\n",
       "      <th>3</th>\n",
       "      <td>Angola</td>\n",
       "      <td>AGO</td>\n",
       "      <td>2017</td>\n",
       "      <td>5819.494971</td>\n",
       "      <td>5-14 years old (%)</td>\n",
       "      <td>9.029206</td>\n",
       "    </tr>\n",
       "    <tr>\n",
       "      <th>4</th>\n",
       "      <td>Antigua and Barbuda</td>\n",
       "      <td>ATG</td>\n",
       "      <td>2017</td>\n",
       "      <td>21490.942659</td>\n",
       "      <td>5-14 years old (%)</td>\n",
       "      <td>11.307221</td>\n",
       "    </tr>\n",
       "  </tbody>\n",
       "</table>\n",
       "</div>"
      ],
      "text/plain": [
       "                Entity Code  Year  GDP per capita ($)          Age Groups  \\\n",
       "0          Afghanistan  AFG  2017         1803.987487  5-14 years old (%)   \n",
       "1              Albania  ALB  2017        11803.430594  5-14 years old (%)   \n",
       "2              Algeria  DZA  2017        13913.839363  5-14 years old (%)   \n",
       "3               Angola  AGO  2017         5819.494971  5-14 years old (%)   \n",
       "4  Antigua and Barbuda  ATG  2017        21490.942659  5-14 years old (%)   \n",
       "\n",
       "   Rates (%)  \n",
       "0  13.851344  \n",
       "1   9.313222  \n",
       "2  11.308430  \n",
       "3   9.029206  \n",
       "4  11.307221  "
      ]
     },
     "execution_count": 52,
     "metadata": {},
     "output_type": "execute_result"
    }
   ],
   "source": [
    "# plot scatter to visualize the relationships\n",
    "# first, melt data\n",
    "df_melt = age_gdp_2017.melt(id_vars=['Entity', 'Code', 'Year', 'GDP per capita ($)'], \n",
    "        var_name=\"Age Groups\", \n",
    "        value_name=\"Rates (%)\")\n",
    "df_melt.head()"
   ]
  },
  {
   "cell_type": "code",
   "execution_count": 53,
   "metadata": {},
   "outputs": [],
   "source": [
    "groups = ['5-14 years old (%)', '15-49 years old (%)', '50-69 years old (%)', '70+ years old (%)']"
   ]
  },
  {
   "cell_type": "markdown",
   "metadata": {},
   "source": [
    "#### Simpson's Paradox with Correlation "
   ]
  },
  {
   "cell_type": "code",
   "execution_count": 54,
   "metadata": {},
   "outputs": [],
   "source": [
    "# Definiton of relationship plotting funtion\n",
    "\n",
    "from numpy.polynomial.polynomial import polyfit\n",
    "def plot_relationship(data, t, ax):\n",
    "    \"\"\"Plot a scatter plot with linear fit\"\"\"\n",
    "    x, y = np.array(data['GDP per capita ($)']), np.array(data['Rates (%)'])\n",
    "    # Linear fit (polynomial of degree 1)\n",
    "    b, m = polyfit(x, y, 1)\n",
    "    # Plot scatterplot\n",
    "    data.plot(x = 'GDP per capita ($)', y = 'Rates (%)', \n",
    "              style = 'o', c='black', legend = None, ax = ax, ms = 10)\n",
    "    # Plot linear fit\n",
    "    ax.plot(x, m * x + b, '-', color = 'red');\n",
    "\n",
    "    plt.title(str(t))\n",
    "\n",
    "    corr_coef = np.corrcoef(x, y)[0][1]\n",
    "    ax = plt.gca()\n",
    "    plt.ylabel('Rates (%)')\n",
    "    plt.xlabel('GDP per capita ($)'); \n",
    "    plt.text(0.55, 0.85, r'$\\rho$ = ' + f'{round(corr_coef, 2)}', fontsize = 28, color = 'k', \n",
    "             transform=ax.transAxes)"
   ]
  },
  {
   "cell_type": "code",
   "execution_count": 55,
   "metadata": {
    "scrolled": false
   },
   "outputs": [
    {
     "data": {
      "image/png": "[encoded data removed]",
      "text/plain": [
       "<Figure size 792x576 with 4 Axes>"
      ]
     },
     "metadata": {
      "needs_background": "light"
     },
     "output_type": "display_data"
    }
   ],
   "source": [
    "# plot different age group vs GDP \n",
    "plt.figure(figsize = (11, 8))\n",
    "for i in range(len(groups)):\n",
    "    data = df_melt[df_melt['Age Groups'].isin([groups[i]])]\n",
    "    j = i + 1\n",
    "    ax = plt.subplot(2, 2, j)\n",
    "    plot_relationship(data, groups[i], ax)\n",
    "plt.tight_layout()\n",
    "plt.savefig(r'C:\\Users\\yuhan\\Desktop\\Springboard\\Capstone project-2\\figures\\age_simpson_1.png')"
   ]
  },
  {
   "cell_type": "code",
   "execution_count": 56,
   "metadata": {},
   "outputs": [
    {
     "data": {
      "image/png": "[encoded data removed]",
      "text/plain": [
       "<Figure size 432x360 with 1 Axes>"
      ]
     },
     "metadata": {
      "needs_background": "light"
     },
     "output_type": "display_data"
    }
   ],
   "source": [
    "# plot all data vs GDP\n",
    "plt.figure(figsize = (6, 5))\n",
    "data = df_melt.copy()\n",
    "ax = plt.subplot(1, 1, 1)\n",
    "plot_relationship(data, 'Combined', ax)\n",
    "plt.savefig(r'C:\\Users\\yuhan\\Desktop\\Springboard\\Capstone project-2\\figures\\age_simpson_2.png')"
   ]
  },
  {
   "cell_type": "markdown",
   "metadata": {},
   "source": [
    "When looking at the data individually, there is a negative correlation between 70+ years old and GDP per capita, a positive correlation between 5-14 and 15-49 years old and GDP per capita, no correlation between 50-69 years old and GDP per capita, but,  when aggregating the data, the correlation is only slightly positive! It is due to the presence of another cause, age, on the chance of developing a disease. To determine the effect of GDP per capita on the probability of disease, we need to control for the age of patients."
   ]
  },
  {
   "cell_type": "markdown",
   "metadata": {},
   "source": [
    "## Explore the share-with-mental-or-substance-disorders-by-sex data"
   ]
  },
  {
   "cell_type": "code",
   "execution_count": 57,
   "metadata": {},
   "outputs": [
    {
     "data": {
      "text/html": [
       "<div>\n",
       "<style scoped>\n",
       "    .dataframe tbody tr th:only-of-type {\n",
       "        vertical-align: middle;\n",
       "    }\n",
       "\n",
       "    .dataframe tbody tr th {\n",
       "        vertical-align: top;\n",
       "    }\n",
       "\n",
       "    .dataframe thead th {\n",
       "        text-align: right;\n",
       "    }\n",
       "</style>\n",
       "<table border=\"1\" class=\"dataframe\">\n",
       "  <thead>\n",
       "    <tr style=\"text-align: right;\">\n",
       "      <th></th>\n",
       "      <th>Year</th>\n",
       "      <th>Male (%)</th>\n",
       "      <th>Female (%)</th>\n",
       "    </tr>\n",
       "  </thead>\n",
       "  <tbody>\n",
       "    <tr>\n",
       "      <th>count</th>\n",
       "      <td>6468.000000</td>\n",
       "      <td>6468.000000</td>\n",
       "      <td>6468.000000</td>\n",
       "    </tr>\n",
       "    <tr>\n",
       "      <th>mean</th>\n",
       "      <td>2003.500000</td>\n",
       "      <td>12.610292</td>\n",
       "      <td>13.358836</td>\n",
       "    </tr>\n",
       "    <tr>\n",
       "      <th>std</th>\n",
       "      <td>8.078372</td>\n",
       "      <td>1.577035</td>\n",
       "      <td>2.208363</td>\n",
       "    </tr>\n",
       "    <tr>\n",
       "      <th>min</th>\n",
       "      <td>1990.000000</td>\n",
       "      <td>8.954316</td>\n",
       "      <td>9.625504</td>\n",
       "    </tr>\n",
       "    <tr>\n",
       "      <th>25%</th>\n",
       "      <td>1996.750000</td>\n",
       "      <td>11.377159</td>\n",
       "      <td>11.599258</td>\n",
       "    </tr>\n",
       "    <tr>\n",
       "      <th>50%</th>\n",
       "      <td>2003.500000</td>\n",
       "      <td>12.298189</td>\n",
       "      <td>12.797102</td>\n",
       "    </tr>\n",
       "    <tr>\n",
       "      <th>75%</th>\n",
       "      <td>2010.250000</td>\n",
       "      <td>13.577942</td>\n",
       "      <td>14.889568</td>\n",
       "    </tr>\n",
       "    <tr>\n",
       "      <th>max</th>\n",
       "      <td>2017.000000</td>\n",
       "      <td>18.494218</td>\n",
       "      <td>20.555132</td>\n",
       "    </tr>\n",
       "  </tbody>\n",
       "</table>\n",
       "</div>"
      ],
      "text/plain": [
       "              Year     Male (%)   Female (%)\n",
       "count  6468.000000  6468.000000  6468.000000\n",
       "mean   2003.500000    12.610292    13.358836\n",
       "std       8.078372     1.577035     2.208363\n",
       "min    1990.000000     8.954316     9.625504\n",
       "25%    1996.750000    11.377159    11.599258\n",
       "50%    2003.500000    12.298189    12.797102\n",
       "75%    2010.250000    13.577942    14.889568\n",
       "max    2017.000000    18.494218    20.555132"
      ]
     },
     "execution_count": 57,
     "metadata": {},
     "output_type": "execute_result"
    }
   ],
   "source": [
    "gender.describe()"
   ]
  },
  {
   "cell_type": "code",
   "execution_count": 58,
   "metadata": {},
   "outputs": [
    {
     "data": {
      "text/plain": [
       "0.7485440000000008"
      ]
     },
     "execution_count": 58,
     "metadata": {},
     "output_type": "execute_result"
    }
   ],
   "source": [
    "diff_mean = 13.358836 - 12.610292\n",
    "diff_mean"
   ]
  },
  {
   "cell_type": "code",
   "execution_count": 59,
   "metadata": {},
   "outputs": [
    {
     "data": {
      "image/png": "[encoded data removed]",
      "text/plain": [
       "<Figure size 432x288 with 1 Axes>"
      ]
     },
     "metadata": {
      "needs_background": "light"
     },
     "output_type": "display_data"
    }
   ],
   "source": [
    "# check the boxplot\n",
    "gender.boxplot(column=['Male (%)', 'Female (%)'], grid=False)\n",
    "plt.savefig(r'C:\\Users\\yuhan\\Desktop\\Springboard\\Capstone project-2\\figures\\gender_boxplot.png')"
   ]
  },
  {
   "cell_type": "markdown",
   "metadata": {},
   "source": [
    "The mean percentage for the male is 12.610292 and the mean percentage for the female is 13.358836. It seems there is a significant difference between them with (13.358836 - 12.610292) = 0.748544 observed. We can also see a difference from the boxplot.\n",
    "\n",
    "Let's use a statistical test to check if it's a significant difference between male and female.\n",
    "\n",
    "### Outline:\n",
    "1. Hypothesis formulation\n",
    "2. Getting the distribution of the data\n",
    "3. Statistic test (t-test and permutation test)\n",
    "4. Conclusion\n",
    "\n",
    "### 1. Hypothesis formulation\n",
    "\n",
    "$H_{null}$: the observed difference in the mean percentage of Male and Female is due to chance (and thus not due to gender).\n",
    "\n",
    "\n",
    "$H_{alternative}$: the observed difference in the mean percentage of Male and Female is not due to chance (and is actually due to gender)\n",
    "\n",
    "We're also going to pick a significance level of 0.05.\n",
    "\n"
   ]
  },
  {
   "cell_type": "markdown",
   "metadata": {},
   "source": [
    "### 2. Getting the distribution of the data"
   ]
  },
  {
   "cell_type": "code",
   "execution_count": 73,
   "metadata": {},
   "outputs": [
    {
     "data": {
      "image/png": "[encoded data removed]",
      "text/plain": [
       "<Figure size 432x288 with 1 Axes>"
      ]
     },
     "metadata": {
      "needs_background": "light"
     },
     "output_type": "display_data"
    }
   ],
   "source": [
    "# Create a histogram of male\n",
    "gender['Male (%)'].hist(color='darkslategrey')\n",
    "plt.title('Share of population by male', pad = 15)\n",
    "plt.xlabel('Male (%)')\n",
    "plt.ylabel(\"Frequency\")\n",
    "plt.grid(False)"
   ]
  },
  {
   "cell_type": "code",
   "execution_count": 72,
   "metadata": {},
   "outputs": [
    {
     "data": {
      "image/png": "[encoded data removed]",
      "text/plain": [
       "<Figure size 432x288 with 1 Axes>"
      ]
     },
     "metadata": {
      "needs_background": "light"
     },
     "output_type": "display_data"
    }
   ],
   "source": [
    "# Create a histogram of female\n",
    "gender['Female (%)'].hist(color='darkslategrey')\n",
    "plt.title('Share of population by female', pad = 15)\n",
    "plt.xlabel('Female (%)')\n",
    "plt.ylabel(\"Frequency\")\n",
    "plt.grid(False)"
   ]
  },
  {
   "cell_type": "code",
   "execution_count": 62,
   "metadata": {},
   "outputs": [
    {
     "data": {
      "text/plain": [
       "NormaltestResult(statistic=735.4553903807321, pvalue=1.9855971272619783e-160)"
      ]
     },
     "execution_count": 62,
     "metadata": {},
     "output_type": "execute_result"
    }
   ],
   "source": [
    "# check whether male data is normally distributed with stats.normaltest() method\n",
    "from scipy import stats\n",
    "male_normal = stats.normaltest(gender['Male (%)'])\n",
    "male_normal"
   ]
  },
  {
   "cell_type": "code",
   "execution_count": 63,
   "metadata": {},
   "outputs": [
    {
     "data": {
      "text/plain": [
       "NormaltestResult(statistic=651.5625634494528, pvalue=3.2733092637174737e-142)"
      ]
     },
     "execution_count": 63,
     "metadata": {},
     "output_type": "execute_result"
    }
   ],
   "source": [
    "# check whether female data is normally distributed with stats.normaltest() method\n",
    "female_normal = stats.normaltest(gender['Female (%)'])\n",
    "female_normal"
   ]
  },
  {
   "cell_type": "markdown",
   "metadata": {},
   "source": [
    "Since the null hypothesis of the normaltest() is the data are normally distributed, the lower the p-value in the result of this test, the more likely the data are to be non-normal.\n",
    "\n",
    "The p-values for both tests are less than 0.05, and the distribution of the data visually with a histogram is not symmetric,  so the conclusion is that the data are not normally distributed. "
   ]
  },
  {
   "cell_type": "markdown",
   "metadata": {},
   "source": [
    "### 3. Statistic test\n",
    "#### 3.1 t-test\n",
    "\n",
    "Here, I used a t-test method because of the Central Limit Theorem (CLT) and the size of our sample is large (6468 variables)."
   ]
  },
  {
   "cell_type": "code",
   "execution_count": 66,
   "metadata": {},
   "outputs": [
    {
     "data": {
      "text/plain": [
       "Ttest_indResult(statistic=-22.184424979735958, pvalue=7.611770095217847e-107)"
      ]
     },
     "execution_count": 66,
     "metadata": {},
     "output_type": "execute_result"
    }
   ],
   "source": [
    "# here, we use t-test function from scipy.stats to calculate the value of the test statistic and then its probability (the p-value).\n",
    "from scipy.stats import ttest_ind\n",
    "ttest_ind(gender['Male (%)'], gender['Female (%)'], equal_var = False)"
   ]
  },
  {
   "cell_type": "markdown",
   "metadata": {},
   "source": [
    "The p-value is less than 0.05, we can reject the null hypothesis."
   ]
  },
  {
   "cell_type": "markdown",
   "metadata": {},
   "source": [
    "3.2 Permutation test\n",
    "\n",
    "Since the data aren't normally distributed, we can also use a non-parametric test here -- permutation test. "
   ]
  },
  {
   "cell_type": "code",
   "execution_count": 66,
   "metadata": {},
   "outputs": [
    {
     "name": "stdout",
     "output_type": "stream",
     "text": [
      "0.0\n"
     ]
    }
   ],
   "source": [
    "# Here I will use permutation_test function from mlxtend library\n",
    "from mlxtend.evaluate import permutation_test\n",
    "\n",
    "p_value = permutation_test(gender['Male (%)'], gender['Female (%)'],\n",
    "                           method='approximate',\n",
    "                           num_rounds=10000,\n",
    "                           seed=0)\n",
    "print(p_value)"
   ]
  },
  {
   "cell_type": "markdown",
   "metadata": {},
   "source": [
    "The p-value from permutation test is 0, so we can reject the null hypothesis. "
   ]
  },
  {
   "cell_type": "markdown",
   "metadata": {},
   "source": [
    "### 4. Conclusion\n",
    "\n",
    "The p-value from the t-test and permutation test is less than the significance level of 0.05. We can reject our null hypothesis. So our observed data is statistically significant that the mental and substance disorder between male and female are significantly different. And from the mean percentage, we can see that females tend to have higher rates than males."
   ]
  },
  {
   "cell_type": "markdown",
   "metadata": {},
   "source": [
    "## Next Step: Pre-Processing and Training Data Development\n",
    "\n",
    "Next step, I will use a gender data frame to identify the country outliers using unsupervised clustering machine learning."
   ]
  },
  {
   "cell_type": "code",
   "execution_count": null,
   "metadata": {},
   "outputs": [],
   "source": []
  }
 ],
 "metadata": {
  "kernelspec": {
   "display_name": "Python 3",
   "language": "python",
   "name": "python3"
  },
  "language_info": {
   "codemirror_mode": {
    "name": "ipython",
    "version": 3
   },
   "file_extension": ".py",
   "mimetype": "text/x-python",
   "name": "python",
   "nbconvert_exporter": "python",
   "pygments_lexer": "ipython3",
   "version": "3.7.6"
  }
 },
 "nbformat": 4,
 "nbformat_minor": 4
}
