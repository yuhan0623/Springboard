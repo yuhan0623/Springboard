{
 "cells": [
  {
   "cell_type": "markdown",
   "metadata": {},
   "source": [
    "# Mental health and substance use disorders -- Pre-Processing and Training Data Development\n",
    "\n",
    "### Outline:\n",
    "1.   Problem Identification \n",
    "\n",
    "2.   Data Wrangling \n",
    " \n",
    "3.   Exploratory Data Analysis\n",
    "\n",
    "4.   **Pre-processing and Training Data Development**\n",
    "     * Create dummy or indicator features for categorical variables\n",
    "     * Standardize the magnitude of numeric features\n",
    "     * Split into testing and training datasets\n",
    "     * Apply scaler to the testing set\n",
    "\n",
    "5.   Modeling \n",
    "\n",
    "6.   Documentation"
   ]
  },
  {
   "cell_type": "markdown",
   "metadata": {},
   "source": [
    "**First, let's load the data.**"
   ]
  },
  {
   "cell_type": "code",
   "execution_count": 2,
   "metadata": {},
   "outputs": [],
   "source": [
    "#load python packages\n",
    "import os\n",
    "import pandas as pd\n",
    "import datetime\n",
    "import seaborn as sns\n",
    "import matplotlib.pyplot as plt\n",
    "import numpy as np\n",
    "%matplotlib inline"
   ]
  },
  {
   "cell_type": "code",
   "execution_count": 3,
   "metadata": {},
   "outputs": [
    {
     "name": "stdout",
     "output_type": "stream",
     "text": [
      "The current working directory is C:\\Users\\yuhan\\Desktop\\Springboard\\Capstone project-2\n"
     ]
    }
   ],
   "source": [
    "path = os.getcwd()\n",
    "print (\"The current working directory is %s\" % path)"
   ]
  },
  {
   "cell_type": "code",
   "execution_count": 4,
   "metadata": {},
   "outputs": [
    {
     "data": {
      "text/plain": [
       "['.ipynb_checkpoints',\n",
       " 'data',\n",
       " 'figures',\n",
       " 'Mental health and substance disorders data',\n",
       " 'Mental health and substance use disorders_data wrangling.ipynb',\n",
       " 'Mental health and substance use disorders_EDA.ipynb',\n",
       " 'Mental health and substance use disorders_Pre-Processing and Training Data Development.ipynb',\n",
       " 'models',\n",
       " '~$Mental health Depression disorder Data.xlsx']"
      ]
     },
     "execution_count": 4,
     "metadata": {},
     "output_type": "execute_result"
    }
   ],
   "source": [
    "os.listdir()"
   ]
  },
  {
   "cell_type": "code",
   "execution_count": 5,
   "metadata": {},
   "outputs": [],
   "source": [
    "path = 'data'\n",
    "os.chdir(path)"
   ]
  },
  {
   "cell_type": "code",
   "execution_count": 6,
   "metadata": {
    "scrolled": true
   },
   "outputs": [
    {
     "data": {
      "text/plain": [
       "['GDP_per_capita_output.csv',\n",
       " 'mental_substance_age_output.csv',\n",
       " 'mental_substance_gdp_output.csv',\n",
       " 'mental_substance_gender_output.csv',\n",
       " 'mental_substance_output.csv']"
      ]
     },
     "execution_count": 6,
     "metadata": {},
     "output_type": "execute_result"
    }
   ],
   "source": [
    "os.listdir()"
   ]
  },
  {
   "cell_type": "code",
   "execution_count": 7,
   "metadata": {},
   "outputs": [
    {
     "data": {
      "text/html": [
       "<div>\n",
       "<style scoped>\n",
       "    .dataframe tbody tr th:only-of-type {\n",
       "        vertical-align: middle;\n",
       "    }\n",
       "\n",
       "    .dataframe tbody tr th {\n",
       "        vertical-align: top;\n",
       "    }\n",
       "\n",
       "    .dataframe thead th {\n",
       "        text-align: right;\n",
       "    }\n",
       "</style>\n",
       "<table border=\"1\" class=\"dataframe\">\n",
       "  <thead>\n",
       "    <tr style=\"text-align: right;\">\n",
       "      <th></th>\n",
       "      <th>Entity</th>\n",
       "      <th>Code</th>\n",
       "      <th>Year</th>\n",
       "      <th>Mental and substance use disorders (%)</th>\n",
       "      <th>Deaths - Mental and substance use disorders (per 100,000)</th>\n",
       "      <th>Suicide Rate (per 100,000)</th>\n",
       "      <th>Alcohol use disorders (%)</th>\n",
       "      <th>Drug use disorders (%)</th>\n",
       "      <th>Depressive disorders (%)</th>\n",
       "      <th>Bipolar disorder (%)</th>\n",
       "      <th>Anxiety disorders (%)</th>\n",
       "      <th>Eating disorders (%)</th>\n",
       "      <th>Schizophrenia (%)</th>\n",
       "      <th>GDP per capita ($)</th>\n",
       "    </tr>\n",
       "  </thead>\n",
       "  <tbody>\n",
       "    <tr>\n",
       "      <th>0</th>\n",
       "      <td>Afghanistan</td>\n",
       "      <td>AFG</td>\n",
       "      <td>2002</td>\n",
       "      <td>18.137951</td>\n",
       "      <td>0.081991</td>\n",
       "      <td>11.054472</td>\n",
       "      <td>0.659213</td>\n",
       "      <td>1.934326</td>\n",
       "      <td>4.124928</td>\n",
       "      <td>0.701141</td>\n",
       "      <td>4.838318</td>\n",
       "      <td>0.087023</td>\n",
       "      <td>0.162414</td>\n",
       "      <td>1063.635574</td>\n",
       "    </tr>\n",
       "    <tr>\n",
       "      <th>1</th>\n",
       "      <td>Afghanistan</td>\n",
       "      <td>AFG</td>\n",
       "      <td>2003</td>\n",
       "      <td>17.958849</td>\n",
       "      <td>0.081942</td>\n",
       "      <td>10.931093</td>\n",
       "      <td>0.657354</td>\n",
       "      <td>2.051106</td>\n",
       "      <td>4.125230</td>\n",
       "      <td>0.701860</td>\n",
       "      <td>4.845538</td>\n",
       "      <td>0.087189</td>\n",
       "      <td>0.162916</td>\n",
       "      <td>1099.194507</td>\n",
       "    </tr>\n",
       "    <tr>\n",
       "      <th>2</th>\n",
       "      <td>Afghanistan</td>\n",
       "      <td>AFG</td>\n",
       "      <td>2004</td>\n",
       "      <td>17.788825</td>\n",
       "      <td>0.082468</td>\n",
       "      <td>10.839790</td>\n",
       "      <td>0.656132</td>\n",
       "      <td>2.163044</td>\n",
       "      <td>4.126384</td>\n",
       "      <td>0.702556</td>\n",
       "      <td>4.851512</td>\n",
       "      <td>0.088158</td>\n",
       "      <td>0.163377</td>\n",
       "      <td>1062.249360</td>\n",
       "    </tr>\n",
       "    <tr>\n",
       "      <th>3</th>\n",
       "      <td>Afghanistan</td>\n",
       "      <td>AFG</td>\n",
       "      <td>2005</td>\n",
       "      <td>17.647911</td>\n",
       "      <td>0.081971</td>\n",
       "      <td>10.655626</td>\n",
       "      <td>0.655686</td>\n",
       "      <td>2.247443</td>\n",
       "      <td>4.126908</td>\n",
       "      <td>0.703078</td>\n",
       "      <td>4.854684</td>\n",
       "      <td>0.088933</td>\n",
       "      <td>0.163706</td>\n",
       "      <td>1136.123214</td>\n",
       "    </tr>\n",
       "    <tr>\n",
       "      <th>4</th>\n",
       "      <td>Afghanistan</td>\n",
       "      <td>AFG</td>\n",
       "      <td>2006</td>\n",
       "      <td>17.539914</td>\n",
       "      <td>0.082571</td>\n",
       "      <td>10.538475</td>\n",
       "      <td>0.656297</td>\n",
       "      <td>2.321020</td>\n",
       "      <td>4.128638</td>\n",
       "      <td>0.703517</td>\n",
       "      <td>4.856685</td>\n",
       "      <td>0.090054</td>\n",
       "      <td>0.163977</td>\n",
       "      <td>1161.124889</td>\n",
       "    </tr>\n",
       "  </tbody>\n",
       "</table>\n",
       "</div>"
      ],
      "text/plain": [
       "        Entity Code  Year  Mental and substance use disorders (%)  \\\n",
       "0  Afghanistan  AFG  2002                               18.137951   \n",
       "1  Afghanistan  AFG  2003                               17.958849   \n",
       "2  Afghanistan  AFG  2004                               17.788825   \n",
       "3  Afghanistan  AFG  2005                               17.647911   \n",
       "4  Afghanistan  AFG  2006                               17.539914   \n",
       "\n",
       "   Deaths - Mental and substance use disorders (per 100,000)  \\\n",
       "0                                           0.081991           \n",
       "1                                           0.081942           \n",
       "2                                           0.082468           \n",
       "3                                           0.081971           \n",
       "4                                           0.082571           \n",
       "\n",
       "   Suicide Rate (per 100,000)  Alcohol use disorders (%)  \\\n",
       "0                   11.054472                   0.659213   \n",
       "1                   10.931093                   0.657354   \n",
       "2                   10.839790                   0.656132   \n",
       "3                   10.655626                   0.655686   \n",
       "4                   10.538475                   0.656297   \n",
       "\n",
       "   Drug use disorders (%)  Depressive disorders (%)  Bipolar disorder (%)  \\\n",
       "0                1.934326                  4.124928              0.701141   \n",
       "1                2.051106                  4.125230              0.701860   \n",
       "2                2.163044                  4.126384              0.702556   \n",
       "3                2.247443                  4.126908              0.703078   \n",
       "4                2.321020                  4.128638              0.703517   \n",
       "\n",
       "   Anxiety disorders (%)  Eating disorders (%)  Schizophrenia (%)  \\\n",
       "0               4.838318              0.087023           0.162414   \n",
       "1               4.845538              0.087189           0.162916   \n",
       "2               4.851512              0.088158           0.163377   \n",
       "3               4.854684              0.088933           0.163706   \n",
       "4               4.856685              0.090054           0.163977   \n",
       "\n",
       "   GDP per capita ($)  \n",
       "0         1063.635574  \n",
       "1         1099.194507  \n",
       "2         1062.249360  \n",
       "3         1136.123214  \n",
       "4         1161.124889  "
      ]
     },
     "execution_count": 7,
     "metadata": {},
     "output_type": "execute_result"
    }
   ],
   "source": [
    "df = pd.read_csv('mental_substance_gdp_output.csv', index_col=0)\n",
    "df.head()"
   ]
  },
  {
   "cell_type": "code",
   "execution_count": null,
   "metadata": {},
   "outputs": [],
   "source": []
  }
 ],
 "metadata": {
  "kernelspec": {
   "display_name": "Python 3",
   "language": "python",
   "name": "python3"
  },
  "language_info": {
   "codemirror_mode": {
    "name": "ipython",
    "version": 3
   },
   "file_extension": ".py",
   "mimetype": "text/x-python",
   "name": "python",
   "nbconvert_exporter": "python",
   "pygments_lexer": "ipython3",
   "version": "3.7.6"
  }
 },
 "nbformat": 4,
 "nbformat_minor": 4
}
