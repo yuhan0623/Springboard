{
 "cells": [
  {
   "cell_type": "markdown",
   "metadata": {},
   "source": [
    "# Mental health and substance use disorders -- Modeling\n",
    "\n",
    "\n",
    "### Outline:\n",
    "1.   Problem Identification \n",
    "\n",
    "2.   Data Wrangling \n",
    " \n",
    "3.   Exploratory Data Analysis\n",
    "\n",
    "4.   Pre-processing and Training Data Development\n",
    "\n",
    "5.   **Modeling**\n",
    "     * Fit Models with Data Set\n",
    "     * Review Model Outcomes with visualization.\n",
    "     * Identify the Final Model\n",
    "     \n",
    "6.   Documentation\n",
    "\n",
    "## Overview\n",
    "In this notebook, I will use the gender data frame to identify the country outliers using unsupervised clustering machine learning. The data is an unlabeled anomaly, so we can only model this with an unsupervised method. Here I will use a few different models and choose the best one.\n",
    "\n",
    "The methods I will apply:\n",
    "     * Isolation Forest\n",
    "     * One-Class SVM\n",
    "     * DBSCAN\n",
    "     * Local Outlier Factor (LOF)\n",
    "     * Elliptic Envelope\n",
    " \n",
    "For each method, I visualized the accuracy of the model and compared normal and abnormal points identified, **One-Class SVM** model had better predict on the outliers. "
   ]
  },
  {
   "cell_type": "markdown",
   "metadata": {},
   "source": [
    "**First, let's load the data.**"
   ]
  },
  {
   "cell_type": "code",
   "execution_count": 1,
   "metadata": {},
   "outputs": [],
   "source": [
    "#load python packages\n",
    "import os\n",
    "import pandas as pd\n",
    "import datetime\n",
    "import seaborn as sns\n",
    "import matplotlib.pyplot as plt\n",
    "import numpy as np\n",
    "%matplotlib inline"
   ]
  },
  {
   "cell_type": "code",
   "execution_count": 2,
   "metadata": {},
   "outputs": [
    {
     "name": "stdout",
     "output_type": "stream",
     "text": [
      "The current working directory is C:\\Users\\yuhan\\Desktop\\Springboard\\Capstone project-2\n"
     ]
    }
   ],
   "source": [
    "path = os.getcwd()\n",
    "print (\"The current working directory is %s\" % path)"
   ]
  },
  {
   "cell_type": "code",
   "execution_count": 3,
   "metadata": {},
   "outputs": [
    {
     "data": {
      "text/plain": [
       "['.ipynb_checkpoints',\n",
       " 'data',\n",
       " 'figures',\n",
       " 'Mental health and substance disorders data',\n",
       " 'Mental health and substance use disorders_data wrangling.ipynb',\n",
       " 'Mental health and substance use disorders_EDA.ipynb',\n",
       " 'Mental health and substance use disorders_Modeling.ipynb',\n",
       " 'Mental health and substance use disorders_Pre-Processing and Training Data Development.ipynb',\n",
       " 'models']"
      ]
     },
     "execution_count": 3,
     "metadata": {},
     "output_type": "execute_result"
    }
   ],
   "source": [
    "os.listdir()"
   ]
  },
  {
   "cell_type": "code",
   "execution_count": 4,
   "metadata": {},
   "outputs": [],
   "source": [
    "path = 'data'\n",
    "os.chdir(path)"
   ]
  },
  {
   "cell_type": "code",
   "execution_count": 5,
   "metadata": {
    "scrolled": true
   },
   "outputs": [
    {
     "data": {
      "text/plain": [
       "['GDP_per_capita_output.csv',\n",
       " 'mental_substance_age_output.csv',\n",
       " 'mental_substance_gdp_output.csv',\n",
       " 'mental_substance_gender_output.csv',\n",
       " 'mental_substance_output.csv']"
      ]
     },
     "execution_count": 5,
     "metadata": {},
     "output_type": "execute_result"
    }
   ],
   "source": [
    "os.listdir()"
   ]
  },
  {
   "cell_type": "code",
   "execution_count": 6,
   "metadata": {},
   "outputs": [
    {
     "data": {
      "text/html": [
       "<div>\n",
       "<style scoped>\n",
       "    .dataframe tbody tr th:only-of-type {\n",
       "        vertical-align: middle;\n",
       "    }\n",
       "\n",
       "    .dataframe tbody tr th {\n",
       "        vertical-align: top;\n",
       "    }\n",
       "\n",
       "    .dataframe thead th {\n",
       "        text-align: right;\n",
       "    }\n",
       "</style>\n",
       "<table border=\"1\" class=\"dataframe\">\n",
       "  <thead>\n",
       "    <tr style=\"text-align: right;\">\n",
       "      <th></th>\n",
       "      <th>Entity</th>\n",
       "      <th>Code</th>\n",
       "      <th>Year</th>\n",
       "      <th>Male (%)</th>\n",
       "      <th>Female (%)</th>\n",
       "    </tr>\n",
       "  </thead>\n",
       "  <tbody>\n",
       "    <tr>\n",
       "      <th>0</th>\n",
       "      <td>Afghanistan</td>\n",
       "      <td>AFG</td>\n",
       "      <td>1990</td>\n",
       "      <td>17.448695</td>\n",
       "      <td>17.634233</td>\n",
       "    </tr>\n",
       "    <tr>\n",
       "      <th>1</th>\n",
       "      <td>Afghanistan</td>\n",
       "      <td>AFG</td>\n",
       "      <td>1991</td>\n",
       "      <td>17.771263</td>\n",
       "      <td>17.873184</td>\n",
       "    </tr>\n",
       "    <tr>\n",
       "      <th>2</th>\n",
       "      <td>Afghanistan</td>\n",
       "      <td>AFG</td>\n",
       "      <td>1992</td>\n",
       "      <td>18.051575</td>\n",
       "      <td>18.092318</td>\n",
       "    </tr>\n",
       "    <tr>\n",
       "      <th>3</th>\n",
       "      <td>Afghanistan</td>\n",
       "      <td>AFG</td>\n",
       "      <td>1993</td>\n",
       "      <td>18.275848</td>\n",
       "      <td>18.265196</td>\n",
       "    </tr>\n",
       "    <tr>\n",
       "      <th>4</th>\n",
       "      <td>Afghanistan</td>\n",
       "      <td>AFG</td>\n",
       "      <td>1994</td>\n",
       "      <td>18.427490</td>\n",
       "      <td>18.383394</td>\n",
       "    </tr>\n",
       "  </tbody>\n",
       "</table>\n",
       "</div>"
      ],
      "text/plain": [
       "        Entity Code  Year   Male (%)  Female (%)\n",
       "0  Afghanistan  AFG  1990  17.448695   17.634233\n",
       "1  Afghanistan  AFG  1991  17.771263   17.873184\n",
       "2  Afghanistan  AFG  1992  18.051575   18.092318\n",
       "3  Afghanistan  AFG  1993  18.275848   18.265196\n",
       "4  Afghanistan  AFG  1994  18.427490   18.383394"
      ]
     },
     "execution_count": 6,
     "metadata": {},
     "output_type": "execute_result"
    }
   ],
   "source": [
    "df = pd.read_csv('mental_substance_gender_output.csv', index_col=0)\n",
    "df.head()"
   ]
  },
  {
   "cell_type": "markdown",
   "metadata": {},
   "source": [
    "**Let's focus only focus on 2017 data first.**\n",
    "\n",
    "### Data preparation"
   ]
  },
  {
   "cell_type": "code",
   "execution_count": 7,
   "metadata": {
    "scrolled": true
   },
   "outputs": [
    {
     "data": {
      "text/html": [
       "<div>\n",
       "<style scoped>\n",
       "    .dataframe tbody tr th:only-of-type {\n",
       "        vertical-align: middle;\n",
       "    }\n",
       "\n",
       "    .dataframe tbody tr th {\n",
       "        vertical-align: top;\n",
       "    }\n",
       "\n",
       "    .dataframe thead th {\n",
       "        text-align: right;\n",
       "    }\n",
       "</style>\n",
       "<table border=\"1\" class=\"dataframe\">\n",
       "  <thead>\n",
       "    <tr style=\"text-align: right;\">\n",
       "      <th></th>\n",
       "      <th>Entity</th>\n",
       "      <th>Code</th>\n",
       "      <th>Year</th>\n",
       "      <th>Male (%)</th>\n",
       "      <th>Female (%)</th>\n",
       "    </tr>\n",
       "  </thead>\n",
       "  <tbody>\n",
       "    <tr>\n",
       "      <th>27</th>\n",
       "      <td>Afghanistan</td>\n",
       "      <td>AFG</td>\n",
       "      <td>2017</td>\n",
       "      <td>16.674168</td>\n",
       "      <td>16.963023</td>\n",
       "    </tr>\n",
       "    <tr>\n",
       "      <th>55</th>\n",
       "      <td>Albania</td>\n",
       "      <td>ALB</td>\n",
       "      <td>2017</td>\n",
       "      <td>10.646518</td>\n",
       "      <td>11.043173</td>\n",
       "    </tr>\n",
       "    <tr>\n",
       "      <th>83</th>\n",
       "      <td>Algeria</td>\n",
       "      <td>DZA</td>\n",
       "      <td>2017</td>\n",
       "      <td>14.063803</td>\n",
       "      <td>15.011597</td>\n",
       "    </tr>\n",
       "    <tr>\n",
       "      <th>111</th>\n",
       "      <td>American Samoa</td>\n",
       "      <td>ASM</td>\n",
       "      <td>2017</td>\n",
       "      <td>10.687930</td>\n",
       "      <td>11.004269</td>\n",
       "    </tr>\n",
       "    <tr>\n",
       "      <th>139</th>\n",
       "      <td>Andean Latin America</td>\n",
       "      <td>NaN</td>\n",
       "      <td>2017</td>\n",
       "      <td>11.973561</td>\n",
       "      <td>12.787111</td>\n",
       "    </tr>\n",
       "  </tbody>\n",
       "</table>\n",
       "</div>"
      ],
      "text/plain": [
       "                   Entity Code  Year   Male (%)  Female (%)\n",
       "27            Afghanistan  AFG  2017  16.674168   16.963023\n",
       "55                Albania  ALB  2017  10.646518   11.043173\n",
       "83                Algeria  DZA  2017  14.063803   15.011597\n",
       "111        American Samoa  ASM  2017  10.687930   11.004269\n",
       "139  Andean Latin America  NaN  2017  11.973561   12.787111"
      ]
     },
     "execution_count": 7,
     "metadata": {},
     "output_type": "execute_result"
    }
   ],
   "source": [
    "df_2017 = df[df.Year==2017]\n",
    "df_2017.head()"
   ]
  },
  {
   "cell_type": "code",
   "execution_count": 8,
   "metadata": {},
   "outputs": [
    {
     "data": {
      "text/plain": [
       "<matplotlib.axes._subplots.AxesSubplot at 0x236fa55f308>"
      ]
     },
     "execution_count": 8,
     "metadata": {},
     "output_type": "execute_result"
    },
    {
     "data": {
      "image/png": "[encoded data removed]",
      "text/plain": [
       "<Figure size 432x288 with 1 Axes>"
      ]
     },
     "metadata": {
      "needs_background": "light"
     },
     "output_type": "display_data"
    }
   ],
   "source": [
    "sns.regplot(x='Male (%)', y='Female (%)', data=df_2017)"
   ]
  },
  {
   "cell_type": "markdown",
   "metadata": {},
   "source": [
    "Mental and substance use disorders rates in males and females are positively correlated.\n",
    "\n",
    "From the above correlation chart, we can see that some of the data points are obvious outliers such as far away from other data points. "
   ]
  },
  {
   "cell_type": "code",
   "execution_count": 9,
   "metadata": {},
   "outputs": [
    {
     "data": {
      "text/html": [
       "<div>\n",
       "<style scoped>\n",
       "    .dataframe tbody tr th:only-of-type {\n",
       "        vertical-align: middle;\n",
       "    }\n",
       "\n",
       "    .dataframe tbody tr th {\n",
       "        vertical-align: top;\n",
       "    }\n",
       "\n",
       "    .dataframe thead th {\n",
       "        text-align: right;\n",
       "    }\n",
       "</style>\n",
       "<table border=\"1\" class=\"dataframe\">\n",
       "  <thead>\n",
       "    <tr style=\"text-align: right;\">\n",
       "      <th></th>\n",
       "      <th>Entity</th>\n",
       "      <th>Male (%)</th>\n",
       "      <th>Female (%)</th>\n",
       "    </tr>\n",
       "  </thead>\n",
       "  <tbody>\n",
       "    <tr>\n",
       "      <th>0</th>\n",
       "      <td>Afghanistan</td>\n",
       "      <td>16.674168</td>\n",
       "      <td>16.963023</td>\n",
       "    </tr>\n",
       "    <tr>\n",
       "      <th>1</th>\n",
       "      <td>Albania</td>\n",
       "      <td>10.646518</td>\n",
       "      <td>11.043173</td>\n",
       "    </tr>\n",
       "    <tr>\n",
       "      <th>2</th>\n",
       "      <td>Algeria</td>\n",
       "      <td>14.063803</td>\n",
       "      <td>15.011597</td>\n",
       "    </tr>\n",
       "    <tr>\n",
       "      <th>3</th>\n",
       "      <td>American Samoa</td>\n",
       "      <td>10.687930</td>\n",
       "      <td>11.004269</td>\n",
       "    </tr>\n",
       "    <tr>\n",
       "      <th>4</th>\n",
       "      <td>Andean Latin America</td>\n",
       "      <td>11.973561</td>\n",
       "      <td>12.787111</td>\n",
       "    </tr>\n",
       "  </tbody>\n",
       "</table>\n",
       "</div>"
      ],
      "text/plain": [
       "                 Entity   Male (%)  Female (%)\n",
       "0           Afghanistan  16.674168   16.963023\n",
       "1               Albania  10.646518   11.043173\n",
       "2               Algeria  14.063803   15.011597\n",
       "3        American Samoa  10.687930   11.004269\n",
       "4  Andean Latin America  11.973561   12.787111"
      ]
     },
     "execution_count": 9,
     "metadata": {},
     "output_type": "execute_result"
    }
   ],
   "source": [
    "data = df_2017.drop(columns=['Code', 'Year'])\n",
    "data = data.reset_index(drop=True)\n",
    "data.head()"
   ]
  },
  {
   "cell_type": "code",
   "execution_count": 10,
   "metadata": {
    "scrolled": true
   },
   "outputs": [
    {
     "data": {
      "text/html": [
       "<div>\n",
       "<style scoped>\n",
       "    .dataframe tbody tr th:only-of-type {\n",
       "        vertical-align: middle;\n",
       "    }\n",
       "\n",
       "    .dataframe tbody tr th {\n",
       "        vertical-align: top;\n",
       "    }\n",
       "\n",
       "    .dataframe thead th {\n",
       "        text-align: right;\n",
       "    }\n",
       "</style>\n",
       "<table border=\"1\" class=\"dataframe\">\n",
       "  <thead>\n",
       "    <tr style=\"text-align: right;\">\n",
       "      <th></th>\n",
       "      <th>Male (%)</th>\n",
       "      <th>Female (%)</th>\n",
       "    </tr>\n",
       "  </thead>\n",
       "  <tbody>\n",
       "    <tr>\n",
       "      <th>0</th>\n",
       "      <td>16.674168</td>\n",
       "      <td>16.963023</td>\n",
       "    </tr>\n",
       "    <tr>\n",
       "      <th>1</th>\n",
       "      <td>10.646518</td>\n",
       "      <td>11.043173</td>\n",
       "    </tr>\n",
       "    <tr>\n",
       "      <th>2</th>\n",
       "      <td>14.063803</td>\n",
       "      <td>15.011597</td>\n",
       "    </tr>\n",
       "    <tr>\n",
       "      <th>3</th>\n",
       "      <td>10.687930</td>\n",
       "      <td>11.004269</td>\n",
       "    </tr>\n",
       "    <tr>\n",
       "      <th>4</th>\n",
       "      <td>11.973561</td>\n",
       "      <td>12.787111</td>\n",
       "    </tr>\n",
       "  </tbody>\n",
       "</table>\n",
       "</div>"
      ],
      "text/plain": [
       "    Male (%)  Female (%)\n",
       "0  16.674168   16.963023\n",
       "1  10.646518   11.043173\n",
       "2  14.063803   15.011597\n",
       "3  10.687930   11.004269\n",
       "4  11.973561   12.787111"
      ]
     },
     "execution_count": 10,
     "metadata": {},
     "output_type": "execute_result"
    }
   ],
   "source": [
    "#specify the Male and Female column names to be modelled\n",
    "model_data = data[['Male (%)', 'Female (%)']]\n",
    "model_data.head()"
   ]
  },
  {
   "cell_type": "markdown",
   "metadata": {},
   "source": [
    "# Modeling\n"
   ]
  },
  {
   "cell_type": "markdown",
   "metadata": {},
   "source": [
    "## Isolation Forest\n",
    "\n",
    "Isolation Forest is an unsupervised learning algorithm that identifies anomaly by isolating outliers in the data and based on the Decision Tree algorithm that also works well in higher-dimensional sets. \n",
    "\n",
    "I am using sklearn’s Isolation Forest here as it is a small dataset."
   ]
  },
  {
   "cell_type": "code",
   "execution_count": 11,
   "metadata": {},
   "outputs": [
    {
     "name": "stdout",
     "output_type": "stream",
     "text": [
      " 1    219\n",
      "-1     12\n",
      "Name: anomaly, dtype: int64\n"
     ]
    }
   ],
   "source": [
    "from sklearn.ensemble import IsolationForest\n",
    "iforest=IsolationForest(n_estimators=100, max_samples='auto', contamination=0.05, \\\n",
    "                        max_features=1.0, bootstrap=False, n_jobs=-1, random_state=42, verbose=0)\n",
    "iforest.fit(model_data)\n",
    "df_iforest = data.copy()\n",
    "\n",
    "# add anomaly scores column \n",
    "df_iforest['scores'] = iforest.decision_function(model_data)\n",
    "\n",
    "\n",
    "# add anomaly column\n",
    "df_iforest['anomaly']=iforest.predict(model_data)\n",
    "\n",
    "outliers_iforest = df_iforest[df_iforest['anomaly']==-1]\n",
    "\n",
    "#Find the number of anomalies and normal points here points classified -1 are anomalous\n",
    "print(df_iforest['anomaly'].value_counts())"
   ]
  },
  {
   "cell_type": "code",
   "execution_count": 12,
   "metadata": {},
   "outputs": [
    {
     "data": {
      "text/html": [
       "<div>\n",
       "<style scoped>\n",
       "    .dataframe tbody tr th:only-of-type {\n",
       "        vertical-align: middle;\n",
       "    }\n",
       "\n",
       "    .dataframe tbody tr th {\n",
       "        vertical-align: top;\n",
       "    }\n",
       "\n",
       "    .dataframe thead th {\n",
       "        text-align: right;\n",
       "    }\n",
       "</style>\n",
       "<table border=\"1\" class=\"dataframe\">\n",
       "  <thead>\n",
       "    <tr style=\"text-align: right;\">\n",
       "      <th></th>\n",
       "      <th>Entity</th>\n",
       "      <th>Male (%)</th>\n",
       "      <th>Female (%)</th>\n",
       "      <th>scores</th>\n",
       "      <th>anomaly</th>\n",
       "    </tr>\n",
       "  </thead>\n",
       "  <tbody>\n",
       "    <tr>\n",
       "      <th>0</th>\n",
       "      <td>Afghanistan</td>\n",
       "      <td>16.674168</td>\n",
       "      <td>16.963023</td>\n",
       "      <td>-0.045159</td>\n",
       "      <td>-1</td>\n",
       "    </tr>\n",
       "    <tr>\n",
       "      <th>10</th>\n",
       "      <td>Australasia</td>\n",
       "      <td>17.426564</td>\n",
       "      <td>19.354329</td>\n",
       "      <td>-0.096603</td>\n",
       "      <td>-1</td>\n",
       "    </tr>\n",
       "    <tr>\n",
       "      <th>11</th>\n",
       "      <td>Australia</td>\n",
       "      <td>17.468624</td>\n",
       "      <td>19.216194</td>\n",
       "      <td>-0.097537</td>\n",
       "      <td>-1</td>\n",
       "    </tr>\n",
       "    <tr>\n",
       "      <th>46</th>\n",
       "      <td>Colombia</td>\n",
       "      <td>10.433445</td>\n",
       "      <td>9.632960</td>\n",
       "      <td>-0.098532</td>\n",
       "      <td>-1</td>\n",
       "    </tr>\n",
       "    <tr>\n",
       "      <th>73</th>\n",
       "      <td>France</td>\n",
       "      <td>14.253098</td>\n",
       "      <td>18.315089</td>\n",
       "      <td>-0.013342</td>\n",
       "      <td>-1</td>\n",
       "    </tr>\n",
       "    <tr>\n",
       "      <th>80</th>\n",
       "      <td>Greenland</td>\n",
       "      <td>16.660937</td>\n",
       "      <td>18.847410</td>\n",
       "      <td>-0.063311</td>\n",
       "      <td>-1</td>\n",
       "    </tr>\n",
       "    <tr>\n",
       "      <th>97</th>\n",
       "      <td>Iran</td>\n",
       "      <td>17.059424</td>\n",
       "      <td>18.374773</td>\n",
       "      <td>-0.056481</td>\n",
       "      <td>-1</td>\n",
       "    </tr>\n",
       "    <tr>\n",
       "      <th>143</th>\n",
       "      <td>New Zealand</td>\n",
       "      <td>17.180899</td>\n",
       "      <td>20.077960</td>\n",
       "      <td>-0.151444</td>\n",
       "      <td>-1</td>\n",
       "    </tr>\n",
       "    <tr>\n",
       "      <th>148</th>\n",
       "      <td>North America</td>\n",
       "      <td>16.168288</td>\n",
       "      <td>18.085483</td>\n",
       "      <td>-0.014763</td>\n",
       "      <td>-1</td>\n",
       "    </tr>\n",
       "    <tr>\n",
       "      <th>150</th>\n",
       "      <td>Northern Ireland</td>\n",
       "      <td>15.978954</td>\n",
       "      <td>18.454494</td>\n",
       "      <td>-0.028465</td>\n",
       "      <td>-1</td>\n",
       "    </tr>\n",
       "    <tr>\n",
       "      <th>217</th>\n",
       "      <td>United States</td>\n",
       "      <td>16.263874</td>\n",
       "      <td>18.347446</td>\n",
       "      <td>-0.008565</td>\n",
       "      <td>-1</td>\n",
       "    </tr>\n",
       "    <tr>\n",
       "      <th>223</th>\n",
       "      <td>Vietnam</td>\n",
       "      <td>8.988939</td>\n",
       "      <td>10.346828</td>\n",
       "      <td>-0.157487</td>\n",
       "      <td>-1</td>\n",
       "    </tr>\n",
       "  </tbody>\n",
       "</table>\n",
       "</div>"
      ],
      "text/plain": [
       "               Entity   Male (%)  Female (%)    scores  anomaly\n",
       "0         Afghanistan  16.674168   16.963023 -0.045159       -1\n",
       "10        Australasia  17.426564   19.354329 -0.096603       -1\n",
       "11          Australia  17.468624   19.216194 -0.097537       -1\n",
       "46           Colombia  10.433445    9.632960 -0.098532       -1\n",
       "73             France  14.253098   18.315089 -0.013342       -1\n",
       "80          Greenland  16.660937   18.847410 -0.063311       -1\n",
       "97               Iran  17.059424   18.374773 -0.056481       -1\n",
       "143       New Zealand  17.180899   20.077960 -0.151444       -1\n",
       "148     North America  16.168288   18.085483 -0.014763       -1\n",
       "150  Northern Ireland  15.978954   18.454494 -0.028465       -1\n",
       "217     United States  16.263874   18.347446 -0.008565       -1\n",
       "223           Vietnam   8.988939   10.346828 -0.157487       -1"
      ]
     },
     "execution_count": 12,
     "metadata": {},
     "output_type": "execute_result"
    }
   ],
   "source": [
    "outliers_iforest"
   ]
  },
  {
   "cell_type": "markdown",
   "metadata": {},
   "source": [
    "### Evaluating the model with Visualization"
   ]
  },
  {
   "cell_type": "code",
   "execution_count": 13,
   "metadata": {},
   "outputs": [
    {
     "data": {
      "image/png": "[encoded data removed]",
      "text/plain": [
       "<Figure size 432x288 with 1 Axes>"
      ]
     },
     "metadata": {
      "needs_background": "light"
     },
     "output_type": "display_data"
    }
   ],
   "source": [
    "normal_iforest =df_iforest[df_iforest['anomaly']==1]\n",
    "\n",
    "plt.figure()\n",
    "plt.title(\"Isolation Forest\")\n",
    "plt.plot(normal_iforest['Male (%)'],normal_iforest['Female (%)'],'bx',label=\"normal points\")\n",
    "plt.plot(outliers_iforest['Male (%)'],outliers_iforest['Female (%)'],'ro',label=\"predicted outliers\")\n",
    "plt.xlabel('Male (%)')\n",
    "plt.ylabel('Female (%)')\n",
    "plt.legend(loc=\"upper left\")\n",
    "plt.show()"
   ]
  },
  {
   "cell_type": "markdown",
   "metadata": {},
   "source": [
    "## One-Class SVM \n",
    "\n",
    "One-Clase SVM can fit a tight decision boundary around a set of normal points."
   ]
  },
  {
   "cell_type": "code",
   "execution_count": 14,
   "metadata": {},
   "outputs": [],
   "source": [
    "from sklearn.svm import OneClassSVM"
   ]
  },
  {
   "cell_type": "code",
   "execution_count": 15,
   "metadata": {},
   "outputs": [
    {
     "name": "stdout",
     "output_type": "stream",
     "text": [
      " 1    220\n",
      "-1     11\n",
      "Name: anomaly, dtype: int64\n"
     ]
    }
   ],
   "source": [
    "ocsvm = OneClassSVM(nu=0.05, kernel=\"rbf\", gamma=0.1)\n",
    "ocsvm.fit(model_data)\n",
    "\n",
    "df_svm = data.copy()\n",
    "\n",
    "# add anomaly scores column \n",
    "df_svm['scores'] = ocsvm.decision_function(model_data)\n",
    "\n",
    "# add anomaly column\n",
    "df_svm['anomaly'] = ocsvm.predict(model_data)\n",
    "\n",
    "outliers_svm = df_svm[df_svm['anomaly']==-1]\n",
    "\n",
    "#Find the number of anomalies and normal points here points classified -1 are anomalous\n",
    "print(df_svm['anomaly'].value_counts())"
   ]
  },
  {
   "cell_type": "code",
   "execution_count": 16,
   "metadata": {},
   "outputs": [
    {
     "data": {
      "text/html": [
       "<div>\n",
       "<style scoped>\n",
       "    .dataframe tbody tr th:only-of-type {\n",
       "        vertical-align: middle;\n",
       "    }\n",
       "\n",
       "    .dataframe tbody tr th {\n",
       "        vertical-align: top;\n",
       "    }\n",
       "\n",
       "    .dataframe thead th {\n",
       "        text-align: right;\n",
       "    }\n",
       "</style>\n",
       "<table border=\"1\" class=\"dataframe\">\n",
       "  <thead>\n",
       "    <tr style=\"text-align: right;\">\n",
       "      <th></th>\n",
       "      <th>Entity</th>\n",
       "      <th>Male (%)</th>\n",
       "      <th>Female (%)</th>\n",
       "      <th>scores</th>\n",
       "      <th>anomaly</th>\n",
       "    </tr>\n",
       "  </thead>\n",
       "  <tbody>\n",
       "    <tr>\n",
       "      <th>0</th>\n",
       "      <td>Afghanistan</td>\n",
       "      <td>16.674168</td>\n",
       "      <td>16.963023</td>\n",
       "      <td>-0.000394</td>\n",
       "      <td>-1</td>\n",
       "    </tr>\n",
       "    <tr>\n",
       "      <th>10</th>\n",
       "      <td>Australasia</td>\n",
       "      <td>17.426564</td>\n",
       "      <td>19.354329</td>\n",
       "      <td>-0.018118</td>\n",
       "      <td>-1</td>\n",
       "    </tr>\n",
       "    <tr>\n",
       "      <th>11</th>\n",
       "      <td>Australia</td>\n",
       "      <td>17.468624</td>\n",
       "      <td>19.216194</td>\n",
       "      <td>-0.000024</td>\n",
       "      <td>-1</td>\n",
       "    </tr>\n",
       "    <tr>\n",
       "      <th>44</th>\n",
       "      <td>Chile</td>\n",
       "      <td>13.967695</td>\n",
       "      <td>18.032065</td>\n",
       "      <td>-0.000024</td>\n",
       "      <td>-1</td>\n",
       "    </tr>\n",
       "    <tr>\n",
       "      <th>46</th>\n",
       "      <td>Colombia</td>\n",
       "      <td>10.433445</td>\n",
       "      <td>9.632960</td>\n",
       "      <td>-0.293489</td>\n",
       "      <td>-1</td>\n",
       "    </tr>\n",
       "    <tr>\n",
       "      <th>77</th>\n",
       "      <td>Germany</td>\n",
       "      <td>13.177177</td>\n",
       "      <td>17.103987</td>\n",
       "      <td>-0.081881</td>\n",
       "      <td>-1</td>\n",
       "    </tr>\n",
       "    <tr>\n",
       "      <th>95</th>\n",
       "      <td>India</td>\n",
       "      <td>14.458852</td>\n",
       "      <td>14.574554</td>\n",
       "      <td>-0.000439</td>\n",
       "      <td>-1</td>\n",
       "    </tr>\n",
       "    <tr>\n",
       "      <th>114</th>\n",
       "      <td>Lesotho</td>\n",
       "      <td>14.141597</td>\n",
       "      <td>13.881278</td>\n",
       "      <td>-0.051432</td>\n",
       "      <td>-1</td>\n",
       "    </tr>\n",
       "    <tr>\n",
       "      <th>143</th>\n",
       "      <td>New Zealand</td>\n",
       "      <td>17.180899</td>\n",
       "      <td>20.077960</td>\n",
       "      <td>-0.273713</td>\n",
       "      <td>-1</td>\n",
       "    </tr>\n",
       "    <tr>\n",
       "      <th>223</th>\n",
       "      <td>Vietnam</td>\n",
       "      <td>8.988939</td>\n",
       "      <td>10.346828</td>\n",
       "      <td>-0.650662</td>\n",
       "      <td>-1</td>\n",
       "    </tr>\n",
       "    <tr>\n",
       "      <th>230</th>\n",
       "      <td>Zimbabwe</td>\n",
       "      <td>12.561063</td>\n",
       "      <td>10.740696</td>\n",
       "      <td>-0.168520</td>\n",
       "      <td>-1</td>\n",
       "    </tr>\n",
       "  </tbody>\n",
       "</table>\n",
       "</div>"
      ],
      "text/plain": [
       "          Entity   Male (%)  Female (%)    scores  anomaly\n",
       "0    Afghanistan  16.674168   16.963023 -0.000394       -1\n",
       "10   Australasia  17.426564   19.354329 -0.018118       -1\n",
       "11     Australia  17.468624   19.216194 -0.000024       -1\n",
       "44         Chile  13.967695   18.032065 -0.000024       -1\n",
       "46      Colombia  10.433445    9.632960 -0.293489       -1\n",
       "77       Germany  13.177177   17.103987 -0.081881       -1\n",
       "95         India  14.458852   14.574554 -0.000439       -1\n",
       "114      Lesotho  14.141597   13.881278 -0.051432       -1\n",
       "143  New Zealand  17.180899   20.077960 -0.273713       -1\n",
       "223      Vietnam   8.988939   10.346828 -0.650662       -1\n",
       "230     Zimbabwe  12.561063   10.740696 -0.168520       -1"
      ]
     },
     "execution_count": 16,
     "metadata": {},
     "output_type": "execute_result"
    }
   ],
   "source": [
    "outliers_svm"
   ]
  },
  {
   "cell_type": "markdown",
   "metadata": {},
   "source": [
    "### Evaluating the model with Visualization"
   ]
  },
  {
   "cell_type": "code",
   "execution_count": 17,
   "metadata": {
    "scrolled": false
   },
   "outputs": [
    {
     "data": {
      "image/png": "[encoded data removed]",
      "text/plain": [
       "<Figure size 432x288 with 1 Axes>"
      ]
     },
     "metadata": {
      "needs_background": "light"
     },
     "output_type": "display_data"
    }
   ],
   "source": [
    "normal_svm =df_svm[df_svm['anomaly']==1]\n",
    "\n",
    "plt.figure()\n",
    "plt.title(\"One-Class SVM\")\n",
    "plt.plot(normal_svm['Male (%)'],normal_svm['Female (%)'],'bx',label=\"normal points\")\n",
    "plt.plot(outliers_svm['Male (%)'],outliers_svm['Female (%)'],'ro',label=\"predicted outliers\")\n",
    "plt.xlabel('Male (%)')\n",
    "plt.ylabel('Female (%)')\n",
    "plt.legend(loc=\"upper left\")\n",
    "plt.show()"
   ]
  },
  {
   "cell_type": "markdown",
   "metadata": {},
   "source": [
    "## Density-based Spatial Clustering of Applications with Noise (DBSCAN)\n",
    "\n",
    "DBSCAN is a clustering algorithm that’s used cluster data into groups. It is also used as a density-based anomaly detection method with either single or multi-dimensional data. \n",
    "\n",
    "DBSCAN works by running a connected components algorithm across the different core points. If two core points share border points, or a core point is a border point in another core point’s neighborhood, then they’re part of the same connected component, which forms a cluster."
   ]
  },
  {
   "cell_type": "code",
   "execution_count": 18,
   "metadata": {},
   "outputs": [],
   "source": [
    "from sklearn.cluster import DBSCAN"
   ]
  },
  {
   "cell_type": "code",
   "execution_count": 19,
   "metadata": {},
   "outputs": [
    {
     "name": "stdout",
     "output_type": "stream",
     "text": [
      " 0    221\n",
      " 1      7\n",
      "-1      3\n",
      "Name: anomaly, dtype: int64\n"
     ]
    }
   ],
   "source": [
    "dbscan = DBSCAN(min_samples = 6, eps = 1)\n",
    "\n",
    "dbscan.fit(model_data)\n",
    "\n",
    "df_dbscan = data.copy()\n",
    "\n",
    "\n",
    "# add anomaly column\n",
    "df_dbscan['anomaly']=dbscan.fit_predict(model_data)\n",
    "\n",
    "outliers_dbscan = df_dbscan[df_dbscan['anomaly']==-1]\n",
    "\n",
    "#Find the number of anomalies and normal points here points classified -1 are anomalous\n",
    "print(df_dbscan['anomaly'].value_counts())"
   ]
  },
  {
   "cell_type": "code",
   "execution_count": 20,
   "metadata": {},
   "outputs": [
    {
     "data": {
      "text/html": [
       "<div>\n",
       "<style scoped>\n",
       "    .dataframe tbody tr th:only-of-type {\n",
       "        vertical-align: middle;\n",
       "    }\n",
       "\n",
       "    .dataframe tbody tr th {\n",
       "        vertical-align: top;\n",
       "    }\n",
       "\n",
       "    .dataframe thead th {\n",
       "        text-align: right;\n",
       "    }\n",
       "</style>\n",
       "<table border=\"1\" class=\"dataframe\">\n",
       "  <thead>\n",
       "    <tr style=\"text-align: right;\">\n",
       "      <th></th>\n",
       "      <th>Entity</th>\n",
       "      <th>Male (%)</th>\n",
       "      <th>Female (%)</th>\n",
       "      <th>anomaly</th>\n",
       "    </tr>\n",
       "  </thead>\n",
       "  <tbody>\n",
       "    <tr>\n",
       "      <th>0</th>\n",
       "      <td>Afghanistan</td>\n",
       "      <td>16.674168</td>\n",
       "      <td>16.963023</td>\n",
       "      <td>-1</td>\n",
       "    </tr>\n",
       "    <tr>\n",
       "      <th>143</th>\n",
       "      <td>New Zealand</td>\n",
       "      <td>17.180899</td>\n",
       "      <td>20.077960</td>\n",
       "      <td>-1</td>\n",
       "    </tr>\n",
       "    <tr>\n",
       "      <th>223</th>\n",
       "      <td>Vietnam</td>\n",
       "      <td>8.988939</td>\n",
       "      <td>10.346828</td>\n",
       "      <td>-1</td>\n",
       "    </tr>\n",
       "  </tbody>\n",
       "</table>\n",
       "</div>"
      ],
      "text/plain": [
       "          Entity   Male (%)  Female (%)  anomaly\n",
       "0    Afghanistan  16.674168   16.963023       -1\n",
       "143  New Zealand  17.180899   20.077960       -1\n",
       "223      Vietnam   8.988939   10.346828       -1"
      ]
     },
     "execution_count": 20,
     "metadata": {},
     "output_type": "execute_result"
    }
   ],
   "source": [
    "outliers_dbscan"
   ]
  },
  {
   "cell_type": "markdown",
   "metadata": {},
   "source": [
    "### Evaluating the model with silhouette score"
   ]
  },
  {
   "cell_type": "code",
   "execution_count": 21,
   "metadata": {},
   "outputs": [],
   "source": [
    "labels = dbscan.labels_"
   ]
  },
  {
   "cell_type": "code",
   "execution_count": 22,
   "metadata": {},
   "outputs": [
    {
     "name": "stdout",
     "output_type": "stream",
     "text": [
      "0.48419575381395497\n"
     ]
    }
   ],
   "source": [
    "from sklearn import metrics\n",
    "print(metrics.silhouette_score(model_data, labels))"
   ]
  },
  {
   "cell_type": "markdown",
   "metadata": {},
   "source": [
    "A silhouette score ranges from -1 to 1, with -1 being the worst score possible and 1 being the best score. Silhouette scores of 0 suggest overlapping clusters."
   ]
  },
  {
   "cell_type": "markdown",
   "metadata": {},
   "source": [
    "### Evaluating the model with Visualization"
   ]
  },
  {
   "cell_type": "code",
   "execution_count": 23,
   "metadata": {},
   "outputs": [
    {
     "data": {
      "image/png": "[encoded data removed]",
      "text/plain": [
       "<Figure size 432x288 with 1 Axes>"
      ]
     },
     "metadata": {
      "needs_background": "light"
     },
     "output_type": "display_data"
    }
   ],
   "source": [
    "normal_dbscan =df_dbscan[(df_dbscan['anomaly']==1) | (df_dbscan['anomaly']==0)]\n",
    "\n",
    "plt.figure()\n",
    "plt.title(\"DBSCAN\")\n",
    "plt.plot(normal_dbscan['Male (%)'],normal_dbscan['Female (%)'],'bx',label=\"normal points\")\n",
    "plt.plot(outliers_dbscan['Male (%)'],outliers_dbscan['Female (%)'],'ro',label=\"predicted outliers\")\n",
    "plt.xlabel('Male (%)')\n",
    "plt.ylabel('Female (%)')\n",
    "plt.legend(loc=\"upper left\")\n",
    "plt.show()"
   ]
  },
  {
   "cell_type": "code",
   "execution_count": 24,
   "metadata": {},
   "outputs": [
    {
     "data": {
      "image/png": "[encoded data removed]",
      "text/plain": [
       "<Figure size 432x288 with 1 Axes>"
      ]
     },
     "metadata": {
      "needs_background": "light"
     },
     "output_type": "display_data"
    }
   ],
   "source": [
    "plt.figure()\n",
    "plt.title(\"DBSCAN\")\n",
    "plt.scatter(model_data['Male (%)'], model_data['Female (%)'], c = labels)\n",
    "plt.xlabel('Male (%)')\n",
    "plt.ylabel('Female (%)')\n",
    "plt.show()"
   ]
  },
  {
   "cell_type": "markdown",
   "metadata": {},
   "source": [
    "## Local Outlier Factor (LOF)\n",
    "\n",
    "\n",
    "  LOF uses density-based outlier detection to identify local outliers, points that are outliers with respect to their local neighborhood, rather than with respect to the global data distribution. \n",
    "  "
   ]
  },
  {
   "cell_type": "code",
   "execution_count": 25,
   "metadata": {},
   "outputs": [
    {
     "name": "stdout",
     "output_type": "stream",
     "text": [
      " 1    221\n",
      "-1     10\n",
      "Name: anomaly, dtype: int64\n"
     ]
    }
   ],
   "source": [
    "from sklearn.neighbors import LocalOutlierFactor \n",
    "\n",
    "# K is set by passing the n_neighbors parameter with integer. \n",
    "# 20 is often considered good already to detect an outlier. By default the distance metric is Euclidean distance.\n",
    "\n",
    "lof = LocalOutlierFactor(n_neighbors = 20)\n",
    "\n",
    "lof.fit(model_data)\n",
    "\n",
    "df_lof = data.copy()\n",
    "\n",
    "# add anomaly column\n",
    "df_lof['anomaly'] = lof.fit_predict(model_data)\n",
    "\n",
    "#Getting the negative LOF score\n",
    "df_lof['negative_outlier_factor'] = lof.negative_outlier_factor_\n",
    "\n",
    "outliers_lof = df_lof[df_lof['anomaly']==-1]\n",
    "\n",
    "#Find the number of anomalies and normal points here points classified -1 are anomalous\n",
    "print(df_lof['anomaly'].value_counts())"
   ]
  },
  {
   "cell_type": "code",
   "execution_count": 26,
   "metadata": {},
   "outputs": [
    {
     "data": {
      "text/html": [
       "<div>\n",
       "<style scoped>\n",
       "    .dataframe tbody tr th:only-of-type {\n",
       "        vertical-align: middle;\n",
       "    }\n",
       "\n",
       "    .dataframe tbody tr th {\n",
       "        vertical-align: top;\n",
       "    }\n",
       "\n",
       "    .dataframe thead th {\n",
       "        text-align: right;\n",
       "    }\n",
       "</style>\n",
       "<table border=\"1\" class=\"dataframe\">\n",
       "  <thead>\n",
       "    <tr style=\"text-align: right;\">\n",
       "      <th></th>\n",
       "      <th>Entity</th>\n",
       "      <th>Male (%)</th>\n",
       "      <th>Female (%)</th>\n",
       "      <th>anomaly</th>\n",
       "      <th>negative_outlier_factor</th>\n",
       "    </tr>\n",
       "  </thead>\n",
       "  <tbody>\n",
       "    <tr>\n",
       "      <th>10</th>\n",
       "      <td>Australasia</td>\n",
       "      <td>17.426564</td>\n",
       "      <td>19.354329</td>\n",
       "      <td>-1</td>\n",
       "      <td>-1.683786</td>\n",
       "    </tr>\n",
       "    <tr>\n",
       "      <th>11</th>\n",
       "      <td>Australia</td>\n",
       "      <td>17.468624</td>\n",
       "      <td>19.216194</td>\n",
       "      <td>-1</td>\n",
       "      <td>-1.667650</td>\n",
       "    </tr>\n",
       "    <tr>\n",
       "      <th>32</th>\n",
       "      <td>Cambodia</td>\n",
       "      <td>11.005699</td>\n",
       "      <td>11.864834</td>\n",
       "      <td>-1</td>\n",
       "      <td>-1.524956</td>\n",
       "    </tr>\n",
       "    <tr>\n",
       "      <th>46</th>\n",
       "      <td>Colombia</td>\n",
       "      <td>10.433445</td>\n",
       "      <td>9.632960</td>\n",
       "      <td>-1</td>\n",
       "      <td>-2.855041</td>\n",
       "    </tr>\n",
       "    <tr>\n",
       "      <th>125</th>\n",
       "      <td>Maldives</td>\n",
       "      <td>10.653009</td>\n",
       "      <td>11.666074</td>\n",
       "      <td>-1</td>\n",
       "      <td>-1.542887</td>\n",
       "    </tr>\n",
       "    <tr>\n",
       "      <th>130</th>\n",
       "      <td>Mauritius</td>\n",
       "      <td>10.828345</td>\n",
       "      <td>11.775893</td>\n",
       "      <td>-1</td>\n",
       "      <td>-1.510253</td>\n",
       "    </tr>\n",
       "    <tr>\n",
       "      <th>140</th>\n",
       "      <td>Namibia</td>\n",
       "      <td>12.730088</td>\n",
       "      <td>11.479818</td>\n",
       "      <td>-1</td>\n",
       "      <td>-1.570546</td>\n",
       "    </tr>\n",
       "    <tr>\n",
       "      <th>143</th>\n",
       "      <td>New Zealand</td>\n",
       "      <td>17.180899</td>\n",
       "      <td>20.077960</td>\n",
       "      <td>-1</td>\n",
       "      <td>-1.781622</td>\n",
       "    </tr>\n",
       "    <tr>\n",
       "      <th>223</th>\n",
       "      <td>Vietnam</td>\n",
       "      <td>8.988939</td>\n",
       "      <td>10.346828</td>\n",
       "      <td>-1</td>\n",
       "      <td>-3.452915</td>\n",
       "    </tr>\n",
       "    <tr>\n",
       "      <th>230</th>\n",
       "      <td>Zimbabwe</td>\n",
       "      <td>12.561063</td>\n",
       "      <td>10.740696</td>\n",
       "      <td>-1</td>\n",
       "      <td>-2.700718</td>\n",
       "    </tr>\n",
       "  </tbody>\n",
       "</table>\n",
       "</div>"
      ],
      "text/plain": [
       "          Entity   Male (%)  Female (%)  anomaly  negative_outlier_factor\n",
       "10   Australasia  17.426564   19.354329       -1                -1.683786\n",
       "11     Australia  17.468624   19.216194       -1                -1.667650\n",
       "32      Cambodia  11.005699   11.864834       -1                -1.524956\n",
       "46      Colombia  10.433445    9.632960       -1                -2.855041\n",
       "125     Maldives  10.653009   11.666074       -1                -1.542887\n",
       "130    Mauritius  10.828345   11.775893       -1                -1.510253\n",
       "140      Namibia  12.730088   11.479818       -1                -1.570546\n",
       "143  New Zealand  17.180899   20.077960       -1                -1.781622\n",
       "223      Vietnam   8.988939   10.346828       -1                -3.452915\n",
       "230     Zimbabwe  12.561063   10.740696       -1                -2.700718"
      ]
     },
     "execution_count": 26,
     "metadata": {},
     "output_type": "execute_result"
    }
   ],
   "source": [
    "outliers_lof"
   ]
  },
  {
   "cell_type": "markdown",
   "metadata": {},
   "source": [
    "Outlier depends on the LOF score. By default, if the score of the negative_outlier_score is less than -1.5, it would be considered as the outlier."
   ]
  },
  {
   "cell_type": "markdown",
   "metadata": {},
   "source": [
    "### Evaluating the model with Visualization"
   ]
  },
  {
   "cell_type": "code",
   "execution_count": 27,
   "metadata": {
    "scrolled": false
   },
   "outputs": [
    {
     "data": {
      "image/png": "[encoded data removed]",
      "text/plain": [
       "<Figure size 432x288 with 1 Axes>"
      ]
     },
     "metadata": {
      "needs_background": "light"
     },
     "output_type": "display_data"
    }
   ],
   "source": [
    "normal_lof =df_lof[df_lof['anomaly']==1]\n",
    "\n",
    "plt.figure()\n",
    "plt.title(\"Local Outlier Factor (LOF)\")\n",
    "plt.plot(normal_lof['Male (%)'],normal_lof['Female (%)'],'bx',label=\"normal points\")\n",
    "plt.plot(outliers_lof['Male (%)'],outliers_lof['Female (%)'],'ro',label=\"predicted outliers\")\n",
    "plt.xlabel('Male (%)')\n",
    "plt.ylabel('Female (%)')\n",
    "plt.legend(loc=\"upper left\")\n",
    "plt.show()"
   ]
  },
  {
   "cell_type": "markdown",
   "metadata": {},
   "source": [
    "## Elliptic Envelope"
   ]
  },
  {
   "cell_type": "code",
   "execution_count": 28,
   "metadata": {},
   "outputs": [
    {
     "name": "stdout",
     "output_type": "stream",
     "text": [
      " 1    219\n",
      "-1     12\n",
      "Name: anomaly, dtype: int64\n"
     ]
    }
   ],
   "source": [
    "from sklearn.covariance import EllipticEnvelope\n",
    "\n",
    "df_ee = data.copy()\n",
    "\n",
    "ee = EllipticEnvelope(contamination=.05)\n",
    "ee.fit(model_data)\n",
    "\n",
    "# add scores column\n",
    "df_ee['scores'] = ee.decision_function(model_data)\n",
    "\n",
    "# add anomaly column\n",
    "df_ee['anomaly'] = ee.predict(model_data)\n",
    "\n",
    "outliers_ee = df_ee[df_ee['anomaly']==-1]\n",
    "\n",
    "#Find the number of anomalies and normal points here points classified -1 are anomalous\n",
    "print(df_ee['anomaly'].value_counts())"
   ]
  },
  {
   "cell_type": "code",
   "execution_count": 29,
   "metadata": {},
   "outputs": [
    {
     "data": {
      "text/html": [
       "<div>\n",
       "<style scoped>\n",
       "    .dataframe tbody tr th:only-of-type {\n",
       "        vertical-align: middle;\n",
       "    }\n",
       "\n",
       "    .dataframe tbody tr th {\n",
       "        vertical-align: top;\n",
       "    }\n",
       "\n",
       "    .dataframe thead th {\n",
       "        text-align: right;\n",
       "    }\n",
       "</style>\n",
       "<table border=\"1\" class=\"dataframe\">\n",
       "  <thead>\n",
       "    <tr style=\"text-align: right;\">\n",
       "      <th></th>\n",
       "      <th>Entity</th>\n",
       "      <th>Male (%)</th>\n",
       "      <th>Female (%)</th>\n",
       "      <th>scores</th>\n",
       "      <th>anomaly</th>\n",
       "    </tr>\n",
       "  </thead>\n",
       "  <tbody>\n",
       "    <tr>\n",
       "      <th>8</th>\n",
       "      <td>Argentina</td>\n",
       "      <td>13.698439</td>\n",
       "      <td>17.598748</td>\n",
       "      <td>-19.662857</td>\n",
       "      <td>-1</td>\n",
       "    </tr>\n",
       "    <tr>\n",
       "      <th>10</th>\n",
       "      <td>Australasia</td>\n",
       "      <td>17.426564</td>\n",
       "      <td>19.354329</td>\n",
       "      <td>-3.024002</td>\n",
       "      <td>-1</td>\n",
       "    </tr>\n",
       "    <tr>\n",
       "      <th>11</th>\n",
       "      <td>Australia</td>\n",
       "      <td>17.468624</td>\n",
       "      <td>19.216194</td>\n",
       "      <td>-2.009647</td>\n",
       "      <td>-1</td>\n",
       "    </tr>\n",
       "    <tr>\n",
       "      <th>44</th>\n",
       "      <td>Chile</td>\n",
       "      <td>13.967695</td>\n",
       "      <td>18.032065</td>\n",
       "      <td>-23.929459</td>\n",
       "      <td>-1</td>\n",
       "    </tr>\n",
       "    <tr>\n",
       "      <th>73</th>\n",
       "      <td>France</td>\n",
       "      <td>14.253098</td>\n",
       "      <td>18.315089</td>\n",
       "      <td>-24.185380</td>\n",
       "      <td>-1</td>\n",
       "    </tr>\n",
       "    <tr>\n",
       "      <th>77</th>\n",
       "      <td>Germany</td>\n",
       "      <td>13.177177</td>\n",
       "      <td>17.103987</td>\n",
       "      <td>-20.256060</td>\n",
       "      <td>-1</td>\n",
       "    </tr>\n",
       "    <tr>\n",
       "      <th>80</th>\n",
       "      <td>Greenland</td>\n",
       "      <td>16.660937</td>\n",
       "      <td>18.847410</td>\n",
       "      <td>-0.052283</td>\n",
       "      <td>-1</td>\n",
       "    </tr>\n",
       "    <tr>\n",
       "      <th>143</th>\n",
       "      <td>New Zealand</td>\n",
       "      <td>17.180899</td>\n",
       "      <td>20.077960</td>\n",
       "      <td>-12.519582</td>\n",
       "      <td>-1</td>\n",
       "    </tr>\n",
       "    <tr>\n",
       "      <th>190</th>\n",
       "      <td>Southern Latin America</td>\n",
       "      <td>13.776901</td>\n",
       "      <td>17.715801</td>\n",
       "      <td>-20.652909</td>\n",
       "      <td>-1</td>\n",
       "    </tr>\n",
       "    <tr>\n",
       "      <th>192</th>\n",
       "      <td>Spain</td>\n",
       "      <td>14.458826</td>\n",
       "      <td>17.804548</td>\n",
       "      <td>-8.383332</td>\n",
       "      <td>-1</td>\n",
       "    </tr>\n",
       "    <tr>\n",
       "      <th>198</th>\n",
       "      <td>Sweden</td>\n",
       "      <td>14.049222</td>\n",
       "      <td>17.059905</td>\n",
       "      <td>-1.300998</td>\n",
       "      <td>-1</td>\n",
       "    </tr>\n",
       "    <tr>\n",
       "      <th>219</th>\n",
       "      <td>Uruguay</td>\n",
       "      <td>13.775042</td>\n",
       "      <td>17.557468</td>\n",
       "      <td>-16.894593</td>\n",
       "      <td>-1</td>\n",
       "    </tr>\n",
       "  </tbody>\n",
       "</table>\n",
       "</div>"
      ],
      "text/plain": [
       "                     Entity   Male (%)  Female (%)     scores  anomaly\n",
       "8                 Argentina  13.698439   17.598748 -19.662857       -1\n",
       "10              Australasia  17.426564   19.354329  -3.024002       -1\n",
       "11                Australia  17.468624   19.216194  -2.009647       -1\n",
       "44                    Chile  13.967695   18.032065 -23.929459       -1\n",
       "73                   France  14.253098   18.315089 -24.185380       -1\n",
       "77                  Germany  13.177177   17.103987 -20.256060       -1\n",
       "80                Greenland  16.660937   18.847410  -0.052283       -1\n",
       "143             New Zealand  17.180899   20.077960 -12.519582       -1\n",
       "190  Southern Latin America  13.776901   17.715801 -20.652909       -1\n",
       "192                   Spain  14.458826   17.804548  -8.383332       -1\n",
       "198                  Sweden  14.049222   17.059905  -1.300998       -1\n",
       "219                 Uruguay  13.775042   17.557468 -16.894593       -1"
      ]
     },
     "execution_count": 29,
     "metadata": {},
     "output_type": "execute_result"
    }
   ],
   "source": [
    "outliers_ee"
   ]
  },
  {
   "cell_type": "markdown",
   "metadata": {},
   "source": [
    "### Evaluating the model with Visualization"
   ]
  },
  {
   "cell_type": "code",
   "execution_count": 30,
   "metadata": {
    "scrolled": false
   },
   "outputs": [
    {
     "data": {
      "image/png": "[encoded data removed]",
      "text/plain": [
       "<Figure size 432x288 with 1 Axes>"
      ]
     },
     "metadata": {
      "needs_background": "light"
     },
     "output_type": "display_data"
    }
   ],
   "source": [
    "normal_ee =df_ee[df_ee['anomaly']==1]\n",
    "\n",
    "plt.figure()\n",
    "plt.title(\"Elliptic Envelope\")\n",
    "plt.plot(normal_ee['Male (%)'],normal_ee['Female (%)'],'bx',label=\"normal points\")\n",
    "plt.plot(outliers_ee['Male (%)'],outliers_ee['Female (%)'],'ro',label=\"predicted outliers\")\n",
    "plt.xlabel('Male (%)')\n",
    "plt.ylabel('Female (%)')\n",
    "plt.legend(loc=\"upper left\")\n",
    "plt.show()"
   ]
  },
  {
   "cell_type": "markdown",
   "metadata": {},
   "source": [
    "# Identify the Final Model"
   ]
  },
  {
   "cell_type": "markdown",
   "metadata": {},
   "source": [
    "From the figures for normal and outlier points, it looks like **One-Class** SVM better predict the outliers. "
   ]
  },
  {
   "cell_type": "code",
   "execution_count": null,
   "metadata": {},
   "outputs": [],
   "source": []
  }
 ],
 "metadata": {
  "kernelspec": {
   "display_name": "Python 3",
   "language": "python",
   "name": "python3"
  },
  "language_info": {
   "codemirror_mode": {
    "name": "ipython",
    "version": 3
   },
   "file_extension": ".py",
   "mimetype": "text/x-python",
   "name": "python",
   "nbconvert_exporter": "python",
   "pygments_lexer": "ipython3",
   "version": "3.7.6"
  }
 },
 "nbformat": 4,
 "nbformat_minor": 4
}
